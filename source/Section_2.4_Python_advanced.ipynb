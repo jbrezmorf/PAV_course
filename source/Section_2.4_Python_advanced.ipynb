{
 "cells": [
  {
   "cell_type": "markdown",
   "metadata": {},
   "source": [
    "# 2.4.1 Comprehensions\n",
    "\n",
    "Efektivní zápis konstrukce listů, dictionary, množin a generátorů.\n",
    "Umožňuje též filtrování a transformace těchto složených typů.\n",
    "\n",
    "Syntaxe pro tvorbu listů:\n",
    "\n",
    "    [ <expression> for x in seq if <condition> ]\n",
    "    \n",
    "Pro každý prvek `x` v sekvenci `seq`, který splňuje `<condition>` se vyhodnotí `<expression>` a přidá se do nového pole. Podobně lze tvořit množiny a dictionary. \n",
    "[Podrobný popis a příklady.](http://python-3-patterns-idioms-test.readthedocs.io/en/latest/Comprehensions.html)\n"
   ]
  },
  {
   "cell_type": "code",
   "execution_count": null,
   "metadata": {},
   "outputs": [],
   "source": []
  },
  {
   "cell_type": "code",
   "execution_count": 1,
   "metadata": {},
   "outputs": [
    {
     "data": {
      "text/plain": [
       "[1, 4, 16, 25, 49, 64, 100]"
      ]
     },
     "execution_count": 1,
     "metadata": {},
     "output_type": "execute_result"
    }
   ],
   "source": [
    "# List of squares for integers not divisible by 3.\n",
    "\n",
    "[ i ** 2 for i in range(1, 11) if i%3 > 0]\n"
   ]
  },
  {
   "cell_type": "code",
   "execution_count": 9,
   "metadata": {},
   "outputs": [
    {
     "name": "stdout",
     "output_type": "stream",
     "text": [
      "<generator object <genexpr> at 0x7f0071e727b0>\n",
      "-1\n",
      "4\n",
      "-9\n"
     ]
    }
   ],
   "source": [
    "l = ( v**2 if v%2==0 else -v**2 for v in range(1,4) )\n",
    "print(l)  # Not a list just generator.\n",
    "\n",
    "# we can iterate over it, but only once\n",
    "for i in l:\n",
    "    print(i)\n",
    "    \n",
    "for i in l:\n",
    "    print(\"other round:\", i)"
   ]
  },
  {
   "cell_type": "code",
   "execution_count": null,
   "metadata": {},
   "outputs": [],
   "source": [
    "# Ekvivalent but using for loop.\n",
    "l = []\n",
    "for v in range(1,4):\n",
    "    if v%2==0:\n",
    "        l.append(v**2)\n",
    "    else:\n",
    "        l.append(-v**2)"
   ]
  },
  {
   "cell_type": "code",
   "execution_count": 1,
   "metadata": {},
   "outputs": [
    {
     "name": "stdout",
     "output_type": "stream",
     "text": [
      "{1: 1, 3: 9, 5: 25}\n"
     ]
    }
   ],
   "source": [
    "# Druhé mocniny lichých čísel. Do dictionary.\n",
    "print({ i:i**2 for i in range(7) if i%2 == 1 })"
   ]
  },
  {
   "cell_type": "code",
   "execution_count": 2,
   "metadata": {},
   "outputs": [
    {
     "name": "stdout",
     "output_type": "stream",
     "text": [
      "{1, 9, 25}\n"
     ]
    }
   ],
   "source": [
    "# Druhé mocniny lichých čísel. Do množiny.\n",
    "print({ i**2 for i in range(7) if i%2 == 1 })"
   ]
  },
  {
   "cell_type": "code",
   "execution_count": 6,
   "metadata": {},
   "outputs": [
    {
     "data": {
      "text/plain": [
       "[[], [0], [0, 1], [0, 1, 2]]"
      ]
     },
     "execution_count": 6,
     "metadata": {},
     "output_type": "execute_result"
    }
   ],
   "source": [
    "# Nested  comprehentions are possible.\n",
    "[\n",
    "    [i for i in range(n)] \n",
    "    for n in range(4)\n",
    "]"
   ]
  },
  {
   "cell_type": "code",
   "execution_count": 5,
   "metadata": {},
   "outputs": [
    {
     "data": {
      "text/plain": [
       "{1: 'a', 2: 'b', 3: 'c'}"
      ]
     },
     "execution_count": 5,
     "metadata": {},
     "output_type": "execute_result"
    }
   ],
   "source": [
    "d = {1:\"A\", 2:\"B\", 3:\"C\"}\n",
    "\n",
    "{ k: v.lower()  for k, v in d.items()}"
   ]
  },
  {
   "cell_type": "markdown",
   "metadata": {},
   "source": [
    "**Cvičení**\n",
    "Přepište následující funkci pomocí comprehension."
   ]
  },
  {
   "cell_type": "code",
   "execution_count": 2,
   "metadata": {},
   "outputs": [],
   "source": [
    "def make_sequence( a, b, step=1, power = 1):\n",
    "    \"\"\"\n",
    "    Make a sequence a**p, ..., b**p.\n",
    "    :param a: float, first value base\n",
    "    :param b: float, end value base (last base is less then b)\n",
    "    :param step: float, step of base values\n",
    "    :param power: float, common power of resulting values\n",
    "    :return ...\n",
    "    \"\"\"\n",
    "    x = a\n",
    "    sequence = []\n",
    "    while x < b:\n",
    "        sequence.append(x**power)\n",
    "        x += step\n",
    "    return sequence"
   ]
  },
  {
   "cell_type": "code",
   "execution_count": 45,
   "metadata": {},
   "outputs": [
    {
     "data": {
      "text/plain": [
       "[1.1, 2.1, 3.1]"
      ]
     },
     "execution_count": 45,
     "metadata": {},
     "output_type": "execute_result"
    }
   ],
   "source": [
    "make_sequence(1.1, 4)"
   ]
  },
  {
   "cell_type": "code",
   "execution_count": 47,
   "metadata": {},
   "outputs": [
    {
     "data": {
      "text/plain": [
       "[1.1, 3.1, 5.1, 7.1, 9.1]"
      ]
     },
     "execution_count": 47,
     "metadata": {},
     "output_type": "execute_result"
    }
   ],
   "source": [
    "make_sequence(1.1, 10, step = 2)"
   ]
  },
  {
   "cell_type": "code",
   "execution_count": 3,
   "metadata": {
    "scrolled": true
   },
   "outputs": [
    {
     "data": {
      "text/plain": [
       "[1, 9, 25, 49, 81]"
      ]
     },
     "execution_count": 3,
     "metadata": {},
     "output_type": "execute_result"
    }
   ],
   "source": [
    "make_sequence(1, 10, step = 2, power=2)"
   ]
  },
  {
   "cell_type": "markdown",
   "metadata": {},
   "source": [
    "# 2.4.2 Typová kontrola\n",
    "\n",
    "- `from typing import *`\n",
    "- int, float, bool, ...\n",
    "- `List[<type>]`\n",
    "- `Dict[<key_type>, <val_type>]`\n",
    "- `Tuple`\n",
    "- `Union`\n",
    "- `set`\n",
    "- `Any`\n",
    "- zamýšleno pro statickou kontrolu kódu: ... PyCharm \n"
   ]
  },
  {
   "cell_type": "code",
   "execution_count": 4,
   "metadata": {},
   "outputs": [],
   "source": [
    "from typing import *\n",
    "\n",
    "def fn(field: List[float]) -> float:\n",
    "    pass\n",
    "\n",
    "def fn1(field: Union[List[float], Dict[int, float]]) -> float:\n",
    "    pass\n",
    "    \n",
    "    \n",
    "class A:\n",
    "    pass\n",
    "\n",
    "a: A  = A()"
   ]
  },
  {
   "cell_type": "code",
   "execution_count": null,
   "metadata": {},
   "outputs": [],
   "source": []
  },
  {
   "cell_type": "code",
   "execution_count": null,
   "metadata": {},
   "outputs": [],
   "source": []
  },
  {
   "cell_type": "markdown",
   "metadata": {},
   "source": [
    "# 2.3.2 Třídy\n",
    "\n",
    "- `class` definice\n",
    "- `self` parametr\n",
    "- dědičnost\n",
    "- atributy třídy vs. atributy objektu\n",
    "- `__dict__` - dict obsahující atributy\n",
    "- `hasattr(obj, attr_name)` \n",
    "- knihovna `attrs`\n",
    "\n"
   ]
  },
  {
   "cell_type": "code",
   "execution_count": 3,
   "metadata": {},
   "outputs": [
    {
     "name": "stdout",
     "output_type": "stream",
     "text": [
      "2.5 4.0 True\n"
     ]
    }
   ],
   "source": [
    "class Point:\n",
    "    \n",
    "    @classmethod\n",
    "    def on_line(cls, t:float, a:'Point', b:'Point') -> 'Point':\n",
    "        x = a.x + t*b.x\n",
    "        y = a.y + t*b.y\n",
    "        return cls(x, y)\n",
    "    \n",
    "    def __init__(self, x, y, z=None):\n",
    "        self.x = x\n",
    "        self.y = y\n",
    "        self.z = z\n",
    "        \n",
    "\n",
    "aa = Point(1,2)\n",
    "bb = Point.on_line(0.5, Point(1,2), Point(3,4))\n",
    "aa.c = 4\n",
    "print(bb.x, bb.y, hasattr(aa, 'c'))"
   ]
  },
  {
   "cell_type": "code",
   "execution_count": 21,
   "metadata": {},
   "outputs": [
    {
     "name": "stdout",
     "output_type": "stream",
     "text": [
      "9801248 9801248\n",
      "{'y': 1}\n"
     ]
    }
   ],
   "source": [
    "class A:\n",
    "    x:int = 1\n",
    "    \n",
    "    def fn(self):\n",
    "        self.y = self.x\n",
    "\n",
    "a = A()\n",
    "b = A()\n",
    "print(id(a.x), id(b.x))\n",
    "\n",
    "a.fn()\n",
    "\n",
    "\n",
    "print(a.__dict__)"
   ]
  },
  {
   "cell_type": "code",
   "execution_count": 1,
   "metadata": {},
   "outputs": [
    {
     "ename": "AttributeError",
     "evalue": "'_CountingAttr' object has no attribute '__dict__'",
     "output_type": "error",
     "traceback": [
      "\u001b[0;31m---------------------------------------------------------------------------\u001b[0m",
      "\u001b[0;31mAttributeError\u001b[0m                            Traceback (most recent call last)",
      "Cell \u001b[0;32mIn[1], line 5\u001b[0m\n\u001b[1;32m      1\u001b[0m \u001b[38;5;28;01mimport\u001b[39;00m \u001b[38;5;21;01mattrs\u001b[39;00m\n\u001b[1;32m      3\u001b[0m a \u001b[38;5;241m=\u001b[39m attrs\u001b[38;5;241m.\u001b[39mfield()\n\u001b[0;32m----> 5\u001b[0m \u001b[38;5;28mprint\u001b[39m(\u001b[43ma\u001b[49m\u001b[38;5;241;43m.\u001b[39;49m\u001b[38;5;18;43m__dict__\u001b[39;49m)\n",
      "\u001b[0;31mAttributeError\u001b[0m: '_CountingAttr' object has no attribute '__dict__'"
     ]
    }
   ],
   "source": [
    "import attrs\n",
    "\n",
    "a = attrs.field()\n",
    "\n",
    "print(a.__dict__)\n"
   ]
  },
  {
   "cell_type": "markdown",
   "metadata": {},
   "source": [
    "## Knihovna attrs\n",
    "\n",
    "Pohodlná tvorba datových tříd.\n"
   ]
  },
  {
   "cell_type": "code",
   "execution_count": 4,
   "metadata": {},
   "outputs": [],
   "source": [
    "import attrs\n",
    "\n",
    "# Object attributes defined by the class attributes.\n",
    "# Indicated by specifying type.\n",
    "@attrs.define\n",
    "class Data:\n",
    "    p: Point\n",
    "    i: int = 0\n",
    "    f: float = 1.0\n",
    "    s: str = \"\"\n",
    "        \n",
    "    def ifs(self):\n",
    "        return f\"i: {self.i}, f: {self.f}, s: {self.s}\""
   ]
  },
  {
   "cell_type": "code",
   "execution_count": 29,
   "metadata": {},
   "outputs": [
    {
     "name": "stdout",
     "output_type": "stream",
     "text": [
      "i: 0, f: 1.0, s: \n"
     ]
    }
   ],
   "source": [
    "p = Point(1,2)\n",
    "d = Data(p)\n",
    "print(d.ifs())"
   ]
  },
  {
   "cell_type": "code",
   "execution_count": 5,
   "metadata": {},
   "outputs": [
    {
     "ename": "AttributeError",
     "evalue": "module attrs has no attribute ib",
     "output_type": "error",
     "traceback": [
      "\u001b[0;31m---------------------------------------------------------------------------\u001b[0m",
      "\u001b[0;31mAttributeError\u001b[0m                            Traceback (most recent call last)",
      "Cell \u001b[0;32mIn[5], line 5\u001b[0m\n\u001b[1;32m      1\u001b[0m \u001b[38;5;66;03m# Specification through the `field` is more flexible.\u001b[39;00m\n\u001b[1;32m      2\u001b[0m \u001b[38;5;66;03m# Class or static methods should be used for non-default construction.\u001b[39;00m\n\u001b[1;32m      4\u001b[0m \u001b[38;5;129;43m@attrs\u001b[39;49m\u001b[38;5;241;43m.\u001b[39;49m\u001b[43mdefine\u001b[49m\n\u001b[0;32m----> 5\u001b[0m \u001b[38;5;28;43;01mclass\u001b[39;49;00m\u001b[43m \u001b[49m\u001b[38;5;21;43;01mDay\u001b[39;49;00m\u001b[43m:\u001b[49m\n\u001b[1;32m      6\u001b[0m \u001b[43m    \u001b[49m\u001b[38;5;129;43m@classmethod\u001b[39;49m\n\u001b[1;32m      7\u001b[0m \u001b[43m    \u001b[49m\u001b[38;5;28;43;01mdef\u001b[39;49;00m\u001b[43m \u001b[49m\u001b[38;5;21;43mfrom_int\u001b[39;49m\u001b[43m(\u001b[49m\u001b[38;5;28;43mcls\u001b[39;49m\u001b[43m,\u001b[49m\u001b[43m \u001b[49m\u001b[43mi\u001b[49m\u001b[43m:\u001b[49m\u001b[38;5;28;43mint\u001b[39;49m\u001b[43m)\u001b[49m\u001b[43m:\u001b[49m\n\u001b[1;32m      8\u001b[0m \u001b[43m        \u001b[49m\u001b[43mdays\u001b[49m\u001b[43m \u001b[49m\u001b[38;5;241;43m=\u001b[39;49m\u001b[43m \u001b[49m\u001b[43m[\u001b[49m\u001b[38;5;124;43m'\u001b[39;49m\u001b[38;5;124;43mMo\u001b[39;49m\u001b[38;5;124;43m'\u001b[39;49m\u001b[43m,\u001b[49m\u001b[43m \u001b[49m\u001b[38;5;124;43m'\u001b[39;49m\u001b[38;5;124;43mTu\u001b[39;49m\u001b[38;5;124;43m'\u001b[39;49m\u001b[43m,\u001b[49m\u001b[43m \u001b[49m\u001b[38;5;124;43m'\u001b[39;49m\u001b[38;5;124;43mWe\u001b[39;49m\u001b[38;5;124;43m'\u001b[39;49m\u001b[43m,\u001b[49m\u001b[43m \u001b[49m\u001b[38;5;124;43m'\u001b[39;49m\u001b[38;5;124;43mTh\u001b[39;49m\u001b[38;5;124;43m'\u001b[39;49m\u001b[43m,\u001b[49m\u001b[43m \u001b[49m\u001b[38;5;124;43m'\u001b[39;49m\u001b[38;5;124;43mFr\u001b[39;49m\u001b[38;5;124;43m'\u001b[39;49m\u001b[43m,\u001b[49m\u001b[43m \u001b[49m\u001b[38;5;124;43m'\u001b[39;49m\u001b[38;5;124;43mSa\u001b[39;49m\u001b[38;5;124;43m'\u001b[39;49m\u001b[43m,\u001b[49m\u001b[43m \u001b[49m\u001b[38;5;124;43m'\u001b[39;49m\u001b[38;5;124;43mSu\u001b[39;49m\u001b[38;5;124;43m'\u001b[39;49m\u001b[43m]\u001b[49m\n",
      "Cell \u001b[0;32mIn[5], line 13\u001b[0m, in \u001b[0;36mDay\u001b[0;34m()\u001b[0m\n\u001b[1;32m     11\u001b[0m name:\u001b[38;5;28mstr\u001b[39m \u001b[38;5;241m=\u001b[39m attrs\u001b[38;5;241m.\u001b[39mfield()\n\u001b[1;32m     12\u001b[0m _ii \u001b[38;5;241m=\u001b[39m attrs\u001b[38;5;241m.\u001b[39mfield(init\u001b[38;5;241m=\u001b[39m\u001b[38;5;28;01mFalse\u001b[39;00m, default\u001b[38;5;241m=\u001b[39m\u001b[38;5;241m42\u001b[39m)  \n\u001b[0;32m---> 13\u001b[0m _jj \u001b[38;5;241m=\u001b[39m \u001b[43mattrs\u001b[49m\u001b[38;5;241;43m.\u001b[39;49m\u001b[43mib\u001b[49m(\u001b[38;5;28mtype\u001b[39m\u001b[38;5;241m=\u001b[39m\u001b[38;5;241m.\u001b[39m\u001b[38;5;241m.\u001b[39m\u001b[38;5;241m.\u001b[39m)\n",
      "File \u001b[0;32m/usr/local/lib/python3.11/site-packages/attr/__init__.py:96\u001b[0m, in \u001b[0;36m_make_getattr.<locals>.__getattr__\u001b[0;34m(name)\u001b[0m\n\u001b[1;32m     94\u001b[0m \u001b[38;5;28;01mif\u001b[39;00m name \u001b[38;5;129;01mnot\u001b[39;00m \u001b[38;5;129;01min\u001b[39;00m dunder_to_metadata:\n\u001b[1;32m     95\u001b[0m     msg \u001b[38;5;241m=\u001b[39m \u001b[38;5;124mf\u001b[39m\u001b[38;5;124m\"\u001b[39m\u001b[38;5;124mmodule \u001b[39m\u001b[38;5;132;01m{\u001b[39;00mmod_name\u001b[38;5;132;01m}\u001b[39;00m\u001b[38;5;124m has no attribute \u001b[39m\u001b[38;5;132;01m{\u001b[39;00mname\u001b[38;5;132;01m}\u001b[39;00m\u001b[38;5;124m\"\u001b[39m\n\u001b[0;32m---> 96\u001b[0m     \u001b[38;5;28;01mraise\u001b[39;00m \u001b[38;5;167;01mAttributeError\u001b[39;00m(msg)\n\u001b[1;32m     98\u001b[0m \u001b[38;5;28;01mimport\u001b[39;00m \u001b[38;5;21;01msys\u001b[39;00m\n\u001b[1;32m     99\u001b[0m \u001b[38;5;28;01mimport\u001b[39;00m \u001b[38;5;21;01mwarnings\u001b[39;00m\n",
      "\u001b[0;31mAttributeError\u001b[0m: module attrs has no attribute ib"
     ]
    }
   ],
   "source": [
    "# Specification through the `field` is more flexible.\n",
    "# Class or static methods should be used for non-default construction.\n",
    "\n",
    "@attrs.define\n",
    "class Day:\n",
    "    @classmethod\n",
    "    def from_int(cls, i:int):\n",
    "        days = ['Mo', 'Tu', 'We', 'Th', 'Fr', 'Sa', 'Su']\n",
    "        return cls(days[i]) \n",
    "    \n",
    "    name:str = attrs.field()\n",
    "    _ii = attrs.field(init=False, default=42)  \n",
    "    _jj = attrs.ib(type=...) \n",
    "    \n",
    "    "
   ]
  },
  {
   "cell_type": "code",
   "execution_count": 37,
   "metadata": {},
   "outputs": [
    {
     "name": "stdout",
     "output_type": "stream",
     "text": [
      "Day(name='Mon', _ii=42) Day(name='Mo', _ii=42)\n"
     ]
    }
   ],
   "source": [
    "print(Day('Mon'), Day.from_int(0))"
   ]
  },
  {
   "cell_type": "markdown",
   "metadata": {},
   "source": [
    "# 2.3.3 Dekorátory\n",
    "\n",
    "Syntaxe:\n",
    "```\n",
    "    @decorator\n",
    "    def fn(...):\n",
    "        ...\n",
    "        \n",
    "    @other_decorator\n",
    "    def class(...):\n",
    "        ...\n",
    "```\n",
    "\n",
    "Dekorátor je funkce, která funkci nebo třídu jako parametr a vrací jinou definici.\n",
    "Lze místo funkce vracet třídu a naopak (speciální využití).\n",
    "\n"
   ]
  },
  {
   "cell_type": "code",
   "execution_count": 44,
   "metadata": {},
   "outputs": [
    {
     "name": "stdout",
     "output_type": "stream",
     "text": [
      "1 [1, 2, 3]\n"
     ]
    }
   ],
   "source": [
    "import json\n",
    "\n",
    "# Concept, of `classmethod` decorator \n",
    "#\n",
    "# def classmethod(fn):\n",
    "#     def g(self, ...):\n",
    "#         return fn(self.__class__, ...)\n",
    "#     return g\n",
    "\n",
    "class A:\n",
    "    \n",
    "    # Decorator change behavior of the function.\n",
    "    @classmethod\n",
    "    def create_from_json(cls, fname):\n",
    "        with open(fname, \"r\") as f:\n",
    "            options = json.load(f)\n",
    "        \n",
    "        return cls(**options)\n",
    "    \n",
    "    def __init__(self, a, b):\n",
    "        self.a = a\n",
    "        self.b = b\n",
    "\n",
    "a = A.create_from_json(\"decorator_test.json\")\n",
    "\n",
    "print(a.a, a.b)"
   ]
  },
  {
   "cell_type": "code",
   "execution_count": 45,
   "metadata": {},
   "outputs": [
    {
     "name": "stdout",
     "output_type": "stream",
     "text": [
      "Timed (iter): 2.3126602172851562e-05 s\n",
      "0.7319774252581913\n",
      "Timed (iter): 2.4080276489257812e-05 s\n",
      "0.7390851332151607\n",
      "Timed (iter): 0.0002372264862060547 s\n",
      "0.7390851332151607\n"
     ]
    }
   ],
   "source": [
    "import time\n",
    "import math\n",
    "# Dekorátor je funkce která vyrábí z funkce jinou funkci.\n",
    "\n",
    "# Změření funkce\n",
    "def timeit(func):\n",
    "    def measured(*args, **kwargs):\n",
    "        t0 = time.time()\n",
    "        result = func(*args, **kwargs)\n",
    "        t1 = time.time()\n",
    "        print(\"Timed ({}): {} s\".format(func.__name__, t1 - t0))\n",
    "        return result\n",
    "    return measured\n",
    "\n",
    "@timeit\n",
    "def iter(x, n):\n",
    "    for i in range(n):\n",
    "        x = math.cos(x)\n",
    "    return x\n",
    "\n",
    "print(iter(0.2, 10))\n",
    "print(iter(0.2, 100))\n",
    "print(iter(0.2, 1000))"
   ]
  },
  {
   "cell_type": "code",
   "execution_count": 49,
   "metadata": {},
   "outputs": [
    {
     "name": "stdout",
     "output_type": "stream",
     "text": [
      "14 24\n"
     ]
    }
   ],
   "source": [
    "## Dekorátory s parametry\n",
    "\n",
    "def increase(x):\n",
    "    def deco_internal(fn):\n",
    "        def new_fn(a):\n",
    "            return x + fn(a)\n",
    "        return new_fn\n",
    "    return deco_internal\n",
    "\n",
    "@increase(10)\n",
    "def square_10(y):\n",
    "    return y*y\n",
    "\n",
    "@increase(20)\n",
    "def square_20(y):\n",
    "    return y*y\n",
    "\n",
    "print(square_10(2), square_20(2))\n"
   ]
  },
  {
   "cell_type": "code",
   "execution_count": null,
   "metadata": {},
   "outputs": [],
   "source": []
  },
  {
   "cell_type": "markdown",
   "metadata": {},
   "source": [
    "# 2.3.4 Výjimky\n"
   ]
  },
  {
   "cell_type": "code",
   "execution_count": 16,
   "metadata": {},
   "outputs": [
    {
     "ename": "FileNotFoundError",
     "evalue": "[Errno 2] No such file or directory: 'nofile'",
     "output_type": "error",
     "traceback": [
      "\u001b[0;31m---------------------------------------------------------------------------\u001b[0m",
      "\u001b[0;31mFileNotFoundError\u001b[0m                         Traceback (most recent call last)",
      "\u001b[0;32m<ipython-input-16-fc480652b3e6>\u001b[0m in \u001b[0;36m<module>\u001b[0;34m\u001b[0m\n\u001b[1;32m      1\u001b[0m \u001b[0;31m# Raise FileNotFoundError exception.\u001b[0m\u001b[0;34m\u001b[0m\u001b[0;34m\u001b[0m\u001b[0;34m\u001b[0m\u001b[0m\n\u001b[0;32m----> 2\u001b[0;31m \u001b[0;32mwith\u001b[0m \u001b[0mopen\u001b[0m\u001b[0;34m(\u001b[0m\u001b[0;34m\"nofile\"\u001b[0m\u001b[0;34m,\u001b[0m \u001b[0;34m\"r\"\u001b[0m\u001b[0;34m)\u001b[0m \u001b[0;32mas\u001b[0m \u001b[0mf\u001b[0m\u001b[0;34m:\u001b[0m\u001b[0;34m\u001b[0m\u001b[0;34m\u001b[0m\u001b[0m\n\u001b[0m\u001b[1;32m      3\u001b[0m     \u001b[0mcontent\u001b[0m \u001b[0;34m=\u001b[0m \u001b[0mf\u001b[0m\u001b[0;34m.\u001b[0m\u001b[0mread\u001b[0m\u001b[0;34m(\u001b[0m\u001b[0;34m)\u001b[0m\u001b[0;34m\u001b[0m\u001b[0;34m\u001b[0m\u001b[0m\n",
      "\u001b[0;31mFileNotFoundError\u001b[0m: [Errno 2] No such file or directory: 'nofile'"
     ]
    }
   ],
   "source": [
    "# Raise FileNotFoundError exception.\n",
    "with open(\"nofile\", \"r\") as f:\n",
    "    content = f.read()"
   ]
  },
  {
   "cell_type": "code",
   "execution_count": 22,
   "metadata": {},
   "outputs": [
    {
     "name": "stdout",
     "output_type": "stream",
     "text": [
      "Using default config. File not found: \n",
      "[Errno 2] No such file or directory: 'nofile'\n",
      "a:None b:True\n"
     ]
    }
   ],
   "source": [
    "# Catch FileNotFoundError exception.\n",
    "try:\n",
    "    with open(\"nofile\", \"r\") as f:\n",
    "        content = f.read()\n",
    "except FileNotFoundError as e:\n",
    "    print(\"Using default config. File not found: \")\n",
    "    print(e)\n",
    "    content = \"a:None\\nb:True\"\n",
    "\n",
    "print(yaml.load(content))"
   ]
  },
  {
   "cell_type": "markdown",
   "metadata": {},
   "source": [
    "Výjimky jsou v Pythonu používané i místo předchozího testu pomocí podmínky, \n",
    "jednak jsou výjimky implementovány efektivně a pro vácevláknové programování nevedou k \"race conditions\".\n",
    "\n",
    "Heslo je:\n",
    "\"It's easier to ask forgiveness than it is to get permission.\" (G. M. Hopper)"
   ]
  },
  {
   "cell_type": "code",
   "execution_count": 1,
   "metadata": {},
   "outputs": [
    {
     "ename": "AttributeError",
     "evalue": "module 'posixpath' has no attribute 'file'",
     "output_type": "error",
     "traceback": [
      "\u001b[0;31m---------------------------------------------------------------------------\u001b[0m",
      "\u001b[0;31mAttributeError\u001b[0m                            Traceback (most recent call last)",
      "\u001b[0;32m<ipython-input-1-f976f5d82a6d>\u001b[0m in \u001b[0;36m<module>\u001b[0;34m\u001b[0m\n\u001b[1;32m      3\u001b[0m \u001b[0;34m\u001b[0m\u001b[0m\n\u001b[1;32m      4\u001b[0m \u001b[0mfname\u001b[0m \u001b[0;34m=\u001b[0m \u001b[0;34m\"nofile\"\u001b[0m\u001b[0;34m\u001b[0m\u001b[0;34m\u001b[0m\u001b[0m\n\u001b[0;32m----> 5\u001b[0;31m \u001b[0;32mif\u001b[0m \u001b[0mos\u001b[0m\u001b[0;34m.\u001b[0m\u001b[0mpath\u001b[0m\u001b[0;34m.\u001b[0m\u001b[0mfile\u001b[0m\u001b[0;34m(\u001b[0m\u001b[0mfname\u001b[0m\u001b[0;34m)\u001b[0m\u001b[0;34m:\u001b[0m\u001b[0;34m\u001b[0m\u001b[0;34m\u001b[0m\u001b[0m\n\u001b[0m\u001b[1;32m      6\u001b[0m     \u001b[0;31m# If file is removed right now by other thread we get an error.\u001b[0m\u001b[0;34m\u001b[0m\u001b[0;34m\u001b[0m\u001b[0;34m\u001b[0m\u001b[0m\n\u001b[1;32m      7\u001b[0m     \u001b[0;32mwith\u001b[0m \u001b[0mopen\u001b[0m\u001b[0;34m(\u001b[0m\u001b[0;34m\"nofile\"\u001b[0m\u001b[0;34m,\u001b[0m \u001b[0;34m\"r\"\u001b[0m\u001b[0;34m)\u001b[0m \u001b[0;32mas\u001b[0m \u001b[0mf\u001b[0m\u001b[0;34m:\u001b[0m\u001b[0;34m\u001b[0m\u001b[0;34m\u001b[0m\u001b[0m\n",
      "\u001b[0;31mAttributeError\u001b[0m: module 'posixpath' has no attribute 'file'"
     ]
    }
   ],
   "source": [
    "import os\n",
    "# Condition based code.\n",
    "\n",
    "fname = \"nofile\"\n",
    "if os.path.file(fname):\n",
    "    # If file is removed right now by other thread we get an error.\n",
    "    with open(\"nofile\", \"r\") as f:\n",
    "        content = f.read()\n",
    "else:\n",
    "    print(\"Using default config. File not found: \", fname)\n",
    "    content = \"a:None\\nb:True\"\n",
    "\n",
    "print(yaml.load(content))        \n",
    "\n"
   ]
  },
  {
   "cell_type": "code",
   "execution_count": null,
   "metadata": {},
   "outputs": [],
   "source": [
    "# Další vhodná témata k samostudiu\n",
    "\n",
    "[Třídy](https://www.tutorialspoint.com/python/python_classes_objects.htm) - \n",
    "prakticky nutné pro složitější datové struktury\n",
    "\n",
    "[Regulární výrazy](https://www.tutorialspoint.com/python/python_reg_expressions.htm) - \n",
    "velmi užitečné pro vytahování informací z textových souborů\n"
   ]
  },
  {
   "cell_type": "markdown",
   "metadata": {},
   "source": [
    "# 2.3.4 Unit testy\n",
    "\n",
    "## pytest \n",
    "Vyhledává soubory a v nich funkce a třídy pojmenované:`test_*` nebo `*_test`.\n",
    "Umožňuje jejich spuštění na sadách dat definovaných pomocí dekorátorů.\n",
    "...\n",
    "\n",
    "## tox\n",
    "Provede nainstalování celého balíku pomocí `setup.py` do virtuálního prostředí a teprve tam spouští testy.\n",
    "Testuje tedy i instalaci a chování po ní."
   ]
  },
  {
   "cell_type": "markdown",
   "metadata": {},
   "source": [
    "# Profiling"
   ]
  },
  {
   "cell_type": "code",
   "execution_count": null,
   "metadata": {},
   "outputs": [],
   "source": [
    "# Profiling\n",
    "\n",
    "# Statistic profiler\n",
    "import statprof\n",
    "statprof.start()\n",
    "\n",
    "# ... some code\n",
    "\n",
    "statprof.stop()\n",
    "statprof.display()\n",
    "\n",
    "\n",
    "# instrumented profiler\n",
    "import cProfile, pstats, io\n",
    "pr = cProfile.Profile()\n",
    "pr.enable()\n",
    "\n",
    "# ... some code\n",
    "\n",
    "pr.disable()\n",
    "s = io.StringIO()\n",
    "sortby = 'cumulative'\n",
    "ps = pstats.Stats(pr, stream=s).sort_stats(sortby)\n",
    "ps.print_stats()\n",
    "print(s.getvalue())"
   ]
  },
  {
   "cell_type": "markdown",
   "metadata": {},
   "source": [
    "# PyCharm\n",
    "\n",
    "Integrated developlment environment for Python.\n",
    "Free [PyCharm Community edition](https://www.jetbrains.com/pycharm/download/#section=linux).\n",
    "\n",
    "- interpreter setup\n",
    "- browsing through the code\n",
    "- testing\n",
    "- debuger\n"
   ]
  },
  {
   "cell_type": "markdown",
   "metadata": {},
   "source": [
    "# 2.3.6 Python a SQL\n",
    "\n",
    "Creating and opearting MySql database: [Tutorial on w3schools](https://www.w3schools.com/python/python_mysql_getstarted.asp) \n",
    "\n",
    "Blog about reading SQL using Pandas: \n",
    "[SQL for data scientist](https://towardsdatascience.com/sql-in-python-for-beginners-b9a4f9293ecf)\n"
   ]
  }
 ],
 "metadata": {
  "kernelspec": {
   "display_name": "Python 3 (ipykernel)",
   "language": "python",
   "name": "python3"
  },
  "language_info": {
   "codemirror_mode": {
    "name": "ipython",
    "version": 3
   },
   "file_extension": ".py",
   "mimetype": "text/x-python",
   "name": "python",
   "nbconvert_exporter": "python",
   "pygments_lexer": "ipython3",
   "version": "3.11.9"
  }
 },
 "nbformat": 4,
 "nbformat_minor": 4
}
