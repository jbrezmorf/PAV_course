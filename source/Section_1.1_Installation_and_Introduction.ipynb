{
 "cells": [
  {
   "cell_type": "markdown",
   "metadata": {
    "nbgrader": {
     "grade": false,
     "grade_id": "cell-28e770b0ca468323",
     "locked": true,
     "schema_version": 3,
     "solution": false,
     "task": false
    }
   },
   "source": [
    "# 1.1.1 Jupyter instalace"
   ]
  },
  {
   "cell_type": "markdown",
   "metadata": {
    "nbgrader": {
     "grade": false,
     "grade_id": "cell-ebc95738c2e5556b",
     "locked": true,
     "schema_version": 3,
     "solution": false,
     "task": false
    }
   },
   "source": [
    "### JupyTul server\n",
    "1. Do mailu jste dostali pozvánku k využívání služby, tu je třeba potvrdit.\n",
    "\n",
    "2. Připojte se pomocí webového prohlížeče na [jupytul.cloud.e-infra.cz](jupytul.cloud.e-infra.cz). Přes univrzální TUL autentizaci (jméno a heslo do LIANE) se přihlásíte. Zvolíte předmět PAV.\n",
    "\n",
    "3. Tím byste měli spustit vlastní kontejner s nástrojem JupyterLab, který si v případě zájmu můžete snadno nainstalovat na svůj počítač. Viz. volby  dále.\n",
    "\n",
    "3. Další odstavce přeskočte a pokračujte podle \"Alternativní stažení materiálů\" s vynecháním bodů 1. a 3.\n",
    "\n",
    "----\n",
    "\n",
    "Server jupytul poskytuje online prostředí [JupyterLab](https://jupyterlab.readthedocs.io/en/stable/), které pro každého uživatele běží v samostatném Docker kontejneru. Poskytuje základní online aplikace pro práci se systémem: \n",
    "\n",
    "- správce souborů\n",
    "- terminál\n",
    "- Jupyter notebook editor (založený na Pythonu), viz. dále\n",
    "- textový editor (pro Markdown a pro Python)\n",
    "- Context help"
   ]
  },
  {
   "cell_type": "markdown",
   "metadata": {
    "nbgrader": {
     "grade": false,
     "grade_id": "cell-5d344edcdb0389cd",
     "locked": true,
     "schema_version": 3,
     "solution": false,
     "task": false
    }
   },
   "source": [
    "### Instalace na vlastní počítač (systém Windows)\n",
    "\n",
    "1. Stáhněte si instalaci balíku \n",
    "   [Anaconda](https://www.anaconda.com/download). Verze Python 3.7 (varianta Windows 64bit by měla být zvolena automaticky). \n",
    "   Spusťte instalaci ve standardním režimu. Instalace zabere cca 3.5GB místa a trvá pár minut. \n",
    "\n",
    "2. V nabídce \"Start\" spusťte \"Jupyter notebook\". Spustí se Jupyter server \n",
    "   a otevře se vám okno prohlížeče s frontendem Jupyteru.  "
   ]
  },
  {
   "cell_type": "markdown",
   "metadata": {
    "nbgrader": {
     "grade": false,
     "grade_id": "cell-553618de5dc69f6e",
     "locked": true,
     "schema_version": 3,
     "solution": false,
     "task": false
    }
   },
   "source": [
    "### Instalace  na vlastní počítač (systém Linux)\n",
    "\n",
    "1. Stáhněte si instalaci balíku \n",
    "   [Anaconda](https://www.anaconda.com/download). Verze Python 3.x. \n",
    "   Instalace zabere cca 3.5GB místa. Z terminálu spusťte stažený skript pod uživatelem.\n",
    "\n",
    "2. Z terminálu spusťte:\n",
    "        \n",
    "        ~/anaconda3/bin/jupyter notebook\n",
    "   \n",
    "   Spustí se Jupyter server a otevře se vám okno prohlížeče s frontendem Jupyteru. \n",
    "   Dle libosti si vytvořte pro tento příkaz zástupce na ploše nabo v menu."
   ]
  },
  {
   "cell_type": "markdown",
   "metadata": {
    "nbgrader": {
     "grade": false,
     "grade_id": "cell-40b448b18ae14210",
     "locked": true,
     "schema_version": 3,
     "solution": false,
     "task": false
    }
   },
   "source": [
    "### Stažení materiálů\n",
    "1. Na stránce [kurzu Python for AVI](https://github.com/jbrezmorf/PAV_course), zelené tlačítko vpravo, Download ZIP.\n",
    "\n",
    "2. Rozbalit do vhodného adresáře (Windows např. `c:/Users/_jmeno_/Documents/ipython`.\n",
    "\n",
    "3. V prohlížeči v záložce s Jupyterem přejít do stejného adresáře a spusťit sešit: \"Section_1.1...\"\n",
    "\n",
    "### Alternativní stažení materiálů pře Git\n",
    "\n",
    "1. V prohlížeči v Jupyteru vidíte váš uživatelský adresář. Otevřete si v prohlížeči záloku s \n",
    "  \"terminálem\" pomocí: \"New\" -> \"Terminal\" vpravo nahoře.\n",
    "    \n",
    "2. Vytvořte si adresář pro notebooky. V terminálu spusťte:\n",
    "       \n",
    "            mkdir ipython\n",
    "            cd ipython\n",
    "\n",
    "\n",
    "5. Instalujte si verzovací nástroj git. V terminálu spusťte:\n",
    "            \n",
    "            conda install git\n",
    "            \n",
    "6. Stáhněte si projekt kurzu. V terminálu spusťte:\n",
    "    \n",
    "```            \n",
    "    git clone https://github.com/jbrezmorf/PAV_course.git\n",
    "```\n",
    "   \n",
    "5. V hlavní záložce přejděte do adresáře \"ipython/pythonforall\" a spusťte sešit:\n",
    "    \"Section_1.1...\"\n",
    "    \n",
    "Při dalším spouštění stačí provést kroky 2. a 5. "
   ]
  },
  {
   "cell_type": "markdown",
   "metadata": {
    "nbgrader": {
     "grade": false,
     "grade_id": "cell-daf671bbffb58dd0",
     "locked": true,
     "schema_version": 3,
     "solution": false,
     "task": false
    }
   },
   "source": [
    "# 1.1.2 Proč Python?\n",
    "\n",
    "## Jednoduchost a čitelnost\n",
    "- Programovací jazyk slouží k zápisu programu pro lidi. \n",
    "- Klíčová vlastnost je čitelnost/srozumitelnost kódu.\n",
    "- Syntaxe Pythonu podporuje čitelnost a minimalizuje informační šum.\n",
    "- \"Make your code as simple as possible, but no simpler.\" \n",
    "- \"There should be one-- and preferably only one --obvious way to do it.\" \n",
    "  [Zen of Python](https://www.python.org/dev/peps/pep-0020/)\n",
    "\n",
    "##  Propojitelnost\n",
    "- Snadné napojení na existující kód v jiných jazycích.\n",
    "- Existující Pythoní knihovny (rozhraní) pro všechno:\n",
    "linear algebra, numerics, statistics, signal processing, web, databases, \n",
    "machine learning, ...\n",
    "- Přenositelnost na různé operační systémy. \n",
    "\n",
    "## Proč ne Matlab?\n",
    "- Python je vhodný pro výuku, vznikl na základě jazyka ABC pro výuku.\n",
    "- Python je skutečný programovací jazyk.\n",
    "- Python je silný v matematice, ale také jinde (systémové skriptování, weby).\n",
    "- Python poskytuje všechno so Matlab.\n",
    "- Python je \"Free software\", žádné problémy s licencováním.\n",
    "\n",
    "Lorena A. Barba [Why I push for Python (to teach programming).](https://lorenabarba.com/blog/why-i-push-for-python/)\n",
    "\n",
    "\n",
    "\n",
    "## Nevýhody Pythonu\n",
    "\n",
    "- Dynamické typování a tzv. [\"duck typing\"](https://en.wikipedia.org/wiki/Duck_typing)   zjednodušuje implementaci, ale bez dokumentování a programátorské disciplíny vede k chybám a těžké orientaci v rozsáhlých projektech.\n",
    "- Interpretovaný a vysokoúrovňový jazyk nemůže být příliš rychlý. Kód vykonávaný přímo Pythonem je zhruba 10x pomalejší než stejný kód napsaný v C++. Možná řešení: \n",
    "  - používání knihoven implementovaných v kompilovaných jazycích\n",
    "  - [\"just-in-time\"](https://en.wikipedia.org/wiki/Just-in-time_compilation) kompilátor,\n",
    "    např. [PyPy](https://pypy.org/), [Numba](https://numba.pydata.org/) \n",
    "  - kompilovatelná varianta Pythonu: [Cython](http://cython.org/)\n",
    "  \n",
    "- Standardní interpreter [CPython](https://stackoverflow.com/questions/17130975/python-vs-cpython) neumožňuje\n",
    "  paralelní běh vláken kvůli použití globálního zámku [GIL](https://en.wikipedia.org/wiki/Global_interpreter_lock).\n",
    "  Možná řešení:\n",
    "  - paralelizmus pomocí procesů\n",
    "  - použití knihoven, které vnitřně vlákna využijí\n",
    "  - alternativní implementace bez GIL: Jython, IronPython, Cython (GIL lze dočasně vypnout)\n",
    "  - počkat na Python 4.0\n",
    "- Méně rozvinutá podpora mobilních platforem (např. oproti Javě).  \n",
    "\n",
    "\n"
   ]
  },
  {
   "cell_type": "markdown",
   "metadata": {},
   "source": [
    "# 1.1.4  Jupyter - přehled\n",
    " \n",
    "Jupyter umožňuje tvořit interaktivní sešity (notebook) obsahující kusy kódu a doprovodný text. Jupyter má vždy nastavený jeden primární jazyk (Python, R, Julia, ...). Vám dostupný JupyterHub je nakonfigurovaný pro notebooky založené na Python 3. Doprovodný text je formátován pomocí jednoduchého značkovacího formátu Markdown s možností psaní vzorců v Latexu. Poznámky k přednáškám jsou psané v Jupyter sešitech a v nich také budeme provádět doprovodná cvičení.\n",
    "\n",
    "## Zdroje:\n",
    "\n",
    "[Jupyter cheetsheet](https://www.cheatography.com//jorgejuan007/cheat-sheets/jupyter-notebook-editor/pdf/)\n",
    "\n",
    "[Galery of interesting notebooks](https://github.com/jupyter/jupyter/wiki#a-gallery-of-interesting-jupyter-notebooks)"
   ]
  },
  {
   "cell_type": "markdown",
   "metadata": {},
   "source": [
    "### Příklad spustitelného kódu:"
   ]
  },
  {
   "cell_type": "code",
   "execution_count": 3,
   "metadata": {},
   "outputs": [
    {
     "name": "stdout",
     "output_type": "stream",
     "text": [
      "6\n"
     ]
    }
   ],
   "source": [
    "# Tento sešit používá python 3. Můžete vytvořit sešity i pro jiné jazyky.\n",
    "print(1 + 5)"
   ]
  },
  {
   "cell_type": "markdown",
   "metadata": {
    "tags": []
   },
   "source": [
    "## Jupyter - Klávesové zkratky\n",
    "\n",
    "- **Alt-M** Přepnutí buňky na textovou (Markdown).\n",
    "- **Alt-1**, **Alt-2**, ... Přepnutí buňky na nadpis úrovně 1, 2, ...\n",
    "- **Ctrl-Enter** Spuštění buňky.\n",
    "- **Alt-Enter** Spuštění buňky a přidání nové.\n",
    "- **d, d** - smazání buňky\n",
    "\n",
    "Další zkratky viz. ikonka klávesnice v menu. Pozor, na Linuxu se levý a pravý Alt chová jinak."
   ]
  },
  {
   "cell_type": "markdown",
   "metadata": {
    "jupyter": {
     "source_hidden": true
    },
    "tags": []
   },
   "source": [
    "## 1.1.4.1 Textová buňka - Markdown formát\n",
    "\n",
    "Textové buňky umožňují formátování textu pomocí značkovacího jazyka Markdown a formátování matematických vzorců pomocí Latexu. Viz. tento sešit.\n",
    "\n",
    "### Základní syntaxe\n",
    "Přehled formátovací syntaxe Markdown: [Markdown cheatsheet](https://scottboms.com/downloads/documentation/markdown_cheatsheet.pdf)\n",
    "\n",
    "```\n",
    "# Příklad definice funkce\n",
    "def fn():\n",
    "    return 1+1\n",
    "```\n",
    "\n",
    "### Matematické vzorce\n",
    "\n",
    "\n",
    "Jednoduchý dolar \\\\$ pro matematické formátování v textu:\n",
    "$A$, $A_i$, $A^2$ ... a text pokračuje.\n",
    "\n",
    "Dvojitý dolar pro samostatný matematický vzorec. \n",
    "Např.\n",
    "\n",
    "    $$\\sum_{i=1}^\\infty \\frac{1}{i^2} = \\frac{\\pi^2}{6}$$\n",
    "\n",
    "vysází:\n",
    "$$\\sum_{i=1}^\\infty \\frac{1}{i^2} = \\frac{\\pi^2}{6}$$\n",
    "\n",
    "Automaticky se rozpoznají i jiná LaTeX prostředí:\n",
    "\n",
    "\\begin{align}\n",
    "\\label{eq:Maxwel1}\n",
    "\\nabla \\times \\vec{\\mathbf{B}} -\\, \\frac1c\\, \\frac{\\partial\\vec{\\mathbf{E}}}{\\partial t} & = \\frac{4\\pi}{c}\\vec{\\mathbf{j}} \\\\\n",
    "\\nabla \\cdot \\vec{\\mathbf{E}} & = 4 \\pi \\rho \\\\\n",
    "\\nabla \\times \\vec{\\mathbf{E}}\\, +\\, \\frac1c\\, \\frac{\\partial\\vec{\\mathbf{B}}}{\\partial t} & = \\vec{\\mathbf{0}} \\\\\n",
    "\\nabla \\cdot \\vec{\\mathbf{B}} & = 0\n",
    "\\end{align}\n",
    "\n",
    "## Tabulky\n",
    "Malé tabulky je možno zapsat pomocí Markdown (některé prohlížeče nezobrazují dobře):\n",
    "\n",
    "| Jméno | Příjmení | Věk |\n",
    "| :--- | :---: | ---: |\n",
    "| left align | center | right align |\n",
    "| Antonín | Bumba | 21 |\n",
    "| Květa | Poláková | 22 |\n",
    "\n",
    "Tabulky a grafy generované z dat je však lépe generovat pomocí Python kódu (viz. později lekce o Pandas).\n",
    "\n",
    "    "
   ]
  },
  {
   "cell_type": "markdown",
   "metadata": {},
   "source": [
    "## Jupyter formátování - zdroje\n",
    "\n",
    "[Úvod do Markdown formátování](http://jupyter-notebook.readthedocs.io/en/stable/examples/Notebook/Working%20With%20Markdown%20Cells.html) a jeho rozšířeních v Jupyter sešitech.  \n",
    "\n",
    "[Další příklady rovnic](http://jupyter-notebook.readthedocs.io/en/stable/examples/Notebook/Typesetting%20Equations.html)\n",
    "\n",
    "[Online editor Latex výrazů](https://www.codecogs.com/latex/eqneditor.php)\n",
    "\n",
    "[Publikování pomocí Jupyter sešitů](http://blog.juliusschulz.de/blog/ultimate-ipython-notebook)\n",
    "\n"
   ]
  },
  {
   "cell_type": "markdown",
   "metadata": {},
   "source": [
    "## 1.1.4.2 Základy Latexu\n",
    "\n",
    "Dále uvedu pouze úplné základy, pro ucelenější přehled doporučuju [anglickou dokumentaci](https://www.overleaf.com/learn/latex/Mathematical_expressions) online Latex editoru Overleaf. \n",
    "\n",
    "Rozlišujeme vzorce v textu, a samostatné matematické bloky. První zapisujeme mezi jednoduchý dolar a používáme zejména pro reference na proměnné, nebo jednouché vzorečky. Druhý způsob zapisujeme mezi dvojitý dolar a používáme pro složitější vzorce a rovnice.\n",
    "\n",
    "\n",
    "**Příklad.**\n",
    "\n",
    "Pozitivně definitní matice $A$ má vlastnost:\n",
    "$$\n",
    "    u^T A u \\ge 0 \n",
    "$$\n",
    "pro libovolný vektor $u$.\n",
    "\n",
    "Mimo dvojitého dolaru existují i specializovaná matematická prostředí zapisovaná mezi příkazy `\\begin` a `\\end`. \n",
    "\n",
    "**Příklad.** Prostředí `align` pro víceřádkové rovnice a zarovnávání\n",
    "\\begin{align}\n",
    "\\dot{x}(t) & = \\sigma(y(t)-x(t))   &&\\text{pro } t>0 \\\\\n",
    "\\dot{y}(t) & = \\rho x(t) - y(t) - x(t)z(t) &&\\text{pro } t>0.001\\\\\n",
    "\\dot{z}(t) & = -\\beta z(t) + x(t)y(t)   &&\\text{pro } t\\in(-\\infty, +\\infty)\n",
    "\\end{align}\n",
    "\n",
    "Vybraná další prostředí:\n",
    "- `equation` - stejné jako `$$ <equation> $$`, ale čísluje rovnice\n",
    "- `align` - více řádkové rovnice, zarovnávání rovnítek ...\n",
    "- `array` - obecná matice textu, zarovnávání vlevo, vpravo, centrované\n",
    "- `pmatrix` - matice s kulatými závorkami, centrované prvky, další druhy závorek `vmatrix`, `bmatrix`, ...\n"
   ]
  },
  {
   "cell_type": "markdown",
   "metadata": {},
   "source": [
    "Lze používat různé druhy závorek $()$, $[]$, $\\{\\}$, $\\lvert \\rvert$, $\\langle \\rangle$. \n",
    "Závorky leze automaticky natahovat:\n",
    "$$\n",
    "\\left(1\\right), \\left(\\frac12\\right), \\left(\\frac{\\frac12}{\\frac23}\\right), \n",
    "\\left(\\frac{\\frac{\\frac12}{\\frac23}}{\\frac{\\frac34}{\\frac45}}\\right)\n",
    "\\quad \n",
    "\\delta_{ij} = \n",
    "\\left\\{\n",
    "\\begin{array}{ll}\n",
    "1& i=j\\\\\n",
    "0& i\\ne j\n",
    "\\end{array}\n",
    "\\right.\n",
    "$$\n",
    "\n",
    "pro přesnější volbu velikostí lze použít:\n",
    "$$\n",
    "(1) \\big(1^1\\big) \\Big(\\frac12\\Big) \n",
    "$$"
   ]
  },
  {
   "cell_type": "markdown",
   "metadata": {},
   "source": [
    "## Číslování rovnic\n",
    "Rovnice se automaticky nečíslují, číslování lze zapnout pomocí spuštění následujícího kódu:"
   ]
  },
  {
   "cell_type": "code",
   "execution_count": 1,
   "metadata": {},
   "outputs": [
    {
     "data": {
      "application/javascript": [
       "  MathJax.Hub.Config({\n",
       "    TeX: { equationNumbers: { autoNumber: \"AMS\" } }\n",
       "  });\n"
      ],
      "text/plain": [
       "<IPython.core.display.Javascript object>"
      ]
     },
     "metadata": {},
     "output_type": "display_data"
    }
   ],
   "source": [
    "  %%javascript\n",
    "    MathJax.Hub.Config({\n",
    "      TeX: { equationNumbers: { autoNumber: \"AMS\" } }\n",
    "    });"
   ]
  },
  {
   "cell_type": "markdown",
   "metadata": {},
   "source": [
    "Zde očísluju rovnici\n",
    "\\begin{equation}\n",
    "\\label{eq:some_eq_name}\n",
    "1+1 = 2\n",
    "\\end{equation}\n",
    "\n",
    "A ta rovnice má číslo: $\\eqref{eq:some_eq_name}$"
   ]
  },
  {
   "cell_type": "markdown",
   "metadata": {},
   "source": [
    "## Cvičení IPython"
   ]
  },
  {
   "cell_type": "markdown",
   "metadata": {},
   "source": [
    "Vytvořte sešit obsahující následující prvky:\n",
    "\n",
    "- Nadpisy první a druhé úrovně.\n",
    "- Dva odstavce obyčejného textu.\n",
    "- Příklad kódu (neformátováno) v textu.\n",
    "- Odrážkový a číslovaný seznam.\n",
    "- Jednu buňku se spustitelným kódem"
   ]
  },
  {
   "cell_type": "markdown",
   "metadata": {},
   "source": [
    "Vytvořte matematické vzorce obsahující:\n",
    "- řecká písmena\n",
    "- složené zlomky\n",
    "- různě velké závorky\n",
    "- sumu, integrál, limitu\n",
    "- matici 2x2 s prvky 1, 2, 3, 4"
   ]
  }
 ],
 "metadata": {
  "kernelspec": {
   "display_name": "Python 3 (ipykernel)",
   "language": "python",
   "name": "python3"
  },
  "language_info": {
   "codemirror_mode": {
    "name": "ipython",
    "version": 3
   },
   "file_extension": ".py",
   "mimetype": "text/x-python",
   "name": "python",
   "nbconvert_exporter": "python",
   "pygments_lexer": "ipython3",
   "version": "3.11.9"
  }
 },
 "nbformat": 4,
 "nbformat_minor": 4
}
