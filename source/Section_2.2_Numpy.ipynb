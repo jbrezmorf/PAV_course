{
 "cells": [
  {
   "cell_type": "markdown",
   "metadata": {},
   "source": [
    "# 2.2.0 Numpy - přehled\n",
    "\n",
    "- práce s vícerozměrnými poli (tenzory)\n",
    "- efektivní operace implementované v C\n",
    "- interface k operacím lineární algebry\n",
    "- další funkce ...\n",
    "\n",
    "[referenční dokumentace](https://numpy.org/doc/stable/)\n",
    "\n",
    "Další zdroje:\n",
    "- [NumPy Cheat Sheet](https://s3.amazonaws.com/assets.datacamp.com/blog_assets/Numpy_Python_Cheat_Sheet.pdf)\n",
    "[numpy](http://datasciencefree.com/numpy.pdf)\n",
    "\n",
    "[numpy cheetsheet](https://medium.com/machine-learning-in-practice/cheat-sheet-of-machine-learning-and-python-and-math-cheat-sheets-a4afe4e791b6)\n",
    "\n",
    "- [Stanford lecture](https://web.stanford.edu/~schmit/cme193/lec/lec5.pdf)\n",
    "\n",
    "- [100 cvičení z Numpy](http://yvesguidet.no-ip.biz/complementsMureaux/100_numpy_exercises.pdf)\n",
    "\n",
    "- [Python and SciPy lecture notes](https://hal.inria.fr/hal-01206546/file/ScipyLectures-simple.pdf)\n",
    "\n",
    "Dále předpokládáme import knihovny ve tvaru:\n"
   ]
  },
  {
   "cell_type": "code",
   "execution_count": 10,
   "metadata": {},
   "outputs": [],
   "source": [
    "import numpy as np\n",
    "\n",
    "# integrovat vystup z matplotlib - statické grafy \n",
    "%matplotlib inline"
   ]
  },
  {
   "cell_type": "code",
   "execution_count": 44,
   "metadata": {},
   "outputs": [
    {
     "name": "stdout",
     "output_type": "stream",
     "text": [
      "[[[0. 1. 2. 3. 4. 5. 6. 7. 8. 9.]\n",
      "  [0. 0. 0. 0. 0. 0. 0. 0. 0. 0.]\n",
      "  [0. 0. 0. 0. 0. 0. 0. 0. 0. 0.]]\n",
      "\n",
      " [[0. 0. 0. 0. 0. 0. 0. 0. 0. 0.]\n",
      "  [0. 1. 2. 3. 4. 5. 6. 7. 8. 9.]\n",
      "  [0. 0. 0. 0. 0. 0. 0. 0. 0. 0.]]\n",
      "\n",
      " [[0. 0. 0. 0. 0. 0. 0. 0. 0. 0.]\n",
      "  [0. 0. 0. 0. 0. 0. 0. 0. 0. 0.]\n",
      "  [0. 1. 2. 3. 4. 5. 6. 7. 8. 9.]]]\n"
     ]
    }
   ],
   "source": [
    "e = np.eye(3)\n",
    "\n",
    "x = np.arange(0,10,1)\n",
    "\n",
    "print(e[..., None] * x)\n",
    "\n",
    "\n"
   ]
  },
  {
   "cell_type": "code",
   "execution_count": 2,
   "metadata": {},
   "outputs": [
    {
     "ename": "SyntaxError",
     "evalue": "invalid syntax. Maybe you meant '==' or ':=' instead of '='? (122343569.py, line 1)",
     "output_type": "error",
     "traceback": [
      "\u001b[0;36m  Cell \u001b[0;32mIn[2], line 1\u001b[0;36m\u001b[0m\n\u001b[0;31m    np.diag(np.full((3,1, shape=(3,3))\u001b[0m\n\u001b[0m                          ^\u001b[0m\n\u001b[0;31mSyntaxError\u001b[0m\u001b[0;31m:\u001b[0m invalid syntax. Maybe you meant '==' or ':=' instead of '='?\n"
     ]
    }
   ],
   "source": [
    "np.diag(np.full((3,1, shape=(3,3))"
   ]
  },
  {
   "cell_type": "markdown",
   "metadata": {},
   "source": [
    "# 2.2.1 Arrays\n",
    "\n",
    "- reprezentace N rozměrného tenzoru\n",
    "- mnohé operace (řezání, transpozice) provádí jen změnu přístupu ke stále stejným datů"
   ]
  },
  {
   "cell_type": "code",
   "execution_count": 3,
   "metadata": {
    "scrolled": true
   },
   "outputs": [
    {
     "name": "stdout",
     "output_type": "stream",
     "text": [
      "List matrix: [[0, 1, 2], [1, 2, 3]]\n",
      "Numpy matrix:\n",
      " [[0 1 2]\n",
      " [1 2 3]] \n",
      "python type: <class 'numpy.ndarray'>\n"
     ]
    }
   ],
   "source": [
    "# Konverze ze standarnich Pythnonich typu.\n",
    "list_matrix = [ list(range(3)), list(range(1,4))]\n",
    "print(\"List matrix:\", list_matrix)\n",
    "a = np.array(list_matrix)\n",
    "print(\"Numpy matrix:\\n\", a, '\\npython type:', type(a))\n",
    "\n",
    "# TODO: zkuste smazat list() na prvnim radku, bude to fungovat. range(..) produkuje sekvenci."
   ]
  },
  {
   "cell_type": "markdown",
   "metadata": {},
   "source": [
    "### Array - atributy\n",
    "\n",
    "    a.ndim,  a.shape,  a.size,  a.dtype\n",
    "   "
   ]
  },
  {
   "cell_type": "code",
   "execution_count": 5,
   "metadata": {},
   "outputs": [
    {
     "name": "stdout",
     "output_type": "stream",
     "text": [
      "ndim 2\n",
      "shape (2, 3)\n",
      "size 6\n",
      "dtype int64\n"
     ]
    }
   ],
   "source": [
    "# Počet dimenzí/os/axis pole\n",
    "print(\"ndim\", a.ndim)\n",
    "\n",
    "# Rozměry pole v jednotlivých osách.\n",
    "print(\"shape\", a.shape)\n",
    "\n",
    "# Počet prvků pole.\n",
    "print(\"size\", a.size)\n",
    "\n",
    "# Type prvků pole (všechny prvky mají stejný typ).\n",
    "print(\"dtype\", a.dtype)\n"
   ]
  },
  {
   "cell_type": "markdown",
   "metadata": {},
   "source": [
    "Matice `a` má prvky typu `int64`. Numpy automaticky zvolí `int` pokud jsou všechny zadané prvky `int`. Explicitně je možno požadovat jiný typ pomocí parametru `dtype`:"
   ]
  },
  {
   "cell_type": "code",
   "execution_count": 3,
   "metadata": {},
   "outputs": [
    {
     "name": "stdout",
     "output_type": "stream",
     "text": [
      "float type:\n",
      " [[0. 1. 2.]\n",
      " [1. 2. 3.]]\n",
      "complex type:\n",
      " [[0.+0.j 1.+0.j 2.+0.j]\n",
      " [1.+0.j 2.+0.j 3.+0.j]]\n",
      "bool type:\n",
      " [[False  True  True]\n",
      " [ True  True  True]]\n",
      "\n",
      "int8 type:\n",
      " [[0 1 2]\n",
      " [1 2 3]]\n",
      "element type:  int8\n",
      "a int 64 memory size: 176\n",
      "a int 8 memory size: 134\n"
     ]
    }
   ],
   "source": [
    "from sys import getsizeof\n",
    "\n",
    "print(\"float type:\\n\", np.array(list_matrix, dtype=float))\n",
    "print(\"complex type:\\n\", np.array(list_matrix, dtype=complex))\n",
    "print(\"bool type:\\n\", np.array(list_matrix, dtype=bool))\n",
    "\n",
    "# Type variants with different memory footprint.\n",
    "a8 = np.array(list_matrix, dtype=\"int8\")\n",
    "print(\"\\nint8 type:\\n\", a8)\n",
    "print(\"element type: \", a8.dtype)\n",
    "\n",
    "print(\"a int 64 memory size:\", getsizeof(a),)\n",
    "print(\"a int 8 memory size:\", getsizeof(a8))\n"
   ]
  },
  {
   "cell_type": "markdown",
   "metadata": {},
   "source": [
    "### Inicializace array"
   ]
  },
  {
   "cell_type": "code",
   "execution_count": 3,
   "metadata": {
    "scrolled": true
   },
   "outputs": [
    {
     "name": "stdout",
     "output_type": "stream",
     "text": [
      "arange:  [1.1 3.2 5.3 7.4 9.5]\n",
      "linspace:  [ 1.1         4.06666667  7.03333333 10.        ]\n",
      "zeros :\n",
      " [[0. 0. 0. 0.]\n",
      " [0. 0. 0. 0.]]\n",
      "ones :\n",
      " [[1. 1. 1. 1.]\n",
      " [1. 1. 1. 1.]]\n",
      "full :\n",
      " [[3.14 3.14 3.14 3.14]\n",
      " [3.14 3.14 3.14 3.14]]\n",
      "eye :\n",
      " [[1. 0. 0. 0.]\n",
      " [0. 1. 0. 0.]\n",
      " [0. 0. 1. 0.]\n",
      " [0. 0. 0. 1.]]\n"
     ]
    }
   ],
   "source": [
    "# sekvence: počátek, konec, krok\n",
    "print(\"arange: \", np.arange(1.1, 10, 2.1))\n",
    "\n",
    "# sekvence: počátek, konec, počet bodů\n",
    "print(\"linspace: \", np.linspace(1.1, 10, 4))\n",
    "\n",
    "# zeros, ones, eye, full\n",
    "print(\"zeros :\\n\", np.zeros((2,4)))\n",
    "print(\"ones :\\n\", np.ones((2,4)))\n",
    "print(\"full :\\n\", np.full((2,4), 3.14))\n",
    "\n",
    "# jednotkova matice\n",
    "print(\"eye :\\n\", np.eye(4))"
   ]
  },
  {
   "cell_type": "markdown",
   "metadata": {},
   "source": [
    "Další funkce pro tvorbu polí viz:\n",
    "\n",
    "[Numpy doc: array creation routines](https://docs.scipy.org/doc/numpy/reference/routines.array-creation.html)\n",
    "\n",
    "Pro čtení polí (matic) z textových tabulek lze použít funkci \n",
    "- [`np.loadtxt`](https://docs.scipy.org/doc/numpy/reference/generated/numpy.loadtxt.html#numpy.loadtxt).\n",
    "  EXTRÉMĚ pomalá\n",
    "- [`pandas.read_csv`](https://pandas.pydata.org/pandas-docs/stable/reference/api/pandas.read_csv.html) nejrychlejší  čtení CSV souborů\n",
    "- [`pandas.read_excel`](https://pandas.pydata.org/pandas-docs/stable/reference/api/pandas.read_excel.html#pandas.read_excel)\n",
    "- [`pandas.ExcelWriter`](https://pandas.pydata.org/pandas-docs/stable/reference/api/pandas.ExcelWriter.html#pandas.ExcelWriter)\n",
    "- [Pandas 10 min. tutorial](https://pandas.pydata.org/pandas-docs/stable/getting_started/10min.html#min)\n"
   ]
  },
  {
   "cell_type": "markdown",
   "metadata": {},
   "source": [
    "Vytvoříme si testovací Pandas tabulku = data frame."
   ]
  },
  {
   "cell_type": "code",
   "execution_count": 5,
   "metadata": {},
   "outputs": [
    {
     "data": {
      "text/html": [
       "<div>\n",
       "<style scoped>\n",
       "    .dataframe tbody tr th:only-of-type {\n",
       "        vertical-align: middle;\n",
       "    }\n",
       "\n",
       "    .dataframe tbody tr th {\n",
       "        vertical-align: top;\n",
       "    }\n",
       "\n",
       "    .dataframe thead th {\n",
       "        text-align: right;\n",
       "    }\n",
       "</style>\n",
       "<table border=\"1\" class=\"dataframe\">\n",
       "  <thead>\n",
       "    <tr style=\"text-align: right;\">\n",
       "      <th></th>\n",
       "      <th>A</th>\n",
       "      <th>B</th>\n",
       "      <th>C</th>\n",
       "      <th>D</th>\n",
       "    </tr>\n",
       "  </thead>\n",
       "  <tbody>\n",
       "    <tr>\n",
       "      <th>2013-01-01</th>\n",
       "      <td>-1.491937</td>\n",
       "      <td>1.025305</td>\n",
       "      <td>-0.138701</td>\n",
       "      <td>1.252101</td>\n",
       "    </tr>\n",
       "    <tr>\n",
       "      <th>2013-01-02</th>\n",
       "      <td>-1.281835</td>\n",
       "      <td>-0.855800</td>\n",
       "      <td>-0.259222</td>\n",
       "      <td>2.208703</td>\n",
       "    </tr>\n",
       "    <tr>\n",
       "      <th>2013-01-03</th>\n",
       "      <td>0.024131</td>\n",
       "      <td>0.095062</td>\n",
       "      <td>0.043423</td>\n",
       "      <td>-0.541202</td>\n",
       "    </tr>\n",
       "    <tr>\n",
       "      <th>2013-01-04</th>\n",
       "      <td>-0.290346</td>\n",
       "      <td>-1.149127</td>\n",
       "      <td>-0.040196</td>\n",
       "      <td>-0.009065</td>\n",
       "    </tr>\n",
       "    <tr>\n",
       "      <th>2013-01-05</th>\n",
       "      <td>0.120805</td>\n",
       "      <td>0.214545</td>\n",
       "      <td>0.262083</td>\n",
       "      <td>0.349202</td>\n",
       "    </tr>\n",
       "  </tbody>\n",
       "</table>\n",
       "</div>"
      ],
      "text/plain": [
       "                   A         B         C         D\n",
       "2013-01-01 -1.491937  1.025305 -0.138701  1.252101\n",
       "2013-01-02 -1.281835 -0.855800 -0.259222  2.208703\n",
       "2013-01-03  0.024131  0.095062  0.043423 -0.541202\n",
       "2013-01-04 -0.290346 -1.149127 -0.040196 -0.009065\n",
       "2013-01-05  0.120805  0.214545  0.262083  0.349202"
      ]
     },
     "execution_count": 5,
     "metadata": {},
     "output_type": "execute_result"
    }
   ],
   "source": [
    "import pandas as pd\n",
    "\n",
    "dates = pd.date_range('20130101', periods=6)\n",
    "df = pd.DataFrame(np.random.randn(6, 4), index=dates, columns=list('ABCD'))\n",
    "df.head()"
   ]
  },
  {
   "cell_type": "markdown",
   "metadata": {},
   "source": [
    "Vyzkoušíme zápis do Excel souboru a opětovné načtení.\n",
    "`ExcelWriter` není automaticky součástí Pandas a instaluje se jako samostatný balíček:\n",
    "    \n",
    "    pip install xlsxWriter\n",
    "    \n",
    "Anaconda má tento balíček již nainstalovaný automaticky."
   ]
  },
  {
   "cell_type": "code",
   "execution_count": 6,
   "metadata": {},
   "outputs": [
    {
     "ename": "ImportError",
     "evalue": "Missing optional dependency 'openpyxl'.  Use pip or conda to install openpyxl.",
     "output_type": "error",
     "traceback": [
      "\u001b[0;31m---------------------------------------------------------------------------\u001b[0m",
      "\u001b[0;31mModuleNotFoundError\u001b[0m                       Traceback (most recent call last)",
      "File \u001b[0;32m/usr/local/lib/python3.11/site-packages/pandas/compat/_optional.py:135\u001b[0m, in \u001b[0;36mimport_optional_dependency\u001b[0;34m(name, extra, errors, min_version)\u001b[0m\n\u001b[1;32m    134\u001b[0m \u001b[38;5;28;01mtry\u001b[39;00m:\n\u001b[0;32m--> 135\u001b[0m     module \u001b[38;5;241m=\u001b[39m \u001b[43mimportlib\u001b[49m\u001b[38;5;241;43m.\u001b[39;49m\u001b[43mimport_module\u001b[49m\u001b[43m(\u001b[49m\u001b[43mname\u001b[49m\u001b[43m)\u001b[49m\n\u001b[1;32m    136\u001b[0m \u001b[38;5;28;01mexcept\u001b[39;00m \u001b[38;5;167;01mImportError\u001b[39;00m:\n",
      "File \u001b[0;32m/usr/local/lib/python3.11/importlib/__init__.py:126\u001b[0m, in \u001b[0;36mimport_module\u001b[0;34m(name, package)\u001b[0m\n\u001b[1;32m    125\u001b[0m         level \u001b[38;5;241m+\u001b[39m\u001b[38;5;241m=\u001b[39m \u001b[38;5;241m1\u001b[39m\n\u001b[0;32m--> 126\u001b[0m \u001b[38;5;28;01mreturn\u001b[39;00m \u001b[43m_bootstrap\u001b[49m\u001b[38;5;241;43m.\u001b[39;49m\u001b[43m_gcd_import\u001b[49m\u001b[43m(\u001b[49m\u001b[43mname\u001b[49m\u001b[43m[\u001b[49m\u001b[43mlevel\u001b[49m\u001b[43m:\u001b[49m\u001b[43m]\u001b[49m\u001b[43m,\u001b[49m\u001b[43m \u001b[49m\u001b[43mpackage\u001b[49m\u001b[43m,\u001b[49m\u001b[43m \u001b[49m\u001b[43mlevel\u001b[49m\u001b[43m)\u001b[49m\n",
      "File \u001b[0;32m<frozen importlib._bootstrap>:1204\u001b[0m, in \u001b[0;36m_gcd_import\u001b[0;34m(name, package, level)\u001b[0m\n",
      "File \u001b[0;32m<frozen importlib._bootstrap>:1176\u001b[0m, in \u001b[0;36m_find_and_load\u001b[0;34m(name, import_)\u001b[0m\n",
      "File \u001b[0;32m<frozen importlib._bootstrap>:1140\u001b[0m, in \u001b[0;36m_find_and_load_unlocked\u001b[0;34m(name, import_)\u001b[0m\n",
      "\u001b[0;31mModuleNotFoundError\u001b[0m: No module named 'openpyxl'",
      "\nDuring handling of the above exception, another exception occurred:\n",
      "\u001b[0;31mImportError\u001b[0m                               Traceback (most recent call last)",
      "Cell \u001b[0;32mIn[6], line 4\u001b[0m\n\u001b[1;32m      1\u001b[0m \u001b[38;5;28;01mwith\u001b[39;00m pd\u001b[38;5;241m.\u001b[39mExcelWriter(\u001b[38;5;124m'\u001b[39m\u001b[38;5;124mABCD_data.xlsx\u001b[39m\u001b[38;5;124m'\u001b[39m) \u001b[38;5;28;01mas\u001b[39;00m writer:\n\u001b[1;32m      2\u001b[0m     df\u001b[38;5;241m.\u001b[39mto_excel(writer)\n\u001b[0;32m----> 4\u001b[0m df2 \u001b[38;5;241m=\u001b[39m \u001b[43mpd\u001b[49m\u001b[38;5;241;43m.\u001b[39;49m\u001b[43mread_excel\u001b[49m\u001b[43m(\u001b[49m\u001b[38;5;124;43m'\u001b[39;49m\u001b[38;5;124;43mABCD_data.xlsx\u001b[39;49m\u001b[38;5;124;43m'\u001b[39;49m\u001b[43m)\u001b[49m\n\u001b[1;32m      5\u001b[0m df2\u001b[38;5;241m.\u001b[39mhead()\n",
      "File \u001b[0;32m/usr/local/lib/python3.11/site-packages/pandas/io/excel/_base.py:495\u001b[0m, in \u001b[0;36mread_excel\u001b[0;34m(io, sheet_name, header, names, index_col, usecols, dtype, engine, converters, true_values, false_values, skiprows, nrows, na_values, keep_default_na, na_filter, verbose, parse_dates, date_parser, date_format, thousands, decimal, comment, skipfooter, storage_options, dtype_backend, engine_kwargs)\u001b[0m\n\u001b[1;32m    493\u001b[0m \u001b[38;5;28;01mif\u001b[39;00m \u001b[38;5;129;01mnot\u001b[39;00m \u001b[38;5;28misinstance\u001b[39m(io, ExcelFile):\n\u001b[1;32m    494\u001b[0m     should_close \u001b[38;5;241m=\u001b[39m \u001b[38;5;28;01mTrue\u001b[39;00m\n\u001b[0;32m--> 495\u001b[0m     io \u001b[38;5;241m=\u001b[39m \u001b[43mExcelFile\u001b[49m\u001b[43m(\u001b[49m\n\u001b[1;32m    496\u001b[0m \u001b[43m        \u001b[49m\u001b[43mio\u001b[49m\u001b[43m,\u001b[49m\n\u001b[1;32m    497\u001b[0m \u001b[43m        \u001b[49m\u001b[43mstorage_options\u001b[49m\u001b[38;5;241;43m=\u001b[39;49m\u001b[43mstorage_options\u001b[49m\u001b[43m,\u001b[49m\n\u001b[1;32m    498\u001b[0m \u001b[43m        \u001b[49m\u001b[43mengine\u001b[49m\u001b[38;5;241;43m=\u001b[39;49m\u001b[43mengine\u001b[49m\u001b[43m,\u001b[49m\n\u001b[1;32m    499\u001b[0m \u001b[43m        \u001b[49m\u001b[43mengine_kwargs\u001b[49m\u001b[38;5;241;43m=\u001b[39;49m\u001b[43mengine_kwargs\u001b[49m\u001b[43m,\u001b[49m\n\u001b[1;32m    500\u001b[0m \u001b[43m    \u001b[49m\u001b[43m)\u001b[49m\n\u001b[1;32m    501\u001b[0m \u001b[38;5;28;01melif\u001b[39;00m engine \u001b[38;5;129;01mand\u001b[39;00m engine \u001b[38;5;241m!=\u001b[39m io\u001b[38;5;241m.\u001b[39mengine:\n\u001b[1;32m    502\u001b[0m     \u001b[38;5;28;01mraise\u001b[39;00m \u001b[38;5;167;01mValueError\u001b[39;00m(\n\u001b[1;32m    503\u001b[0m         \u001b[38;5;124m\"\u001b[39m\u001b[38;5;124mEngine should not be specified when passing \u001b[39m\u001b[38;5;124m\"\u001b[39m\n\u001b[1;32m    504\u001b[0m         \u001b[38;5;124m\"\u001b[39m\u001b[38;5;124man ExcelFile - ExcelFile already has the engine set\u001b[39m\u001b[38;5;124m\"\u001b[39m\n\u001b[1;32m    505\u001b[0m     )\n",
      "File \u001b[0;32m/usr/local/lib/python3.11/site-packages/pandas/io/excel/_base.py:1567\u001b[0m, in \u001b[0;36mExcelFile.__init__\u001b[0;34m(self, path_or_buffer, engine, storage_options, engine_kwargs)\u001b[0m\n\u001b[1;32m   1564\u001b[0m \u001b[38;5;28mself\u001b[39m\u001b[38;5;241m.\u001b[39mengine \u001b[38;5;241m=\u001b[39m engine\n\u001b[1;32m   1565\u001b[0m \u001b[38;5;28mself\u001b[39m\u001b[38;5;241m.\u001b[39mstorage_options \u001b[38;5;241m=\u001b[39m storage_options\n\u001b[0;32m-> 1567\u001b[0m \u001b[38;5;28mself\u001b[39m\u001b[38;5;241m.\u001b[39m_reader \u001b[38;5;241m=\u001b[39m \u001b[38;5;28;43mself\u001b[39;49m\u001b[38;5;241;43m.\u001b[39;49m\u001b[43m_engines\u001b[49m\u001b[43m[\u001b[49m\u001b[43mengine\u001b[49m\u001b[43m]\u001b[49m\u001b[43m(\u001b[49m\n\u001b[1;32m   1568\u001b[0m \u001b[43m    \u001b[49m\u001b[38;5;28;43mself\u001b[39;49m\u001b[38;5;241;43m.\u001b[39;49m\u001b[43m_io\u001b[49m\u001b[43m,\u001b[49m\n\u001b[1;32m   1569\u001b[0m \u001b[43m    \u001b[49m\u001b[43mstorage_options\u001b[49m\u001b[38;5;241;43m=\u001b[39;49m\u001b[43mstorage_options\u001b[49m\u001b[43m,\u001b[49m\n\u001b[1;32m   1570\u001b[0m \u001b[43m    \u001b[49m\u001b[43mengine_kwargs\u001b[49m\u001b[38;5;241;43m=\u001b[39;49m\u001b[43mengine_kwargs\u001b[49m\u001b[43m,\u001b[49m\n\u001b[1;32m   1571\u001b[0m \u001b[43m\u001b[49m\u001b[43m)\u001b[49m\n",
      "File \u001b[0;32m/usr/local/lib/python3.11/site-packages/pandas/io/excel/_openpyxl.py:552\u001b[0m, in \u001b[0;36mOpenpyxlReader.__init__\u001b[0;34m(self, filepath_or_buffer, storage_options, engine_kwargs)\u001b[0m\n\u001b[1;32m    534\u001b[0m \u001b[38;5;129m@doc\u001b[39m(storage_options\u001b[38;5;241m=\u001b[39m_shared_docs[\u001b[38;5;124m\"\u001b[39m\u001b[38;5;124mstorage_options\u001b[39m\u001b[38;5;124m\"\u001b[39m])\n\u001b[1;32m    535\u001b[0m \u001b[38;5;28;01mdef\u001b[39;00m \u001b[38;5;21m__init__\u001b[39m(\n\u001b[1;32m    536\u001b[0m     \u001b[38;5;28mself\u001b[39m,\n\u001b[0;32m   (...)\u001b[0m\n\u001b[1;32m    539\u001b[0m     engine_kwargs: \u001b[38;5;28mdict\u001b[39m \u001b[38;5;241m|\u001b[39m \u001b[38;5;28;01mNone\u001b[39;00m \u001b[38;5;241m=\u001b[39m \u001b[38;5;28;01mNone\u001b[39;00m,\n\u001b[1;32m    540\u001b[0m ) \u001b[38;5;241m-\u001b[39m\u001b[38;5;241m>\u001b[39m \u001b[38;5;28;01mNone\u001b[39;00m:\n\u001b[1;32m    541\u001b[0m \u001b[38;5;250m    \u001b[39m\u001b[38;5;124;03m\"\"\"\u001b[39;00m\n\u001b[1;32m    542\u001b[0m \u001b[38;5;124;03m    Reader using openpyxl engine.\u001b[39;00m\n\u001b[1;32m    543\u001b[0m \n\u001b[0;32m   (...)\u001b[0m\n\u001b[1;32m    550\u001b[0m \u001b[38;5;124;03m        Arbitrary keyword arguments passed to excel engine.\u001b[39;00m\n\u001b[1;32m    551\u001b[0m \u001b[38;5;124;03m    \"\"\"\u001b[39;00m\n\u001b[0;32m--> 552\u001b[0m     \u001b[43mimport_optional_dependency\u001b[49m\u001b[43m(\u001b[49m\u001b[38;5;124;43m\"\u001b[39;49m\u001b[38;5;124;43mopenpyxl\u001b[39;49m\u001b[38;5;124;43m\"\u001b[39;49m\u001b[43m)\u001b[49m\n\u001b[1;32m    553\u001b[0m     \u001b[38;5;28msuper\u001b[39m()\u001b[38;5;241m.\u001b[39m\u001b[38;5;21m__init__\u001b[39m(\n\u001b[1;32m    554\u001b[0m         filepath_or_buffer,\n\u001b[1;32m    555\u001b[0m         storage_options\u001b[38;5;241m=\u001b[39mstorage_options,\n\u001b[1;32m    556\u001b[0m         engine_kwargs\u001b[38;5;241m=\u001b[39mengine_kwargs,\n\u001b[1;32m    557\u001b[0m     )\n",
      "File \u001b[0;32m/usr/local/lib/python3.11/site-packages/pandas/compat/_optional.py:138\u001b[0m, in \u001b[0;36mimport_optional_dependency\u001b[0;34m(name, extra, errors, min_version)\u001b[0m\n\u001b[1;32m    136\u001b[0m \u001b[38;5;28;01mexcept\u001b[39;00m \u001b[38;5;167;01mImportError\u001b[39;00m:\n\u001b[1;32m    137\u001b[0m     \u001b[38;5;28;01mif\u001b[39;00m errors \u001b[38;5;241m==\u001b[39m \u001b[38;5;124m\"\u001b[39m\u001b[38;5;124mraise\u001b[39m\u001b[38;5;124m\"\u001b[39m:\n\u001b[0;32m--> 138\u001b[0m         \u001b[38;5;28;01mraise\u001b[39;00m \u001b[38;5;167;01mImportError\u001b[39;00m(msg)\n\u001b[1;32m    139\u001b[0m     \u001b[38;5;28;01mreturn\u001b[39;00m \u001b[38;5;28;01mNone\u001b[39;00m\n\u001b[1;32m    141\u001b[0m \u001b[38;5;66;03m# Handle submodules: if we have submodule, grab parent module from sys.modules\u001b[39;00m\n",
      "\u001b[0;31mImportError\u001b[0m: Missing optional dependency 'openpyxl'.  Use pip or conda to install openpyxl."
     ]
    }
   ],
   "source": [
    "with pd.ExcelWriter('ABCD_data.xlsx') as writer:\n",
    "    df.to_excel(writer)\n",
    "    \n",
    "df2 = pd.read_excel('ABCD_data.xlsx')\n",
    "df2.head()"
   ]
  },
  {
   "cell_type": "markdown",
   "metadata": {},
   "source": [
    "# 2.2.2 Operace s array\n",
    "\n",
    "Binární operátory je možné provádět pro dvě pole se stejným `shape`."
   ]
  },
  {
   "cell_type": "code",
   "execution_count": 8,
   "metadata": {},
   "outputs": [
    {
     "name": "stdout",
     "output_type": "stream",
     "text": [
      "[[0 1 2]\n",
      " [1 2 3]]\n",
      "[[1. 1. 1.]\n",
      " [1. 1. 1.]]\n"
     ]
    }
   ],
   "source": [
    "a = np.array([[0,1,2], [1,2,3]])\n",
    "b = np.ones((2,3))\n",
    "print(a)\n",
    "print(b)"
   ]
  },
  {
   "cell_type": "code",
   "execution_count": 8,
   "metadata": {},
   "outputs": [
    {
     "data": {
      "text/plain": [
       "array([[1., 2., 3.],\n",
       "       [2., 3., 4.]])"
      ]
     },
     "execution_count": 8,
     "metadata": {},
     "output_type": "execute_result"
    }
   ],
   "source": [
    "a + b"
   ]
  },
  {
   "cell_type": "code",
   "execution_count": 9,
   "metadata": {},
   "outputs": [
    {
     "data": {
      "text/plain": [
       "array([[0., 1., 2.],\n",
       "       [1., 2., 3.]])"
      ]
     },
     "execution_count": 9,
     "metadata": {},
     "output_type": "execute_result"
    }
   ],
   "source": [
    "a * b"
   ]
  },
  {
   "cell_type": "code",
   "execution_count": 10,
   "metadata": {},
   "outputs": [
    {
     "data": {
      "text/plain": [
       "array([[False, False,  True],\n",
       "       [False,  True,  True]])"
      ]
     },
     "execution_count": 10,
     "metadata": {},
     "output_type": "execute_result"
    }
   ],
   "source": [
    "a > b\n"
   ]
  },
  {
   "cell_type": "code",
   "execution_count": 10,
   "metadata": {},
   "outputs": [
    {
     "data": {
      "text/plain": [
       "array([[ 0.0000000e+00,  1.0000000e+00,  1.2246468e-16],\n",
       "       [ 1.0000000e+00,  1.2246468e-16, -1.0000000e+00]])"
      ]
     },
     "execution_count": 10,
     "metadata": {},
     "output_type": "execute_result"
    }
   ],
   "source": [
    "# I funkce lze aplikovat po jednotlivých elementech:\n",
    "np.sin(np.pi * a / 2)"
   ]
  },
  {
   "cell_type": "code",
   "execution_count": 5,
   "metadata": {},
   "outputs": [
    {
     "data": {
      "text/plain": [
       "array([0.09983342, 0.96355819])"
      ]
     },
     "execution_count": 5,
     "metadata": {},
     "output_type": "execute_result"
    }
   ],
   "source": [
    "np.sin([0.1, 1.3])"
   ]
  },
  {
   "cell_type": "code",
   "execution_count": 11,
   "metadata": {},
   "outputs": [
    {
     "name": "stdout",
     "output_type": "stream",
     "text": [
      "[[1]]\n"
     ]
    },
    {
     "data": {
      "text/plain": [
       "0.8414709848078965"
      ]
     },
     "execution_count": 11,
     "metadata": {},
     "output_type": "execute_result"
    }
   ],
   "source": [
    "# funkce z math fungují jen na skalárech\n",
    "import math\n",
    "x = np.array([[1]])\n",
    "print(x)\n",
    "math.sin(x)"
   ]
  },
  {
   "cell_type": "code",
   "execution_count": 12,
   "metadata": {},
   "outputs": [
    {
     "name": "stdout",
     "output_type": "stream",
     "text": [
      "A =  [[0 1]\n",
      " [2 3]] \n",
      "x =  [ 10 100]\n",
      "A @ x =  [100 320]\n",
      "np.dot =  [100 320]\n",
      "[[0 2]\n",
      " [6 8]]\n"
     ]
    }
   ],
   "source": [
    "# Maticove nasobeni @\n",
    "A = np.array([[0, 1], [2, 3]])\n",
    "x = np.array([10, 100])\n",
    "print(\"A = \", A, \"\\nx = \", x)\n",
    "print(\"A @ x = \", A @ x)\n",
    "print(\"np.dot = \", np.dot(A, x))\n",
    "B = np.array([[3, 1], [0, 2]])\n",
    "print(A @ B) \n"
   ]
  },
  {
   "cell_type": "markdown",
   "metadata": {},
   "source": [
    "### Logaritmická spirála\n",
    "\n",
    "Příklad použití transformačních matic pro rotaci `R` a škálování `S`."
   ]
  },
  {
   "cell_type": "code",
   "execution_count": 26,
   "metadata": {},
   "outputs": [
    {
     "data": {
      "text/plain": [
       "[<matplotlib.lines.Line2D at 0x7f5cf70da290>]"
      ]
     },
     "execution_count": 26,
     "metadata": {},
     "output_type": "execute_result"
    },
    {
     "data": {
      "image/png": "[encoded data removed]",
      "text/plain": [
       "<Figure size 350x350 with 1 Axes>"
      ]
     },
     "metadata": {},
     "output_type": "display_data"
    }
   ],
   "source": [
    "N = 10\n",
    "theta = 2 * np.pi * 0.1\n",
    "\n",
    "c, s = np.cos(theta), np.sin(theta)\n",
    "R = np.array(((c,-s), (s, c)))\n",
    "S = 0.9 * np.eye(2)\n",
    "points = np.zeros((N, 2))\n",
    "x = np.array([1, 0])\n",
    "for i in range(N):\n",
    "    x = points[i] = S @ R @ x\n",
    "import matplotlib.pyplot as plt\n",
    "fig,ax = plt.subplots(figsize=(5,5), dpi=70)\n",
    "ax.plot(*points.T)\n",
    "ax.set_xlim(-1, 1)\n",
    "ax.set_ylim(-1, 1)\n",
    "\n",
    "\n",
    "(R @ points[:, :, None]).reshape((N, 2)).T\n",
    "ax.plot(*(R @ points[:, :, None]).reshape((N, 2)).T)"
   ]
  },
  {
   "cell_type": "markdown",
   "metadata": {},
   "source": [
    "### Array indexing and slicing\n",
    "Podpora více indexů najednou v hranatých závorkách pro indexování vícerozměrných polí.\n",
    "\n",
    "Řez ve formě `[start : end : step]` vybere v jedné dimenzi pouze indexy začínající `start`, s krokem `step` a menší než `end`."
   ]
  },
  {
   "cell_type": "code",
   "execution_count": 36,
   "metadata": {},
   "outputs": [
    {
     "name": "stdout",
     "output_type": "stream",
     "text": [
      "matrix A:\n",
      " [[ 0 10  2]\n",
      " [ 1  2  3]] \n",
      "\n",
      "[[0, 10, 2], [1, 2, 3]]\n",
      "element on row 0, col 1:  [0, 10, 2]\n",
      "\n",
      "first col:\n",
      " [0 1]\n"
     ]
    }
   ],
   "source": [
    "# vstupní matice 2x3\n",
    "print(\"matrix A:\\n\", a, \"\\n\")\n",
    "\n",
    "# indexování pro vložené listy\n",
    "a_list = a.tolist()\n",
    "print(a_list)\n",
    "\n",
    "# indexovat musím každý list zvlášť\n",
    "# nefunguje dobře s řezy podle jiného nežli prvního indexu\n",
    "print(\"element on row 0, col 1: \", a_list[:][0])\n",
    "print()\n",
    "# Více indexů povoleno v rámci jedné vybírací operace\n",
    "print(\"first col:\\n\", a[:,0])\n",
    "#a[:, 0] = 10\n",
    "#print(a)"
   ]
  },
  {
   "cell_type": "code",
   "execution_count": 37,
   "metadata": {},
   "outputs": [
    {
     "data": {
      "text/plain": [
       "array([0, 1])"
      ]
     },
     "execution_count": 37,
     "metadata": {},
     "output_type": "execute_result"
    }
   ],
   "source": [
    "# Pomocí řezů lze vybírat pod výběry.\n",
    "# první sloupec\n",
    "a[:, 0]"
   ]
  },
  {
   "cell_type": "code",
   "execution_count": 38,
   "metadata": {},
   "outputs": [
    {
     "data": {
      "text/plain": [
       "array([1, 2])"
      ]
     },
     "execution_count": 38,
     "metadata": {},
     "output_type": "execute_result"
    }
   ],
   "source": [
    "# Druhý řádek, prvky 0..2\n",
    "a[1, 0:2]"
   ]
  },
  {
   "cell_type": "code",
   "execution_count": 41,
   "metadata": {},
   "outputs": [
    {
     "data": {
      "text/plain": [
       "array([2, 3])"
      ]
     },
     "execution_count": 41,
     "metadata": {},
     "output_type": "execute_result"
    }
   ],
   "source": [
    "# Poslední dva prvky druhého řádku\n",
    "a[1, -2:]"
   ]
  },
  {
   "cell_type": "code",
   "execution_count": 42,
   "metadata": {},
   "outputs": [
    {
     "data": {
      "text/plain": [
       "array([ 2, 10,  0])"
      ]
     },
     "execution_count": 42,
     "metadata": {},
     "output_type": "execute_result"
    }
   ],
   "source": [
    "# První řádek pozpátku.\n",
    "a[0,::-1]"
   ]
  },
  {
   "cell_type": "code",
   "execution_count": 44,
   "metadata": {},
   "outputs": [
    {
     "data": {
      "text/plain": [
       "array([0, 1])"
      ]
     },
     "execution_count": 44,
     "metadata": {},
     "output_type": "execute_result"
    }
   ],
   "source": [
    "# libovolný počet : za sebou, lze napsat jako `...`\n",
    "# doplní počet : aby naplnil shape \n",
    "a[..., 0]"
   ]
  },
  {
   "cell_type": "code",
   "execution_count": 46,
   "metadata": {},
   "outputs": [
    {
     "name": "stdout",
     "output_type": "stream",
     "text": [
      "[ 0 10  2] dim 1\n",
      "\n",
      " row vector:  [[ 0 10  2]]\n",
      "\n",
      "col vector: \n",
      " [[ 0]\n",
      " [10]\n",
      " [ 2]]\n"
     ]
    }
   ],
   "source": [
    "# Konverze vektoru na matici, přidání axis\n",
    "b=a[0]\n",
    "print(b, 'dim', b.ndim)\n",
    "\n",
    "print(\"\\n row vector: \", b[None, :])\n",
    "print(\"\\ncol vector: \\n\", b[:, np.newaxis])"
   ]
  },
  {
   "cell_type": "code",
   "execution_count": 48,
   "metadata": {
    "tags": []
   },
   "outputs": [
    {
     "data": {
      "text/plain": [
       "array([[100, 210, 302],\n",
       "       [101, 202, 303]])"
      ]
     },
     "execution_count": 48,
     "metadata": {},
     "output_type": "execute_result"
    }
   ],
   "source": [
    "# automatická konverze na větší matice ...broadcasting\n",
    "c = np.array([100,200,300])\n",
    "a + c"
   ]
  },
  {
   "cell_type": "code",
   "execution_count": 50,
   "metadata": {},
   "outputs": [
    {
     "data": {
      "text/plain": [
       "array([[100, 210, 302],\n",
       "       [101, 202, 303]])"
      ]
     },
     "execution_count": 50,
     "metadata": {},
     "output_type": "execute_result"
    }
   ],
   "source": [
    "a + c[np.newaxis, :]"
   ]
  },
  {
   "cell_type": "code",
   "execution_count": 11,
   "metadata": {},
   "outputs": [
    {
     "ename": "NameError",
     "evalue": "name 'a' is not defined",
     "output_type": "error",
     "traceback": [
      "\u001b[0;31m---------------------------------------------------------------------------\u001b[0m",
      "\u001b[0;31mNameError\u001b[0m                                 Traceback (most recent call last)",
      "Cell \u001b[0;32mIn[11], line 1\u001b[0m\n\u001b[0;32m----> 1\u001b[0m \u001b[43ma\u001b[49m \u001b[38;5;241m+\u001b[39m c[:, np\u001b[38;5;241m.\u001b[39mnewaxis]\n",
      "\u001b[0;31mNameError\u001b[0m: name 'a' is not defined"
     ]
    }
   ],
   "source": [
    "a + c[:, np.newaxis]"
   ]
  },
  {
   "cell_type": "markdown",
   "metadata": {},
   "source": [
    "### Broadcasting\n",
    "Pokud operandy nemají stejný tvar, je možno operaci provést pokud lze jeden operand rozšířit na shape druhého operandu:\n",
    "1. Operand s nižším `ndim` se zleva doplní dimenzemi s rozměrem 1 do počtu dimenzí druhého operandu.\n",
    "2. Pokud v některé dimenzi je rozměr jednoho operandu N a rozměr druhého 1. Druhý operand se v této ose použije N krát.\n",
    "\n",
    "Obecná pravidla konverze polí menší dimenze na pole vyšší dimenze při (binárních) operacích:\n",
    "\n",
    "[Numpy broadcasting](https://docs.scipy.org/doc/numpy-1.13.0/reference/ufuncs.html#broadcasting)"
   ]
  },
  {
   "cell_type": "code",
   "execution_count": 52,
   "metadata": {},
   "outputs": [
    {
     "data": {
      "text/plain": [
       "array([[ 0, 20,  4],\n",
       "       [ 2,  4,  6]])"
      ]
     },
     "execution_count": 52,
     "metadata": {},
     "output_type": "execute_result"
    }
   ],
   "source": [
    "# Nejjednodušší příklad, násobení skalárem\n",
    "b = 2 * a\n",
    "b"
   ]
  },
  {
   "cell_type": "code",
   "execution_count": 53,
   "metadata": {},
   "outputs": [
    {
     "data": {
      "text/plain": [
       "array([[ 0., 20.,  4.],\n",
       "       [ 2.,  4.,  6.]])"
      ]
     },
     "execution_count": 53,
     "metadata": {},
     "output_type": "execute_result"
    }
   ],
   "source": [
    "# ... je ekvivalentní násobení maticí dvojek.\n",
    "two = np.full((2,3), 2.0)\n",
    "two * a"
   ]
  },
  {
   "cell_type": "code",
   "execution_count": 54,
   "metadata": {},
   "outputs": [
    {
     "name": "stdout",
     "output_type": "stream",
     "text": [
      "a matrix:\n",
      " [[0 1]\n",
      " [2 3]]\n",
      "[3 4] shape: (2,)\n",
      "[[3 4]] shape: (1, 2)\n",
      "concat:\n",
      "  [[3 4]\n",
      " [3 4]]\n"
     ]
    },
    {
     "data": {
      "text/plain": [
       "array([[3, 5],\n",
       "       [5, 7]])"
      ]
     },
     "execution_count": 54,
     "metadata": {},
     "output_type": "execute_result"
    }
   ],
   "source": [
    "# Broadcasting pro vektor a matici.\n",
    "a = np.arange(4).reshape((2,2))\n",
    "print(\"a matrix:\\n\", a)\n",
    "b = np.arange(3,5)\n",
    "print(b, 'shape:', b.shape)\n",
    "bb=b[None, :]\n",
    "print(bb, 'shape:', bb.shape)\n",
    "print(\"concat:\\n \", np.concatenate((bb,bb)))\n",
    "\n",
    "b+a"
   ]
  },
  {
   "cell_type": "code",
   "execution_count": 26,
   "metadata": {},
   "outputs": [
    {
     "data": {
      "text/plain": [
       "array([[2., 2.],\n",
       "       [2., 2.],\n",
       "       [2., 2.],\n",
       "       [2., 2.]])"
      ]
     },
     "execution_count": 26,
     "metadata": {},
     "output_type": "execute_result"
    }
   ],
   "source": [
    "np.ones((4,2)) + np.ones((4,1))"
   ]
  },
  {
   "cell_type": "markdown",
   "metadata": {},
   "source": [
    "Explicitní broadcasting pomocí `None` indexu. Mnohem lepší srozumitelnost, vnější součin:"
   ]
  },
  {
   "cell_type": "code",
   "execution_count": 57,
   "metadata": {},
   "outputs": [
    {
     "data": {
      "text/plain": [
       "array([[0, 0, 0, 0],\n",
       "       [0, 1, 2, 3],\n",
       "       [0, 2, 4, 6],\n",
       "       [0, 3, 6, 9]])"
      ]
     },
     "execution_count": 57,
     "metadata": {},
     "output_type": "execute_result"
    }
   ],
   "source": [
    "a = np.arange(4)\n",
    "# outer product\n",
    "a[None, :] * a[:, None] "
   ]
  },
  {
   "cell_type": "code",
   "execution_count": 59,
   "metadata": {},
   "outputs": [
    {
     "data": {
      "text/plain": [
       "array([[0, 0, 0, 0],\n",
       "       [0, 1, 2, 3],\n",
       "       [0, 2, 4, 6],\n",
       "       [0, 3, 6, 9]])"
      ]
     },
     "execution_count": 59,
     "metadata": {},
     "output_type": "execute_result"
    }
   ],
   "source": [
    "a[:, None] @ a[None, :] "
   ]
  },
  {
   "cell_type": "markdown",
   "metadata": {},
   "source": [
    "### Array reshaping"
   ]
  },
  {
   "cell_type": "code",
   "execution_count": 67,
   "metadata": {},
   "outputs": [
    {
     "name": "stdout",
     "output_type": "stream",
     "text": [
      "a:  [[0 1]\n",
      " [2 3]]\n",
      "po přiřazení do b:\n",
      " b:  [10  1  2  3]\n",
      "a:  [[10  1]\n",
      " [ 2  3]]\n"
     ]
    }
   ],
   "source": [
    "# Rozbalení dat do prostého pole, může být vnitřně realizováno jen pomocí metadat.\n",
    "# ... vrátí se \"view\".\n",
    "a = np.arange(4).reshape((2,2))\n",
    "print(\"a: \", a)\n",
    "b = a.ravel()\n",
    "b[0] =10\n",
    "print(\"po přiřazení do b:\\n\", \"b: \", b)\n",
    "print(\"a: \", a)"
   ]
  },
  {
   "cell_type": "code",
   "execution_count": 69,
   "metadata": {},
   "outputs": [
    {
     "name": "stdout",
     "output_type": "stream",
     "text": [
      "a:  [[0 1]\n",
      " [2 3]]\n",
      "po přiřazení do b:\n",
      " b:  [10  1  2  3]\n",
      "a:  [[0 1]\n",
      " [2 3]]\n"
     ]
    }
   ],
   "source": [
    "# Stejné dělá metoda flatten, ale nyní vrací kopii skutčeně rozbalených dat. \n",
    "a = np.arange(4).reshape((2,2))\n",
    "print(\"a: \", a)\n",
    "b = a.flatten()\n",
    "b[0] =10\n",
    "print(\"po přiřazení do b:\\n\", \"b: \", b)\n",
    "print(\"a: \", a)"
   ]
  },
  {
   "cell_type": "code",
   "execution_count": 43,
   "metadata": {},
   "outputs": [
    {
     "data": {
      "text/plain": [
       "array([[100,   1],\n",
       "       [  2,   3]])"
      ]
     },
     "execution_count": 43,
     "metadata": {},
     "output_type": "execute_result"
    }
   ],
   "source": [
    "# Změna tvaru pomocí přiřazení do attributu shape:\n",
    "b.shape = (2, 2)\n",
    "b"
   ]
  },
  {
   "cell_type": "code",
   "execution_count": null,
   "metadata": {},
   "outputs": [],
   "source": [
    "# transpozice\n",
    "a.T\n",
    "a.transpose()"
   ]
  },
  {
   "cell_type": "code",
   "execution_count": 70,
   "metadata": {},
   "outputs": [
    {
     "name": "stdout",
     "output_type": "stream",
     "text": [
      "\n",
      "xyz: \n",
      " [[[111.   3.]\n",
      "  [  2.   0.]]\n",
      "\n",
      " [[  1.   0.]\n",
      "  [  0.   0.]]]\n",
      "\n",
      "transpose: \n",
      " [[[111.   3.]\n",
      "  [  1.   0.]]\n",
      "\n",
      " [[  2.   0.]\n",
      "  [  0.   0.]]]\n"
     ]
    }
   ],
   "source": [
    "# Obecná transpozice jak permutace axis.\n",
    "\n",
    "# Třírozměrný tenzor, osy si označíme pomocí prvků 1,2,3 \n",
    "xyz  = np.zeros( (2,2,2) )\n",
    "xyz[0,0,0] = 111\n",
    "xyz[1,0,0] = 1\n",
    "xyz[0,1,0] = 2\n",
    "xyz[0,0,1] = 3\n",
    "\n",
    "print(\"\\nxyz: \\n\", xyz)\n",
    "# Prohodíme první a druhou osu:\n",
    "print(\"\\ntranspose: \\n\", xyz.transpose((1,0,2)))"
   ]
  },
  {
   "cell_type": "markdown",
   "metadata": {},
   "source": [
    "### Array stacking\n",
    "Posazení dvou matic (polí) nad sebe, vedle sebe ... "
   ]
  },
  {
   "cell_type": "code",
   "execution_count": 74,
   "metadata": {},
   "outputs": [
    {
     "name": "stdout",
     "output_type": "stream",
     "text": [
      "[[0 1 2]\n",
      " [1 2 3]]\n",
      "[ 0 10 20]\n"
     ]
    }
   ],
   "source": [
    "a= list_matrix =np.array([ list(range(3)), list(range(1,4))])\n",
    "print(a)\n",
    "b = 10*a[0]\n",
    "print(b)"
   ]
  },
  {
   "cell_type": "code",
   "execution_count": null,
   "metadata": {},
   "outputs": [],
   "source": []
  },
  {
   "cell_type": "code",
   "execution_count": 75,
   "metadata": {},
   "outputs": [
    {
     "data": {
      "text/plain": [
       "array([[0, 1, 2],\n",
       "       [1, 2, 3]])"
      ]
     },
     "metadata": {},
     "output_type": "display_data"
    },
    {
     "data": {
      "text/plain": [
       "array([ 0, 10, 20])"
      ]
     },
     "metadata": {},
     "output_type": "display_data"
    },
    {
     "name": "stdout",
     "output_type": "stream",
     "text": [
      "\n",
      "\n"
     ]
    },
    {
     "data": {
      "text/plain": [
       "array([[ 0,  1,  0],\n",
       "       [ 1,  2, 10],\n",
       "       [ 2,  3, 20]])"
      ]
     },
     "execution_count": 75,
     "metadata": {},
     "output_type": "execute_result"
    }
   ],
   "source": [
    "display(a)\n",
    "display(b)\n",
    "print(\"\\n\")\n",
    "# Více polí stejného shape na pole vyšší dimenze. \n",
    "# Např. z vektorů udělat matici (vektory jako sloupce)\n",
    "np.stack((a[0], a[1], b), axis=1)"
   ]
  },
  {
   "cell_type": "code",
   "execution_count": 76,
   "metadata": {},
   "outputs": [
    {
     "data": {
      "text/plain": [
       "array([[ 0,  1,  2],\n",
       "       [ 1,  2,  3],\n",
       "       [ 0, 10, 20]])"
      ]
     },
     "execution_count": 76,
     "metadata": {},
     "output_type": "execute_result"
    }
   ],
   "source": [
    "# To samé v řádcích\n",
    "np.stack((a[0], a[1], b))"
   ]
  },
  {
   "cell_type": "code",
   "execution_count": 79,
   "metadata": {},
   "outputs": [
    {
     "data": {
      "text/plain": [
       "array([[ 0,  1,  2],\n",
       "       [ 1,  2,  3],\n",
       "       [ 0, 10, 20]])"
      ]
     },
     "execution_count": 79,
     "metadata": {},
     "output_type": "execute_result"
    }
   ],
   "source": [
    "# Více polí různý shape, zachování dimenze. Stejný shape kolmo na axise slučování.\n",
    "np.concatenate((a, b[None,:]), axis=0) \n",
    "# V axis 0 různá velikost v ostatních axes shoda."
   ]
  },
  {
   "cell_type": "code",
   "execution_count": 81,
   "metadata": {},
   "outputs": [
    {
     "data": {
      "text/plain": [
       "array([[ 0,  1,  0],\n",
       "       [ 1,  2, 10],\n",
       "       [ 2,  3, 20]])"
      ]
     },
     "execution_count": 81,
     "metadata": {},
     "output_type": "execute_result"
    }
   ],
   "source": [
    "np.concatenate((a.T, b[:, None]), axis=1) "
   ]
  },
  {
   "cell_type": "markdown",
   "metadata": {},
   "source": [
    "# 2.2.3 Numpy functions\n",
    "\n",
    "Get help and try functions:\n",
    "- min(), max() - return scalar\n",
    "- maximum(), minimum() - return array; minimum(A,B) = min(stack(A,B),axis=0)\n",
    "- average(), mean(), sum(), prod() - return scalar, like min, max\n",
    "- diff() - first difference, a[1:] - a[:-1]\n",
    "- dot()\n",
    "- cumsum(), cumprod()"
   ]
  },
  {
   "cell_type": "code",
   "execution_count": 12,
   "metadata": {},
   "outputs": [
    {
     "name": "stdout",
     "output_type": "stream",
     "text": [
      "[[1 2 3]\n",
      " [3 4 5]]\n",
      "axis 0: [4 6 8]\n",
      "axis 1: [ 6 12]\n"
     ]
    }
   ],
   "source": [
    "a= np.array([[1,2,3],[3,4,5]])\n",
    "print(a)\n",
    "          \n",
    "print(\"axis 0:\", np.sum([[1,2,3],[3,4,5]], axis=0))\n",
    "print(\"axis 1:\", np.sum([[1,2,3],[3,4,5]], axis=1))\n"
   ]
  },
  {
   "cell_type": "markdown",
   "metadata": {},
   "source": [
    "### Linear algebra"
   ]
  },
  {
   "cell_type": "code",
   "execution_count": 53,
   "metadata": {},
   "outputs": [],
   "source": [
    "from numpy import linalg as la"
   ]
  },
  {
   "cell_type": "markdown",
   "metadata": {},
   "source": [
    "\n",
    "## `la` - klíčové funkce\n",
    "\n",
    "- la.norm()\n",
    "- la.solve(), la.lu(), la.cholesky(), la.qr()\n",
    "- la.eig(), la.svd()\n",
    "\n",
    "np.fft module"
   ]
  },
  {
   "cell_type": "code",
   "execution_count": null,
   "metadata": {
    "scrolled": true
   },
   "outputs": [],
   "source": [
    "# TODO: vyzkousejte la.eig pro vypoctenou matici P.T @ D @ P."
   ]
  },
  {
   "cell_type": "markdown",
   "metadata": {},
   "source": [
    "# Cvičení\n",
    "\n",
    "## Elipsy\n",
    "Parametrická rovnice elipsy s poloosami $a$, $b$ je:\n",
    "        \n",
    "$$x = a\\cos\\phi,\\quad y = b\\sin\\phi$$\n",
    "\n",
    "1. Vypočtěte N bodů na elipse a sestavte je do matice s řádky X a Y.\n",
    "1. Body zobrazte pomocí `plt.scatter`.\n",
    "1. Sestavte matici rotace o 45 stupňů:\n",
    "\n",
    "  $$Rot(\\phi) = \\begin{bmatrix} \\cos\\phi & -\\sin\\phi\\\\ \\sin\\phi & \\cos\\phi\\end{bmatrix}$$ \n",
    "1. Otočte body na elipse pomocí této matice, zobrazte obě matice do stejného grafu.\n",
    "1. Zobrazte $k$ takovýchto elips s úhlem otočení $\\phi=2\\pi i/n$, $k=17$, $N=31$, $a=3$, $b=1$.\n",
    "  Experimentujte s různými hodnotami.\n",
    "\n"
   ]
  },
  {
   "cell_type": "code",
   "execution_count": null,
   "metadata": {},
   "outputs": [],
   "source": [
    "\n"
   ]
  },
  {
   "cell_type": "markdown",
   "metadata": {},
   "source": [
    "## Random\n",
    "1. Nastudujte a vyzkoušejte si základní funkce z modulu np.random:\n",
    "   \n",
    "   random, rand, seed, choice\n",
    "   \n",
    "2. Vygenerujte:\n",
    "   \n",
    "   - náhodnou matici A, shape (3, 3)\n",
    "   - náhodný vektor b, shape (3, )\n",
    "   \n",
    "3. vyřešte soustavu $Ax=b$ a ověřte řešení pomocí výpočtu $Ax - b$\n",
    "\n",
    "4. Vygenerujte pole dvojic náhodných bodů (úseček) v jednotkovém čtverci, jako matici (N, 2, 2)\n",
    "\n",
    "5. Vypočtěte pole délek úseček (jednořádkový  kód).\n",
    "\n",
    "6. Vytvořte pole X, Y, Z, kde X obsahuje x souřednice prvních bodů, Y je y souřadnice prvních bodů, z je logaritmus délek úseček.\n",
    "\n",
    "7. Vypočtěte průmernou délku úseček a směrodatnou odchylku.\n",
    "\n",
    "8. Náročnější úkol, působení hmotných bodů: \n",
    "    \n",
    "   1. Vygenerujte náhodné pole bodů v jednotkové krychli a pole náhodných hmotností těchto bodů (libovolně).\n",
    "   2. Napište funkci, která pro zadaný index $i$. Vypočte sílu kterou na hmotný bod $X_i$ působí ostatní hmotné body:\n",
    "      \n",
    "      $$ F_i = \\sum_{j\\ne i} G \\frac{m_i m_j}{|R_{ij}|^3} R_{ij},\\quad R_{ij}  =  X_i - X_j$$"
   ]
  },
  {
   "cell_type": "code",
   "execution_count": 85,
   "metadata": {},
   "outputs": [
    {
     "ename": "NameError",
     "evalue": "name 'la' is not defined",
     "output_type": "error",
     "traceback": [
      "\u001b[0;31m---------------------------------------------------------------------------\u001b[0m",
      "\u001b[0;31mNameError\u001b[0m                                 Traceback (most recent call last)",
      "Cell \u001b[0;32mIn[85], line 1\u001b[0m\n\u001b[0;32m----> 1\u001b[0m L\u001b[38;5;241m=\u001b[39m\u001b[43mla\u001b[49m\u001b[38;5;241m.\u001b[39mnorm( mat[:,\u001b[38;5;241m1\u001b[39m,:] \u001b[38;5;241m-\u001b[39m mat[:,\u001b[38;5;241m0\u001b[39m,:], axis\u001b[38;5;241m=\u001b[39m\u001b[38;5;241m1\u001b[39m)\n\u001b[1;32m      2\u001b[0m X \u001b[38;5;241m=\u001b[39m mat[:, \u001b[38;5;241m0\u001b[39m, \u001b[38;5;241m0\u001b[39m]\n\u001b[1;32m      3\u001b[0m Z \u001b[38;5;241m=\u001b[39m np\u001b[38;5;241m.\u001b[39mlog(L)\n",
      "\u001b[0;31mNameError\u001b[0m: name 'la' is not defined"
     ]
    }
   ],
   "source": [
    "L=la.norm( mat[:,1,:] - mat[:,0,:], axis=1)\n",
    "X = mat[:, 0, 0]\n",
    "Z = np.log(L)"
   ]
  },
  {
   "cell_type": "code",
   "execution_count": 89,
   "metadata": {},
   "outputs": [
    {
     "name": "stderr",
     "output_type": "stream",
     "text": [
      "/tmp/ipykernel_65/942055135.py:2: RuntimeWarning: divide by zero encountered in divide\n",
      "  1.0/np.abs(a[None,:] - a[:, None])\n"
     ]
    },
    {
     "data": {
      "text/plain": [
       "array([[inf, 1. , 0.5],\n",
       "       [1. , inf, 1. ],\n",
       "       [0.5, 1. , inf]])"
      ]
     },
     "execution_count": 89,
     "metadata": {},
     "output_type": "execute_result"
    }
   ],
   "source": [
    "a = np.array([1,2,3])\n",
    "1.0/np.abs(a[None,:] - a[:, None])"
   ]
  }
 ],
 "metadata": {
  "kernelspec": {
   "display_name": "Python 3 (ipykernel)",
   "language": "python",
   "name": "python3"
  },
  "language_info": {
   "codemirror_mode": {
    "name": "ipython",
    "version": 3
   },
   "file_extension": ".py",
   "mimetype": "text/x-python",
   "name": "python",
   "nbconvert_exporter": "python",
   "pygments_lexer": "ipython3",
   "version": "3.11.9"
  }
 },
 "nbformat": 4,
 "nbformat_minor": 4
}
