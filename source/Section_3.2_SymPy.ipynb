{
 "cells": [
  {
   "cell_type": "markdown",
   "metadata": {},
   "source": [
    "# SymPY"
   ]
  },
  {
   "cell_type": "code",
   "execution_count": null,
   "metadata": {},
   "outputs": [],
   "source": []
  },
  {
   "cell_type": "markdown",
   "metadata": {},
   "source": [
    "\n",
    "\n",
    "\n",
    "\n",
    "\n",
    "\n",
    "\n",
    "\n",
    "## Resources\n",
    "\n",
    "[Taming Math and Physics with SymPy](https://minireference.com/static/tutorials/sympy_tutorial.pdf)\n",
    "\n",
    "[Sympy Examples](https://github.com/sympy/sympy/wiki/Quick-examples)"
   ]
  },
  {
   "cell_type": "markdown",
   "metadata": {},
   "source": [
    "## Basic objects"
   ]
  },
  {
   "cell_type": "code",
   "execution_count": 3,
   "metadata": {},
   "outputs": [],
   "source": [
    "# Setup.\n",
    "# Sympy is usefull mainly for interactive work so simplify notation as much as possible\n",
    "# don't worry about cluttering the namespace.\n",
    "from sympy import *\n",
    "from IPython.display import display\n",
    "# pretty printing in IPython\n",
    "init_printing(use_latex='mathjax')\n"
   ]
  },
  {
   "cell_type": "code",
   "execution_count": 2,
   "metadata": {},
   "outputs": [
    {
     "data": {
      "text/latex": [
       "$\\displaystyle \\frac{1}{3}$"
      ],
      "text/plain": [
       "1/3"
      ]
     },
     "metadata": {},
     "output_type": "display_data"
    },
    {
     "name": "stdout",
     "output_type": "stream",
     "text": [
      "<class 'sympy.core.numbers.Rational'>\n"
     ]
    },
    {
     "data": {
      "text/latex": [
       "$\\displaystyle 1$"
      ],
      "text/plain": [
       "1"
      ]
     },
     "execution_count": 2,
     "metadata": {},
     "output_type": "execute_result"
    }
   ],
   "source": [
    "# Simple expressions\n",
    "third = S(1)/3\n",
    "display(third)\n",
    "print(type(third))\n",
    "3 * third\n",
    "\n",
    "\n"
   ]
  },
  {
   "cell_type": "code",
   "execution_count": 3,
   "metadata": {},
   "outputs": [
    {
     "data": {
      "text/latex": [
       "$\\displaystyle 1$"
      ],
      "text/plain": [
       "1"
      ]
     },
     "execution_count": 3,
     "metadata": {},
     "output_type": "execute_result"
    }
   ],
   "source": [
    "# Evaluation of fractions\n",
    "\n",
    "S(1) / 3 + S(2) / 3"
   ]
  },
  {
   "cell_type": "code",
   "execution_count": 5,
   "metadata": {},
   "outputs": [
    {
     "data": {
      "text/latex": [
       "$\\displaystyle 2$"
      ],
      "text/plain": [
       "2"
      ]
     },
     "execution_count": 5,
     "metadata": {},
     "output_type": "execute_result"
    }
   ],
   "source": [
    "64**(S(1)/2 - S(1)/3)"
   ]
  },
  {
   "cell_type": "code",
   "execution_count": 6,
   "metadata": {},
   "outputs": [
    {
     "data": {
      "text/latex": [
       "$\\displaystyle 2.0$"
      ],
      "text/plain": [
       "2.0"
      ]
     },
     "execution_count": 6,
     "metadata": {},
     "output_type": "execute_result"
    }
   ],
   "source": [
    "64**(float(1)/2 - 1/3)"
   ]
  },
  {
   "cell_type": "code",
   "execution_count": 5,
   "metadata": {},
   "outputs": [
    {
     "data": {
      "text/latex": [
       "$\\displaystyle 2.0$"
      ],
      "text/plain": [
       "2.0"
      ]
     },
     "execution_count": 5,
     "metadata": {},
     "output_type": "execute_result"
    }
   ],
   "source": [
    "64**(1.0/2 - 1.0/3)"
   ]
  },
  {
   "cell_type": "code",
   "execution_count": 7,
   "metadata": {},
   "outputs": [
    {
     "data": {
      "text/latex": [
       "$\\displaystyle 3.1415926535897932384626433832795028841971693993751$"
      ],
      "text/plain": [
       "3.1415926535897932384626433832795028841971693993751"
      ]
     },
     "execution_count": 7,
     "metadata": {},
     "output_type": "execute_result"
    }
   ],
   "source": [
    "# Arbitrary precision\n",
    "pi.evalf(50)"
   ]
  },
  {
   "cell_type": "code",
   "execution_count": 9,
   "metadata": {},
   "outputs": [
    {
     "data": {
      "text/latex": [
       "$\\displaystyle i$"
      ],
      "text/plain": [
       "ⅈ"
      ]
     },
     "execution_count": 9,
     "metadata": {},
     "output_type": "execute_result"
    }
   ],
   "source": [
    "# complex numbers works, but square root do no evaluate.\n",
    "sqrt(-1 + 1*I)"
   ]
  },
  {
   "cell_type": "code",
   "execution_count": 13,
   "metadata": {},
   "outputs": [
    {
     "data": {
      "text/latex": [
       "$\\displaystyle \\left[ - i, \\  i\\right]$"
      ],
      "text/plain": [
       "[-ⅈ, ⅈ]"
      ]
     },
     "execution_count": 13,
     "metadata": {},
     "output_type": "execute_result"
    }
   ],
   "source": [
    "# Can go through equation solving.\n",
    "x=Symbol('x')\n",
    "solve(Eq(x**2,-1))"
   ]
  },
  {
   "cell_type": "code",
   "execution_count": 14,
   "metadata": {},
   "outputs": [
    {
     "data": {
      "text/latex": [
       "$\\displaystyle \\left[ 1\\right]$"
      ],
      "text/plain": [
       "[1]"
      ]
     },
     "execution_count": 14,
     "metadata": {},
     "output_type": "execute_result"
    }
   ],
   "source": [
    "# Define symbol's domain\n",
    "x=Symbol('x', real=True)\n",
    "solve(Eq(x**3,1))"
   ]
  },
  {
   "cell_type": "code",
   "execution_count": 15,
   "metadata": {},
   "outputs": [
    {
     "data": {
      "text/latex": [
       "$\\displaystyle -2 < x \\wedge x < 2$"
      ],
      "text/plain": [
       "-2 < x ∧ x < 2"
      ]
     },
     "execution_count": 15,
     "metadata": {},
     "output_type": "execute_result"
    }
   ],
   "source": [
    "# Not so good for integers\n",
    "x=Symbol('x', integer=True)\n",
    "solve(Abs(x) < 2)"
   ]
  },
  {
   "cell_type": "markdown",
   "metadata": {},
   "source": [
    "## Expressions"
   ]
  },
  {
   "cell_type": "code",
   "execution_count": 16,
   "metadata": {
    "scrolled": true
   },
   "outputs": [
    {
     "data": {
      "text/latex": [
       "$\\displaystyle - \\frac{x - 1}{x + 1} + \\frac{x + 1}{x - 1}$"
      ],
      "text/plain": [
       "  x - 1   x + 1\n",
       "- ───── + ─────\n",
       "  x + 1   x - 1"
      ]
     },
     "execution_count": 16,
     "metadata": {},
     "output_type": "execute_result"
    }
   ],
   "source": [
    "expr = (x + 1)/(x-1) - (x-1)/(x+1)\n",
    "expr"
   ]
  },
  {
   "cell_type": "code",
   "execution_count": 20,
   "metadata": {},
   "outputs": [
    {
     "data": {
      "text/latex": [
       "$\\displaystyle \\frac{16 x^{2}}{x^{4} - 2 x^{2} + 1}$"
      ],
      "text/plain": [
       "        2    \n",
       "    16⋅x     \n",
       "─────────────\n",
       " 4      2    \n",
       "x  - 2⋅x  + 1"
      ]
     },
     "execution_count": 20,
     "metadata": {},
     "output_type": "execute_result"
    }
   ],
   "source": [
    "expr2 = expr**2\n",
    "simplify(expr2)"
   ]
  },
  {
   "cell_type": "markdown",
   "metadata": {},
   "source": [
    "## Simplification"
   ]
  },
  {
   "cell_type": "code",
   "execution_count": 18,
   "metadata": {},
   "outputs": [
    {
     "data": {
      "text/latex": [
       "$\\displaystyle \\frac{4 x}{x^{2} - 1}$"
      ],
      "text/plain": [
       " 4⋅x  \n",
       "──────\n",
       " 2    \n",
       "x  - 1"
      ]
     },
     "execution_count": 18,
     "metadata": {},
     "output_type": "execute_result"
    }
   ],
   "source": [
    "simplify(expr)"
   ]
  },
  {
   "cell_type": "code",
   "execution_count": 14,
   "metadata": {},
   "outputs": [
    {
     "data": {
      "text/latex": [
       "$\\displaystyle \\frac{4 x}{x^{2} - 1}$"
      ],
      "text/plain": [
       " 4⋅x  \n",
       "──────\n",
       " 2    \n",
       "x  - 1"
      ]
     },
     "execution_count": 14,
     "metadata": {},
     "output_type": "execute_result"
    }
   ],
   "source": [
    "\n",
    "simplify(expr)"
   ]
  },
  {
   "cell_type": "code",
   "execution_count": 23,
   "metadata": {},
   "outputs": [
    {
     "data": {
      "text/plain": [
       "True"
      ]
     },
     "execution_count": 23,
     "metadata": {},
     "output_type": "execute_result"
    }
   ],
   "source": [
    "a=Symbol('y')\n",
    "b=Symbol('y')\n",
    "a==b"
   ]
  },
  {
   "cell_type": "code",
   "execution_count": 24,
   "metadata": {},
   "outputs": [
    {
     "data": {
      "text/plain": [
       "False"
      ]
     },
     "execution_count": 24,
     "metadata": {},
     "output_type": "execute_result"
    }
   ],
   "source": [
    "c=Dummy('dummy_y')  # Try to remove 'y'\n",
    "c==a"
   ]
  },
  {
   "cell_type": "code",
   "execution_count": 17,
   "metadata": {},
   "outputs": [
    {
     "data": {
      "text/latex": [
       "$\\displaystyle dummy_{y} + 2 y$"
      ],
      "text/plain": [
       "dummy_y + 2⋅y"
      ]
     },
     "execution_count": 17,
     "metadata": {},
     "output_type": "execute_result"
    }
   ],
   "source": [
    "simplify(a+b+c)"
   ]
  },
  {
   "cell_type": "code",
   "execution_count": 25,
   "metadata": {},
   "outputs": [
    {
     "data": {
      "text/latex": [
       "$\\displaystyle \\sqrt[3]{7 + 5 \\sqrt{2}} - \\sqrt[3]{7 - 5 \\sqrt{2}}$"
      ],
      "text/plain": [
       "3 __________   3 __________\n",
       "╲╱ 7 + 5⋅√2  - ╲╱ 7 - 5⋅√2 "
      ]
     },
     "execution_count": 25,
     "metadata": {},
     "output_type": "execute_result"
    }
   ],
   "source": [
    "# Complex (roots) are tricky\n",
    "third = Rational(1,3)\n",
    "expr = (7+sqrt(50))**third - (7-sqrt(50))**third\n",
    "expr"
   ]
  },
  {
   "cell_type": "code",
   "execution_count": 26,
   "metadata": {},
   "outputs": [
    {
     "data": {
      "text/latex": [
       "$\\displaystyle \\sqrt[3]{7 + 5 \\sqrt{2}} - \\sqrt[3]{7 - 5 \\sqrt{2}} = x$"
      ],
      "text/plain": [
       "3 __________   3 __________    \n",
       "╲╱ 7 + 5⋅√2  - ╲╱ 7 - 5⋅√2  = x"
      ]
     },
     "execution_count": 26,
     "metadata": {},
     "output_type": "execute_result"
    }
   ],
   "source": [
    "x=Symbol('x', complex=True)\n",
    "eq=Eq(expr, x)\n",
    "eq"
   ]
  },
  {
   "cell_type": "code",
   "execution_count": 27,
   "metadata": {},
   "outputs": [
    {
     "data": {
      "text/latex": [
       "$\\displaystyle 10 \\sqrt{2} - 3 \\sqrt[3]{7 - 5 \\sqrt{2}} \\left(7 + 5 \\sqrt{2}\\right)^{\\frac{2}{3}} + 3 \\left(7 - 5 \\sqrt{2}\\right)^{\\frac{2}{3}} \\sqrt[3]{7 + 5 \\sqrt{2}} = x^{3}$"
      ],
      "text/plain": [
       "          3 __________           2/3               2/3 3 __________    3\n",
       "10⋅√2 - 3⋅╲╱ 7 - 5⋅√2 ⋅(7 + 5⋅√2)    + 3⋅(7 - 5⋅√2)   ⋅╲╱ 7 + 5⋅√2  = x "
      ]
     },
     "execution_count": 27,
     "metadata": {},
     "output_type": "execute_result"
    }
   ],
   "source": [
    "Eq(expand(eq.lhs**3, basic=False), eq.rhs**3)"
   ]
  },
  {
   "cell_type": "code",
   "execution_count": 12,
   "metadata": {},
   "outputs": [
    {
     "data": {
      "text/latex": [
       "$\\displaystyle \\sqrt[3]{7 + 5 \\sqrt{2}} + \\sqrt[3]{7 - 5 \\sqrt{2}}$"
      ],
      "text/plain": [
       "3 __________   3 __________\n",
       "╲╱ 7 + 5⋅√2  + ╲╱ 7 - 5⋅√2 "
      ]
     },
     "metadata": {},
     "output_type": "display_data"
    },
    {
     "data": {
      "text/latex": [
       "$\\displaystyle 2.41421356237309$"
      ],
      "text/plain": [
       "2.41421356237309"
      ]
     },
     "metadata": {},
     "output_type": "display_data"
    },
    {
     "data": {
      "text/latex": [
       "$\\displaystyle 0.207106781186548 + 0.35871946760715 i$"
      ],
      "text/plain": [
       "0.207106781186548 + 0.35871946760715⋅ⅈ"
      ]
     },
     "metadata": {},
     "output_type": "display_data"
    },
    {
     "data": {
      "text/latex": [
       "$\\displaystyle -0.0710678118654752$"
      ],
      "text/plain": [
       "-0.0710678118654752"
      ]
     },
     "metadata": {},
     "output_type": "display_data"
    },
    {
     "data": {
      "text/latex": [
       "$\\displaystyle 0.5 + 0.866025403784439 i$"
      ],
      "text/plain": [
       "0.5 + 0.866025403784439⋅ⅈ"
      ]
     },
     "metadata": {},
     "output_type": "display_data"
    }
   ],
   "source": [
    "third = Rational(1,3)\n",
    "expr = (7+sqrt(50))**third + (7-sqrt(50))**third\n",
    "display(expr)\n",
    "display(((7+sqrt(50))**third).evalf())\n",
    "display(((7-sqrt(50))**third).evalf())\n",
    "display((7-sqrt(50)).evalf())\n",
    "display(((-1)**third).evalf())"
   ]
  },
  {
   "cell_type": "markdown",
   "metadata": {},
   "source": [
    "# Expression manipulation\n",
    "\n",
    "- 'factor(expr)'\n",
    "- 'expand(expr)'\n",
    "- 'collect(expr)'\n",
    "- 'cancel(fraction)'\n",
    "- 'expr.subs({x: xexpr, y: yexpr})\n"
   ]
  },
  {
   "cell_type": "code",
   "execution_count": 29,
   "metadata": {},
   "outputs": [
    {
     "data": {
      "text/latex": [
       "$\\displaystyle \\left[ -6, \\  1\\right]$"
      ],
      "text/plain": [
       "[-6, 1]"
      ]
     },
     "execution_count": 29,
     "metadata": {},
     "output_type": "execute_result"
    }
   ],
   "source": [
    "x=Symbol('x')\n",
    "solve(x**2+5*x-6)"
   ]
  },
  {
   "cell_type": "code",
   "execution_count": 23,
   "metadata": {},
   "outputs": [
    {
     "data": {
      "text/latex": [
       "$\\displaystyle \\left(x - 1\\right) \\left(x + 6\\right)$"
      ],
      "text/plain": [
       "(x - 1)⋅(x + 6)"
      ]
     },
     "execution_count": 23,
     "metadata": {},
     "output_type": "execute_result"
    }
   ],
   "source": [
    "factor(x**2+5*x-6)"
   ]
  },
  {
   "cell_type": "code",
   "execution_count": 30,
   "metadata": {},
   "outputs": [
    {
     "data": {
      "text/latex": [
       "$\\displaystyle - 2 x^{2} + 5 x - 2$"
      ],
      "text/plain": [
       "     2          \n",
       "- 2⋅x  + 5⋅x - 2"
      ]
     },
     "execution_count": 30,
     "metadata": {},
     "output_type": "execute_result"
    }
   ],
   "source": [
    "expand((x-2)*(1-2*x))"
   ]
  },
  {
   "cell_type": "code",
   "execution_count": 31,
   "metadata": {},
   "outputs": [
    {
     "data": {
      "text/latex": [
       "$\\displaystyle - 2 x^{2} y + x \\left(4 y + 1\\right) - 2$"
      ],
      "text/plain": [
       "     2                    \n",
       "- 2⋅x ⋅y + x⋅(4⋅y + 1) - 2"
      ]
     },
     "execution_count": 31,
     "metadata": {},
     "output_type": "execute_result"
    }
   ],
   "source": [
    "y=Symbol('y')\n",
    "collect(expand((x-2)*(1-2*x*y)), x)"
   ]
  },
  {
   "cell_type": "code",
   "execution_count": 32,
   "metadata": {},
   "outputs": [
    {
     "data": {
      "text/latex": [
       "$\\displaystyle \\left(1 - 2 x\\right) \\left(x - y\\right)$"
      ],
      "text/plain": [
       "(1 - 2⋅x)⋅(x - y)"
      ]
     },
     "execution_count": 32,
     "metadata": {},
     "output_type": "execute_result"
    }
   ],
   "source": [
    "((x-2)*(1-2*x)).subs((x-2), (x-a))"
   ]
  },
  {
   "cell_type": "code",
   "execution_count": 277,
   "metadata": {},
   "outputs": [
    {
     "data": {
      "text/latex": [
       "$$2 y$$"
      ],
      "text/plain": [
       "2⋅y"
      ]
     },
     "execution_count": 277,
     "metadata": {},
     "output_type": "execute_result"
    }
   ],
   "source": [
    "a + y"
   ]
  },
  {
   "cell_type": "code",
   "execution_count": 278,
   "metadata": {},
   "outputs": [
    {
     "data": {
      "text/latex": [
       "$$\\sqrt[3]{7 + 5 \\sqrt{2}} - \\sqrt[3]{- 5 \\sqrt{2} + 7}$$"
      ],
      "text/plain": [
       "3 __________   3 ___________\n",
       "╲╱ 7 + 5⋅√2  - ╲╱ -5⋅√2 + 7 "
      ]
     },
     "execution_count": 278,
     "metadata": {},
     "output_type": "execute_result"
    }
   ],
   "source": [
    "expr"
   ]
  },
  {
   "cell_type": "code",
   "execution_count": 33,
   "metadata": {},
   "outputs": [
    {
     "data": {
      "text/latex": [
       "$\\displaystyle - \\frac{y + z - 1}{y + z + 1} + \\frac{y + z + 1}{y + z - 1}$"
      ],
      "text/plain": [
       "  y + z - 1   y + z + 1\n",
       "- ───────── + ─────────\n",
       "  y + z + 1   y + z - 1"
      ]
     },
     "execution_count": 33,
     "metadata": {},
     "output_type": "execute_result"
    }
   ],
   "source": [
    "z = Symbol('z')\n",
    "x = Symbol('x')\n",
    "expr = (x + 1)/(x-1) - (x-1)/(x+1)\n",
    "\n",
    "\n",
    "yz_expr = expr.subs({x: a+z})\n",
    "yz_expr"
   ]
  },
  {
   "cell_type": "code",
   "execution_count": 34,
   "metadata": {},
   "outputs": [
    {
     "data": {
      "text/latex": [
       "$\\displaystyle - \\frac{x}{x + 2} + \\frac{x + 2}{x}$"
      ],
      "text/plain": [
       "    x     x + 2\n",
       "- ───── + ─────\n",
       "  x + 2     x  "
      ]
     },
     "execution_count": 34,
     "metadata": {},
     "output_type": "execute_result"
    }
   ],
   "source": [
    "yz_expr.subs({'y': 1, 'z':x})"
   ]
  },
  {
   "cell_type": "markdown",
   "metadata": {},
   "source": [
    "## Solving recurence equations"
   ]
  },
  {
   "cell_type": "code",
   "execution_count": 38,
   "metadata": {},
   "outputs": [
    {
     "name": "stdout",
     "output_type": "stream",
     "text": [
      "solving: 0 =  -f(n) - f(n + 1) + f(n + 2)\n",
      "Explicit formula:  C0*(1/2 - sqrt(5)/2)**n + C1*(1/2 + sqrt(5)/2)**n\n"
     ]
    }
   ],
   "source": [
    "# Fibonacci sequence\n",
    "\n",
    "n=Symbol('n')\n",
    "f = Function('f')\n",
    "Fib = f(n+2) - f(n+1) - f(n)\n",
    "print('solving: 0 = ', Fib)\n",
    "s = rsolve(Fib, f(n))\n",
    "print('Explicit formula: ', s)"
   ]
  },
  {
   "cell_type": "code",
   "execution_count": 46,
   "metadata": {},
   "outputs": [
    {
     "name": "stdout",
     "output_type": "stream",
     "text": [
      "solving: 0 =  m(k) - 2*m(k - log(2)) - exp(k) + 1\n"
     ]
    },
    {
     "ename": "ValueError",
     "evalue": "'m' expected, got 'exp'",
     "output_type": "error",
     "traceback": [
      "\u001b[0;31m---------------------------------------------------------------------------\u001b[0m",
      "\u001b[0;31mValueError\u001b[0m                                Traceback (most recent call last)",
      "\u001b[0;32m<ipython-input-46-9a4c11a633d6>\u001b[0m in \u001b[0;36m<module>\u001b[0;34m\u001b[0m\n\u001b[1;32m      3\u001b[0m \u001b[0mmerge\u001b[0m \u001b[0;34m=\u001b[0m \u001b[0mfe\u001b[0m\u001b[0;34m(\u001b[0m\u001b[0mk\u001b[0m\u001b[0;34m)\u001b[0m \u001b[0;34m-\u001b[0m \u001b[0;36m2\u001b[0m \u001b[0;34m*\u001b[0m \u001b[0mfe\u001b[0m\u001b[0;34m(\u001b[0m\u001b[0mk\u001b[0m \u001b[0;34m-\u001b[0m \u001b[0mln\u001b[0m\u001b[0;34m(\u001b[0m\u001b[0;36m2\u001b[0m\u001b[0;34m)\u001b[0m\u001b[0;34m)\u001b[0m \u001b[0;34m-\u001b[0m \u001b[0mexp\u001b[0m\u001b[0;34m(\u001b[0m\u001b[0mk\u001b[0m\u001b[0;34m)\u001b[0m \u001b[0;34m+\u001b[0m \u001b[0;36m1\u001b[0m\u001b[0;34m\u001b[0m\u001b[0;34m\u001b[0m\u001b[0m\n\u001b[1;32m      4\u001b[0m \u001b[0mprint\u001b[0m\u001b[0;34m(\u001b[0m\u001b[0;34m'solving: 0 = '\u001b[0m\u001b[0;34m,\u001b[0m \u001b[0mmerge\u001b[0m\u001b[0;34m)\u001b[0m\u001b[0;34m\u001b[0m\u001b[0;34m\u001b[0m\u001b[0m\n\u001b[0;32m----> 5\u001b[0;31m \u001b[0ms\u001b[0m \u001b[0;34m=\u001b[0m \u001b[0mrsolve\u001b[0m\u001b[0;34m(\u001b[0m\u001b[0mmerge\u001b[0m\u001b[0;34m,\u001b[0m \u001b[0mf\u001b[0m\u001b[0;34m(\u001b[0m\u001b[0mn\u001b[0m\u001b[0;34m)\u001b[0m\u001b[0;34m)\u001b[0m\u001b[0;34m\u001b[0m\u001b[0;34m\u001b[0m\u001b[0m\n\u001b[0m\u001b[1;32m      6\u001b[0m \u001b[0mprint\u001b[0m\u001b[0;34m(\u001b[0m\u001b[0;34m'Explicit formula: '\u001b[0m\u001b[0;34m,\u001b[0m \u001b[0ms\u001b[0m\u001b[0;34m)\u001b[0m\u001b[0;34m\u001b[0m\u001b[0;34m\u001b[0m\u001b[0m\n",
      "\u001b[0;32m/usr/local/lib/python3.6/dist-packages/sympy/solvers/recurr.py\u001b[0m in \u001b[0;36mrsolve\u001b[0;34m(f, y, init)\u001b[0m\n\u001b[1;32m    739\u001b[0m                 \u001b[0;32melse\u001b[0m\u001b[0;34m:\u001b[0m\u001b[0;34m\u001b[0m\u001b[0;34m\u001b[0m\u001b[0m\n\u001b[1;32m    740\u001b[0m                     raise ValueError(\n\u001b[0;32m--> 741\u001b[0;31m                         \"'%s' expected, got '%s'\" % (y.func, h.func))\n\u001b[0m\u001b[1;32m    742\u001b[0m             \u001b[0;32melse\u001b[0m\u001b[0;34m:\u001b[0m\u001b[0;34m\u001b[0m\u001b[0;34m\u001b[0m\u001b[0m\n\u001b[1;32m    743\u001b[0m                 \u001b[0mcoeff\u001b[0m \u001b[0;34m*=\u001b[0m \u001b[0mh\u001b[0m\u001b[0;34m\u001b[0m\u001b[0;34m\u001b[0m\u001b[0m\n",
      "\u001b[0;31mValueError\u001b[0m: 'm' expected, got 'exp'"
     ]
    }
   ],
   "source": [
    "# Time complexity of merge sort\n",
    "fe = Function('m')\n",
    "merge = fe(k) - 2 * fe(k - ln(2)) - exp(k) + 1\n",
    "print('solving: 0 = ', merge)\n",
    "s = rsolve(merge, f(n))\n",
    "print('Explicit formula: ', s)"
   ]
  },
  {
   "cell_type": "markdown",
   "metadata": {},
   "source": [
    "## Solve ..."
   ]
  },
  {
   "cell_type": "code",
   "execution_count": 41,
   "metadata": {},
   "outputs": [
    {
     "data": {
      "text/latex": [
       "$\\displaystyle \\left[ 2 - i, \\  2 + i\\right]$"
      ],
      "text/plain": [
       "[2 - ⅈ, 2 + ⅈ]"
      ]
     },
     "execution_count": 41,
     "metadata": {},
     "output_type": "execute_result"
    }
   ],
   "source": [
    "import sympy as sy\n",
    "sy.solve(x**2-4*x+5)"
   ]
  },
  {
   "cell_type": "code",
   "execution_count": 28,
   "metadata": {},
   "outputs": [
    {
     "data": {
      "text/latex": [
       "$\\displaystyle \\left(-\\infty < x \\wedge x < 1\\right) \\vee \\left(5 < x \\wedge x < \\infty\\right)$"
      ],
      "text/plain": [
       "(-∞ < x ∧ x < 1) ∨ (5 < x ∧ x < ∞)"
      ]
     },
     "execution_count": 28,
     "metadata": {},
     "output_type": "execute_result"
    }
   ],
   "source": [
    "sy.solve(sy.Abs(x-3)> 2)"
   ]
  },
  {
   "cell_type": "code",
   "execution_count": 42,
   "metadata": {},
   "outputs": [
    {
     "data": {
      "text/latex": [
       "$\\displaystyle 1$"
      ],
      "text/plain": [
       "1"
      ]
     },
     "metadata": {},
     "output_type": "display_data"
    },
    {
     "data": {
      "text/latex": [
       "$\\displaystyle 0$"
      ],
      "text/plain": [
       "0"
      ]
     },
     "metadata": {},
     "output_type": "display_data"
    }
   ],
   "source": [
    "## Limits\n",
    "\n",
    "x=Symbol(\"x\")\n",
    "display(limit(sin(x)/x, x, 0))\n",
    "\n",
    "display(limit(sin(x)/x, x, sy.oo))\n"
   ]
  },
  {
   "cell_type": "code",
   "execution_count": 43,
   "metadata": {},
   "outputs": [
    {
     "data": {
      "text/latex": [
       "$\\displaystyle \\cos{\\left(x \\right)}$"
      ],
      "text/plain": [
       "cos(x)"
      ]
     },
     "execution_count": 43,
     "metadata": {},
     "output_type": "execute_result"
    }
   ],
   "source": [
    "# Differentiation\n",
    "\n",
    "x=Symbol(\"x\")\n",
    "diff(sin(x), x )"
   ]
  },
  {
   "cell_type": "code",
   "execution_count": 45,
   "metadata": {},
   "outputs": [
    {
     "data": {
      "text/latex": [
       "$\\displaystyle (r \\cos{\\left(\\phi \\right)})\\mathbf{\\hat{i}_{T}} + (r \\sin{\\left(\\phi \\right)})\\mathbf{\\hat{j}_{T}}$"
      ],
      "text/plain": [
       "(r*cos(phi))*T.i + (r*sin(phi))*T.j"
      ]
     },
     "metadata": {},
     "output_type": "display_data"
    },
    {
     "data": {
      "text/latex": [
       "$\\displaystyle \\left( (\\cos{\\left(\\phi \\right)})\\mathbf{\\hat{i}_{T}} + (\\sin{\\left(\\phi \\right)})\\mathbf{\\hat{j}_{T}}, \\  (- r \\sin{\\left(\\phi \\right)})\\mathbf{\\hat{i}_{T}} + (r \\cos{\\left(\\phi \\right)})\\mathbf{\\hat{j}_{T}}\\right)$"
      ],
      "text/plain": [
       "((cos(φ)) T_i + (sin(φ)) T_j, (-r⋅sin(φ)) T_i + (r⋅cos(φ)) T_j)"
      ]
     },
     "execution_count": 45,
     "metadata": {},
     "output_type": "execute_result"
    }
   ],
   "source": [
    "# Derivatives of vectors\n",
    "import sympy.vector as vec\n",
    "\n",
    "S = vec.CoordSys3D('T')\n",
    "\n",
    "r=Symbol(\"r\")\n",
    "phi=Symbol(\"phi\")\n",
    "\n",
    "xy = r*cos(phi)*S.i + r*sin(phi)*S.j\n",
    "display(xy)\n",
    "\n",
    "dr = diff(xy, r)\n",
    "dphi = diff(xy, phi)\n",
    "\n",
    "dr, dphi\n"
   ]
  },
  {
   "cell_type": "code",
   "execution_count": 46,
   "metadata": {},
   "outputs": [
    {
     "data": {
      "text/latex": [
       "$\\displaystyle -1 - \\frac{\\left(x - 1\\right)^{2}}{2} + \\frac{\\left(x - 1\\right)^{3}}{3} - \\frac{\\left(x - 1\\right)^{4}}{4} + \\frac{\\left(x - 1\\right)^{5}}{5} + x + O\\left(\\left(x - 1\\right)^{6}; x\\rightarrow 1\\right)$"
      ],
      "text/plain": [
       "            2          3          4          5                         \n",
       "     (x - 1)    (x - 1)    (x - 1)    (x - 1)         ⎛       6       ⎞\n",
       "-1 - ──────── + ──────── - ──────── + ──────── + x + O⎝(x - 1) ; x → 1⎠\n",
       "        2          3          4          5                             "
      ]
     },
     "execution_count": 46,
     "metadata": {},
     "output_type": "execute_result"
    }
   ],
   "source": [
    "# Series expansion\n",
    "x=Symbol(\"x\")\n",
    "\n",
    "ln(x).series(x, 1, 6)"
   ]
  },
  {
   "cell_type": "code",
   "execution_count": 48,
   "metadata": {},
   "outputs": [
    {
     "data": {
      "text/latex": [
       "$\\displaystyle \\begin{cases} \\frac{1}{2} & \\text{for}\\: \\left(k = - \\frac{i}{\\pi n} \\wedge k = \\frac{i}{\\pi n}\\right) \\vee k = - \\frac{i}{\\pi n} \\vee k = \\frac{i}{\\pi n} \\\\\\frac{\\left(-1\\right)^{n} k \\sinh{\\left(\\frac{1}{k} \\right)}}{\\pi^{2} k^{2} n^{2} + 1} & \\text{otherwise} \\end{cases}$"
      ],
      "text/plain": [
       "⎧                     ⎛    -ⅈ         ⅈ ⎞       -ⅈ         ⅈ \n",
       "⎪      1/2        for ⎜k = ─── ∧ k = ───⎟ ∨ k = ─── ∨ k = ───\n",
       "⎪                     ⎝    π⋅n       π⋅n⎠       π⋅n       π⋅n\n",
       "⎪                                                            \n",
       "⎪    n       ⎛1⎞                                             \n",
       "⎨(-1) ⋅k⋅sinh⎜─⎟                                             \n",
       "⎪            ⎝k⎠                                             \n",
       "⎪───────────────                   otherwise                 \n",
       "⎪   2  2  2                                                  \n",
       "⎪  π ⋅k ⋅n  + 1                                              \n",
       "⎩                                                            "
      ]
     },
     "metadata": {},
     "output_type": "display_data"
    },
    {
     "data": {
      "text/latex": [
       "$\\displaystyle \\frac{\\left(-1\\right)^{n} k \\sinh{\\left(\\frac{1}{k} \\right)}}{\\pi^{2} k^{2} n^{2} + 1}$"
      ],
      "text/plain": [
       "    n       ⎛1⎞\n",
       "(-1) ⋅k⋅sinh⎜─⎟\n",
       "            ⎝k⎠\n",
       "───────────────\n",
       "   2  2  2     \n",
       "  π ⋅k ⋅n  + 1 "
      ]
     },
     "execution_count": 48,
     "metadata": {},
     "output_type": "execute_result"
    }
   ],
   "source": [
    "# Integrate\n",
    "x=Symbol(\"x\")\n",
    "k=Symbol(\"k\")\n",
    "n=Symbol(\"n\", integer=True)\n",
    "expr = integrate(cosh(x/k)*cos(x*pi*n), (x, 0,1))\n",
    "\n",
    "# Result is Piecewise function:\n",
    "display(expr)\n",
    "\n",
    "# Get just second branch expression\n",
    "formula = expr.args[1][0]\n",
    "formula"
   ]
  },
  {
   "cell_type": "code",
   "execution_count": 49,
   "metadata": {},
   "outputs": [
    {
     "name": "stdout",
     "output_type": "stream",
     "text": [
      "pow(-1, n)*k*sinh(1.0/k)/(pow(M_PI, 2)*pow(k, 2)*pow(n, 2) + 1)\n",
      "    n       ⎛1⎞\n",
      "(-1) ⋅k⋅sinh⎜─⎟\n",
      "            ⎝k⎠\n",
      "───────────────\n",
      "   2  2  2     \n",
      "  π ⋅k ⋅n  + 1 \n",
      "n = Symbol('n')\n",
      "k = Symbol('k')\n",
      "e = (-1)**n*k*sinh(1/k)/(pi**2*k**2*n**2 + 1)\n"
     ]
    },
    {
     "data": {
      "text/plain": [
       "\"n = Symbol('n')\\nk = Symbol('k')\\ne = (-1)**n*k*sinh(1/k)/(pi**2*k**2*n**2 + 1)\""
      ]
     },
     "execution_count": 49,
     "metadata": {},
     "output_type": "execute_result"
    }
   ],
   "source": [
    "# Write formula as C code\n",
    "print(ccode(formula))\n",
    "\n",
    "# Pretty print\n",
    "pprint(formula)\n",
    "\n",
    "# print Python code\n",
    "print_python(formula)\n",
    "\n",
    "# Make code in string. \n",
    "python(formula)"
   ]
  },
  {
   "cell_type": "code",
   "execution_count": null,
   "metadata": {},
   "outputs": [],
   "source": [
    "# Complex numbers\n",
    "a=Symbol(\"a\", real=True)\n",
    "b=Symbol(\"b\", real =True)\n",
    "exp(a + b*I).expand(complex=True)\n"
   ]
  },
  {
   "cell_type": "code",
   "execution_count": 59,
   "metadata": {},
   "outputs": [
    {
     "data": {
      "text/latex": [
       "$\\displaystyle f{\\left(x \\right)} + \\frac{d^{2}}{d x^{2}} f{\\left(x \\right)} = \\cos{\\left(\\pi n x \\right)}$"
      ],
      "text/plain": [
       "         2                   \n",
       "        d                    \n",
       "f(x) + ───(f(x)) = cos(π⋅n⋅x)\n",
       "         2                   \n",
       "       dx                    "
      ]
     },
     "metadata": {},
     "output_type": "display_data"
    },
    {
     "data": {
      "text/latex": [
       "$\\displaystyle C_{1} \\sin{\\left(x \\right)} + C_{2} \\cos{\\left(x \\right)} - \\frac{\\cos{\\left(\\pi n x \\right)}}{\\pi^{2} n^{2} - 1}$"
      ],
      "text/plain": [
       "                        cos(π⋅n⋅x)\n",
       "C₁⋅sin(x) + C₂⋅cos(x) - ──────────\n",
       "                         2  2     \n",
       "                        π ⋅n  - 1 "
      ]
     },
     "metadata": {},
     "output_type": "display_data"
    },
    {
     "data": {
      "text/latex": [
       "$\\displaystyle \\left[ \\left\\{ C_{1} : 0, \\  C_{2} : \\frac{\\left(-1\\right)^{n} + \\pi^{2} P_{2} n^{2} - P_{2}}{\\left(\\pi^{2} n^{2} - 1\\right) \\cos{\\left(1 \\right)}}\\right\\}\\right]$"
      ],
      "text/plain": [
       "⎡⎧               n    2     2     ⎫⎤\n",
       "⎢⎪           (-1)  + π ⋅P₂⋅n  - P₂⎪⎥\n",
       "⎢⎨C₁: 0, C₂: ─────────────────────⎬⎥\n",
       "⎢⎪             ⎛ 2  2    ⎞        ⎪⎥\n",
       "⎣⎩             ⎝π ⋅n  - 1⎠⋅cos(1) ⎭⎦"
      ]
     },
     "metadata": {},
     "output_type": "display_data"
    },
    {
     "data": {
      "text/latex": [
       "$\\displaystyle \\frac{\\left(\\left(-1\\right)^{n} + \\pi^{2} P_{2} n^{2} - P_{2}\\right) \\cos{\\left(x \\right)}}{\\left(\\pi^{2} n^{2} - 1\\right) \\cos{\\left(1 \\right)}} - \\frac{\\cos{\\left(\\pi n x \\right)}}{\\pi^{2} n^{2} - 1}$"
      ],
      "text/plain": [
       "⎛    n    2     2     ⎞                    \n",
       "⎝(-1)  + π ⋅P₂⋅n  - P₂⎠⋅cos(x)   cos(π⋅n⋅x)\n",
       "────────────────────────────── - ──────────\n",
       "      ⎛ 2  2    ⎞                 2  2     \n",
       "      ⎝π ⋅n  - 1⎠⋅cos(1)         π ⋅n  - 1 "
      ]
     },
     "execution_count": 59,
     "metadata": {},
     "output_type": "execute_result"
    }
   ],
   "source": [
    "# Differential equations\n",
    "k=Symbol(\"k\")\n",
    "P2=Symbol(\"P2\")\n",
    "n=Symbol(\"n\", integer=True)\n",
    "f=Function('f')\n",
    "deq = Eq(f(x).diff(x,x) + f(x), cos(n*pi*x))\n",
    "display(deq)\n",
    "\n",
    "# Get general solution\n",
    "sol = dsolve(deq).rhs\n",
    "display(sol)\n",
    "\n",
    "# Solv boundary conditions\n",
    "constants = solve([sol.diff(x).subs(x,0), sol.subs(x,1) - P2])\n",
    "display(constants)\n",
    "\n",
    "# substitute\n",
    "sol.subs(constants[0])"
   ]
  },
  {
   "cell_type": "markdown",
   "metadata": {},
   "source": [
    "## Expression evaluation"
   ]
  },
  {
   "cell_type": "code",
   "execution_count": 50,
   "metadata": {},
   "outputs": [],
   "source": [
    "\n",
    "x, y = symbols('x y')\n",
    "expr = 3*x**2 + log(x**2 + y**2 + 1)\n"
   ]
  },
  {
   "cell_type": "code",
   "execution_count": 52,
   "metadata": {},
   "outputs": [
    {
     "data": {
      "text/latex": [
       "$\\displaystyle 2.6704511959978845$"
      ],
      "text/plain": [
       "2.6704511959978845"
      ]
     },
     "execution_count": 52,
     "metadata": {},
     "output_type": "execute_result"
    }
   ],
   "source": [
    "from timeit import timeit\n",
    "\n",
    "# Simplest method: using subs\n",
    "def eval1():\n",
    "    expr.subs({x: 17, y: 42}).evalf()\n",
    "    \n",
    "timeit(eval1, number=10000)"
   ]
  },
  {
   "cell_type": "code",
   "execution_count": 53,
   "metadata": {},
   "outputs": [
    {
     "data": {
      "text/latex": [
       "$\\displaystyle 0.024578359996667132$"
      ],
      "text/plain": [
       "0.024578359996667132"
      ]
     },
     "execution_count": 53,
     "metadata": {},
     "output_type": "execute_result"
    }
   ],
   "source": [
    "import math \n",
    "\n",
    "# Using handmade function\n",
    "def my_expr(x, y):\n",
    "    x2 = x**2\n",
    "    return 3* x2 + math.log(x2 + y**2 + 1)\n",
    "\n",
    "def eval2():\n",
    "    my_expr(17, 42)\n",
    "    \n",
    "timeit(eval2, number=10000)"
   ]
  },
  {
   "cell_type": "code",
   "execution_count": 54,
   "metadata": {},
   "outputs": [
    {
     "data": {
      "text/latex": [
       "$\\displaystyle 0.012101371976314113$"
      ],
      "text/plain": [
       "0.012101371976314113"
      ]
     },
     "execution_count": 54,
     "metadata": {},
     "output_type": "execute_result"
    }
   ],
   "source": [
    "# Let SymPy to make the function from expression\n",
    "g = lambdify([x, y], expr, modules=['math'])\n",
    "\n",
    "def eval3():\n",
    "    g(17, 42)\n",
    "    \n",
    "timeit(eval3, number=10000)    "
   ]
  }
 ],
 "metadata": {
  "kernelspec": {
   "display_name": "Python 3 (ipykernel)",
   "language": "python",
   "name": "python3"
  },
  "language_info": {
   "codemirror_mode": {
    "name": "ipython",
    "version": 3
   },
   "file_extension": ".py",
   "mimetype": "text/x-python",
   "name": "python",
   "nbconvert_exporter": "python",
   "pygments_lexer": "ipython3",
   "version": "3.8.10"
  }
 },
 "nbformat": 4,
 "nbformat_minor": 2
}
