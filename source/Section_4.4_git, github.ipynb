{
 "cells": [
  {
   "cell_type": "markdown",
   "metadata": {},
   "source": [
    "# 4.4.0 Git\n",
    "\n",
    "## Historie\n",
    "- v roce 2005 firma BitKeeper přestala zdarma poskytovat hostování vývoje jádra systému Linux\n",
    "- Linus Torvalds (autor Linuxu) vytvořil (s dalšími) jádro GITu během dubna 2005\n",
    "- od června 2005 je Linux hostován na Gitu \n",
    "\n",
    "## K čemu to je?\n",
    "- verzovací systém pro (zejména) textová data (zdrojáky)\n",
    "- zálohy a komunikace: lokální kopie - server\n",
    "- nelineární vývoj, větvě, experimenty\n"
   ]
  },
  {
   "cell_type": "markdown",
   "metadata": {},
   "source": [
    "# 4.4.1 Github\n",
    "\n",
    "- cloudový git server\n",
    "- webové rozhraní\n",
    "- \"sociální síť\" pro \"vývojáře\"\n",
    "- diskuse o změnách kódu (pull request, review)\n",
    "- plány změn, reportování chyb, ... (issues)\n",
    "\n",
    "## [Založení účtu](https://github.com/join?source=login)\n",
    "- user name, mail, heslo\n",
    "- hádanka\n",
    "- Free verze\n",
    "- nepovinný dotazník\n",
    "- verifikace mailu\n",
    "\n",
    "## [Vytvoření repozitáře](https://github.com/new)\n",
    "- jméno repozitáře: \"PAV_seminal\"\n",
    "- popis: \"Semestrálka PAV\"\n",
    "- public (neomezené) / private (max. 3 lidé v neplacené verzi) \n",
    "- inicializace: README.md, .gitignore, licence \n",
    "\n",
    "\n",
    "## Nastavení SSH klíče\n",
    "Nepovinné, doporučené, umožní nahrávání do repozitáře bez opakovaného zadávání hesla.\n",
    "\n",
    "**generování klíče**\n",
    "- [popis přihlašování přes SSH](https://help.github.com/en/articles/connecting-to-github-with-ssh)\n",
    "- [vygenerování SSH klíče](https://help.github.com/en/articles/generating-a-new-ssh-key-and-adding-it-to-the-ssh-agent) ... místo \"Git Bash\" můžete použít \"Anaconda Prompt\" \n",
    "  [nebo pod Windows pomocí Putty](https://docs.joyent.com/public-cloud/getting-started/ssh-keys/generating-an-ssh-key-manually/manually-generating-your-ssh-key-in-windows)\n",
    "\n",
    "**nahrání klíče**\n",
    "- osobní ikona vpravo nahoře -> Settings\n",
    "- \"SSH and GPG keys\" v menu nalevo\n",
    "- zelené tlačítko \"New SSH key\" vpravo nahoře\n",
    "- title: vaše pojmenování klíče\n",
    "- key: Ctrl-C, Ctrl-V "
   ]
  },
  {
   "cell_type": "markdown",
   "metadata": {},
   "source": [
    "# 4.4.2 Git - praxe\n",
    "\n",
    "\n",
    "## Prostory dat\n",
    "\n",
    "**workspace:** Pracovní adresář, zde provádíme změny.\n",
    "\n",
    "**stage:** Množina změn pro *commit*.\n",
    "\n",
    "**commit:** Množina souvisejících změn, uložená do *lokálního repozitáře*. \n",
    "\n",
    "**lokální repozitář:** Kompletní lokální kopie repozitáře (`adresář .git`).\n",
    "\n",
    "**vzdálený repozitář:** Obvykle jeden centrální repozitář (GitHub).\n",
    "\n",
    "![git ops](figures/git_operations.png)\n",
    "\n",
    "## Operace\n",
    "- `git init` Založení prázdného repozitáře. Netřeba, zařídí GitHub.\n",
    "- `git clone` Naklonování vzdáleného repozitáře (z GitHubu) do lokálního.\n",
    "- `git add` Přidání modifikovaného (nebo nového) souboru do stage.\n",
    "- `git commit` Přidání nové sady změn do lokálního repozitáře.\n",
    "- `git pull` Stažení změn ze vzdáleného repozitáře. + Aktualizace aktuální větve.\n",
    "- `git push` Nahrání lokálních commitů na vzdálený repozitář. Ten nesmí mít změny.\n",
    "\n",
    "\n",
    "- `git checkout` Změna souborů na jinou větev nebo commit.\n",
    "- `git merge` Sloučení jedné větve do druhé.\n",
    "- `git merge-tool` Spuštění externího nástroje pro řešení konfliktů.\n",
    "- `git stash` Uložení provedených lokálních změn na dočasné úložiště.\n"
   ]
  },
  {
   "cell_type": "markdown",
   "metadata": {},
   "source": [
    "## Cvičení\n",
    "\n",
    "1. `git clone PAV_seminal` - lokální kopie vytvořeného repozitáře\n",
    "2. nový soubor `hallo.py`\n",
    "3. `git add hallo.py` - přidání souboru pod správu Gitu\n",
    "4. `git commit -m \"Test source.\"` - nová \"verze\" repozitáře\n",
    "5. `git push` (sledovat doporučení) - nahrání na server (GitHub), kontrola na webu\n",
    "6. `git checkout -b asteroidy` - větev pro zkoušku vývoje tématu asteroidy\n",
    "7. změna `hallo.py` - `print(\"Hallo asteroids.\")`,\n",
    "   `asteroids.py`\n",
    "8. `git commit ...`\n",
    "9. `git checkout master`\n",
    "10. změna `hallo.py`, commit\n",
    "11. `git merge asteroidy` - sloučení větve, konflikt!\n",
    "12. `git mergetool`\n",
    "13. změna `hallo.py`\n",
    "14. zmena `asteroids.py`\n",
    "15. `git stash` - postupná tvorba git stage (viz. git-cola)"
   ]
  },
  {
   "cell_type": "markdown",
   "metadata": {},
   "source": [
    "## Další doporučené aplikace\n",
    "Doporučuji následující aplikace (fungují pro Windows i Linux): \n",
    "\n",
    "[Gitcola klient](https://git-cola.github.io/) \n",
    "  - seznam lokálních repozitářů\n",
    "  - přehled změn ve workspace, přehazování do *stage* pomocí myši\n",
    "  - graf *komitů* v repozitáři\n",
    "  - další operace dostupné přes menu\n",
    "  \n",
    "[Kdiff3](http://kdiff3.sourceforge.net/)\n",
    " - porovnání dvou nebo tří souborů/adresářů\n",
    " - interaktivní sloučení změn v souboru\n",
    " \n",
    "[gitk]\n",
    " \n",
    "\n",
    "\n",
    "\n"
   ]
  },
  {
   "cell_type": "markdown",
   "metadata": {},
   "source": [
    "# ukázka funkcí\n",
    "- [Flow123d](https://github.com/flow123d/flow123d)\n",
    "- Issues\n",
    "- Pull requests"
   ]
  }
 ],
 "metadata": {
  "kernelspec": {
   "display_name": "Python 3 (ipykernel)",
   "language": "python",
   "name": "python3"
  },
  "language_info": {
   "codemirror_mode": {
    "name": "ipython",
    "version": 3
   },
   "file_extension": ".py",
   "mimetype": "text/x-python",
   "name": "python",
   "nbconvert_exporter": "python",
   "pygments_lexer": "ipython3",
   "version": "3.11.9"
  }
 },
 "nbformat": 4,
 "nbformat_minor": 4
}
