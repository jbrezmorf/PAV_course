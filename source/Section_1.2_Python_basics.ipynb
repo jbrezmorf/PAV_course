{
 "cells": [
  {
   "cell_type": "code",
   "execution_count": 105,
   "metadata": {},
   "outputs": [],
   "source": [
    "\n",
    "\n",
    "# !pip install jupyterthemes\n",
    "#from jupyterthemes import get_themes\n",
    "#import jupyterthemes as jt\n",
    "#from jupyterthemes.stylefx import set_nb_theme\n",
    "#set_nb_theme('grade3')\n",
    "\n"
   ]
  },
  {
   "cell_type": "markdown",
   "metadata": {
    "tags": []
   },
   "source": [
    "# 1.2.0 Python - zdroje\n",
    "Cílem kurzu je naznačit možnosti využití jazyka Python a vybraných knihoven ve vědecko-technických výpočtech. \n",
    "Vzhledem k velmi omezenému časovému prostoru se můžeme podorbně seznámit jen s velmi omezeným rozsahem nástrojů a postupů, ale pokusím se předložit dostatek literatury a odkazů pro dohledání dalších potřebných detailů. Ostatně vzhledem k velmi rychlému vývoji je nutné být ve střehu a udržovat si přehled průběžně.\n",
    "\n",
    "Bohužel není vůbec pokryta tématika strojového učení, kde je Python hojně používán.\n",
    "\n",
    "## Přehled literatury\n",
    "Některé níže uvedené knihy je elektronicky možno najít na adrese: \n",
    "\n",
    "`share.nti.tul.cz (lomeno) ~jan.brezina/PAV_course`\n",
    "\n",
    "Většina kurzu je pokryta knihou (dále citováno jako NP):\n",
    "Robert Johansson: [Numerical Python](https://www.apress.com/gp/book/9781484205549)\n",
    "\n",
    "Ohledně **IPythonu** se můžou hodit některé kapitoly z:\n",
    "Cyrille Rossant: [IPython Interactive Computing ...](https://www.amazon.com/IPython-Interactive-Computing-Visualization-Cookbook/dp/1783284811), [nové vydání 2018](http://ipython-books.github.io/)\n",
    "... kdo se vyleká počtem stránek, tak může použít zkrácenou on-line verzi: [IPython Mini Cookbook](https://github.com/ipython-books/minibook-2nd-code)\n",
    "\n",
    "pro obecnější informace k Jupyteru:\n",
    "Dan Toomey: [Learning Jupiter](https://www.packtpub.com/big-data-and-business-intelligence/learning-jupyter)\n",
    "\n",
    "Úvod do jazyka **Python** pokrývá kniha:\n",
    "Alen Downey at al. : [Learning with Python](http://www.foo.be/docs-free/thinkCSpy.pdf) \n",
    "\n",
    "Pro hlubší studium lze doporučit relativně podrobnou knihu:\n",
    "Mark Lutz: [Learning Python](http://shop.oreilly.com/product/0636920028154.do)\n",
    "\n",
    "\n",
    "## Další online zdroje\n",
    "\n",
    "[Python data types](http://datasciencefree.com/python.pdf) - basic Python data structures cheetsheet\n",
    "\n",
    "[More Python cheat sheets](https://sinxloud.com/python-cheat-sheet-beginner-advanced/)\n",
    "\n",
    "[PythonForDataScience](https://s3.amazonaws.com/assets.datacamp.com/blog_assets/PythonForDataScience.pdf) cheet sheet\n"
   ]
  },
  {
   "cell_type": "markdown",
   "metadata": {},
   "source": [
    "# 1.2.1 základní typy\n"
   ]
  },
  {
   "cell_type": "markdown",
   "metadata": {},
   "source": [
    "## Skalární typy"
   ]
  },
  {
   "cell_type": "code",
   "execution_count": 1,
   "metadata": {},
   "outputs": [
    {
     "name": "stdout",
     "output_type": "stream",
     "text": [
      "type(a): <class 'NoneType'>\n"
     ]
    }
   ],
   "source": [
    "# objekt None. Univerzální hodnota pro nic.\n",
    "a = None\n",
    "print(\"type(a):\", type(a))"
   ]
  },
  {
   "cell_type": "code",
   "execution_count": 2,
   "metadata": {},
   "outputs": [
    {
     "name": "stdout",
     "output_type": "stream",
     "text": [
      "type(a): <class 'bool'>\n"
     ]
    }
   ],
   "source": [
    "# Typ bool.\n",
    "a = True\n",
    "a = False\n",
    "print(\"type(a):\", type(a))"
   ]
  },
  {
   "cell_type": "code",
   "execution_count": 3,
   "metadata": {},
   "outputs": [
    {
     "name": "stdout",
     "output_type": "stream",
     "text": [
      "type(a): <class 'int'>\n",
      "1000000000000000000000000000000000000000000000000\n"
     ]
    }
   ],
   "source": [
    "# Typ int, libovolná velikost\n",
    "a = 1000000000000000000000000000000000000000000000000\n",
    "print(\"type(a):\", type(a))\n",
    "print(a)"
   ]
  },
  {
   "cell_type": "code",
   "execution_count": 19,
   "metadata": {},
   "outputs": [
    {
     "name": "stdout",
     "output_type": "stream",
     "text": [
      "a:  0.013  type(a): <class 'float'>\n",
      "sin(pi):  1.2246467991473532e-16\n",
      "1.0\n",
      "2.0\n",
      "1.1\n"
     ]
    }
   ],
   "source": [
    "# Typ float.\n",
    "a = 1.3e-2\n",
    "print(\"a: \", a,\" type(a):\", type(a))\n",
    "\n",
    "# special functions\n",
    "import math\n",
    "print(\"sin(pi): \", math.sin(math.pi))\n",
    "print(math.log(math.e))\n",
    "print(math.log10(100))\n",
    "print(abs(-1.1))"
   ]
  },
  {
   "cell_type": "code",
   "execution_count": 20,
   "metadata": {},
   "outputs": [
    {
     "name": "stdout",
     "output_type": "stream",
     "text": [
      "type(a): <class 'complex'>\n"
     ]
    }
   ],
   "source": [
    "# Typ complex.\n",
    "a = 1.0 + 2j\n",
    "print(\"type(a):\", type(a))"
   ]
  },
  {
   "cell_type": "code",
   "execution_count": 81,
   "metadata": {},
   "outputs": [
    {
     "name": "stdout",
     "output_type": "stream",
     "text": [
      "a: \n",
      " | 1\t\t\n",
      " | type(a): <class 'str'> b:  1 type(b): <class 'str'>\n",
      "\n",
      "c:\n",
      " \n",
      "Je možno zadávat\n",
      "   i    více řádkové\n",
      "řeťezce\n",
      "\n"
     ]
    }
   ],
   "source": [
    "# Typ string.\n",
    "a = \"1\\t\\t\\n\"\n",
    "b = '1'\n",
    "print(\"a: \\n\",\"|\", a, \"| type(a):\", type(a),\"b: \", b, \"type(b):\", type(b))\n",
    "\n",
    "c = \"\"\"\n",
    "Je možno zadávat\n",
    "   i    více řádkové\n",
    "řeťezce\n",
    "\"\"\"\n",
    "print(\"\\nc:\\n\",c)"
   ]
  },
  {
   "cell_type": "markdown",
   "metadata": {},
   "source": [
    "### Konverze"
   ]
  },
  {
   "cell_type": "code",
   "execution_count": 4,
   "metadata": {},
   "outputs": [
    {
     "name": "stdout",
     "output_type": "stream",
     "text": [
      "1.34 <class 'float'>\n",
      "134 <class 'int'>\n"
     ]
    },
    {
     "ename": "ValueError",
     "evalue": "invalid literal for int() with base 10: '13.4'",
     "output_type": "error",
     "traceback": [
      "\u001b[0;31m---------------------------------------------------------------------------\u001b[0m",
      "\u001b[0;31mValueError\u001b[0m                                Traceback (most recent call last)",
      "Cell \u001b[0;32mIn[4], line 6\u001b[0m\n\u001b[1;32m      4\u001b[0m x\u001b[38;5;241m=\u001b[39m\u001b[38;5;28mint\u001b[39m(\u001b[38;5;124m\"\u001b[39m\u001b[38;5;124m134\u001b[39m\u001b[38;5;124m\"\u001b[39m)\n\u001b[1;32m      5\u001b[0m \u001b[38;5;28mprint\u001b[39m(x, \u001b[38;5;28mtype\u001b[39m(x))\n\u001b[0;32m----> 6\u001b[0m x\u001b[38;5;241m=\u001b[39m\u001b[38;5;28;43mint\u001b[39;49m\u001b[43m(\u001b[49m\u001b[38;5;124;43m\"\u001b[39;49m\u001b[38;5;124;43m13.4\u001b[39;49m\u001b[38;5;124;43m\"\u001b[39;49m\u001b[43m)\u001b[49m\n\u001b[1;32m      7\u001b[0m \u001b[38;5;28mprint\u001b[39m(x, \u001b[38;5;28mtype\u001b[39m(x))\n\u001b[1;32m     10\u001b[0m \u001b[38;5;28mprint\u001b[39m(\u001b[38;5;28mint\u001b[39m(\u001b[38;5;28mfloat\u001b[39m(\u001b[38;5;124m\"\u001b[39m\u001b[38;5;124m2\u001b[39m\u001b[38;5;124m\"\u001b[39m)))\n",
      "\u001b[0;31mValueError\u001b[0m: invalid literal for int() with base 10: '13.4'"
     ]
    }
   ],
   "source": [
    "x=float(\"1.34\")\n",
    "print(x, type(x))\n",
    "\n",
    "x=int(\"134\")\n",
    "print(x, type(x))\n",
    "x=int(\"13.4\")\n",
    "print(x, type(x))\n",
    "\n",
    "\n",
    "print(int(float(\"2\")))"
   ]
  },
  {
   "cell_type": "markdown",
   "metadata": {},
   "source": [
    "## Operátory\n",
    "### Aritmetické \n",
    "(pro int, float, complex)\n",
    "\n",
    "`+` (sčítání),  `-` (odčítání),\n",
    "\n",
    "`*` (násobení), `/` (dělení),\n",
    "\n",
    "`%` (modulo - zbytek po dělení), `//` (celočíselné dělení).\n",
    "\n",
    "`**` (umocnění), \n",
    "\n",
    "[Podrobný popis](https://www.tutorialspoint.com/python/python_basic_operators.htm). \n",
    "\n",
    "**Příklady**:"
   ]
  },
  {
   "cell_type": "code",
   "execution_count": 32,
   "metadata": {},
   "outputs": [
    {
     "data": {
      "text/plain": [
       "2.0"
      ]
     },
     "execution_count": 32,
     "metadata": {},
     "output_type": "execute_result"
    }
   ],
   "source": [
    "2.6 // 0.9\n"
   ]
  },
  {
   "cell_type": "code",
   "execution_count": 9,
   "metadata": {},
   "outputs": [
    {
     "data": {
      "text/plain": [
       "0.30000000000000004"
      ]
     },
     "execution_count": 9,
     "metadata": {},
     "output_type": "execute_result"
    }
   ],
   "source": [
    "2.1 % 0.9"
   ]
  },
  {
   "cell_type": "code",
   "execution_count": 10,
   "metadata": {},
   "outputs": [
    {
     "data": {
      "text/plain": [
       "1"
      ]
     },
     "execution_count": 10,
     "metadata": {},
     "output_type": "execute_result"
    }
   ],
   "source": [
    "1**(2**2)"
   ]
  },
  {
   "cell_type": "markdown",
   "metadata": {},
   "source": [
    "\n",
    "### Přiřazovací operátory\n",
    "    \n",
    "`=` přiřazení proměnné,\n",
    "\n",
    "`+=` : `a+=b` je přičtení `a = a + b`,\n",
    "\n",
    "`-=` odečtení, \n",
    "\n",
    "... \n",
    "\n",
    "### Porovnávací operátory, vracejí 'bool'\n",
    "\n",
    "    ==, !=, <, >, >=, <=\n",
    "    \n",
    "Zde je možno psát zkráceně: \n",
    "    \n",
    "    0 < a <= 1 \n",
    "    \n",
    "místo \n",
    "    \n",
    "    0 < a and a <= 1\n",
    "\n",
    "### bitové operátory \n",
    "\n",
    "    ~ (negace), & (bitový and), | (bitový or), << (rotace vlevo), >> (rotace vpravo)\n",
    "\n",
    "### logické operátory\n",
    "\n",
    "    not, and, or\n",
    "\n",
    "### operátory identity \n",
    "    \n",
    "    is, is not \n",
    "zda dva objekty jsou na stejném místě paměti (identické)\n",
    "    \n",
    "### operátory členství\n",
    "\n",
    "    a in b, a not in b \n",
    "zda  a je prvkem/ není prvkem b (list, set, dictionary, ...)"
   ]
  },
  {
   "cell_type": "code",
   "execution_count": 47,
   "metadata": {},
   "outputs": [
    {
     "data": {
      "text/plain": [
       "True"
      ]
     },
     "execution_count": 47,
     "metadata": {},
     "output_type": "execute_result"
    }
   ],
   "source": [
    "0 == 0.0"
   ]
  },
  {
   "cell_type": "code",
   "execution_count": 49,
   "metadata": {},
   "outputs": [
    {
     "data": {
      "text/plain": [
       "False"
      ]
     },
     "execution_count": 49,
     "metadata": {},
     "output_type": "execute_result"
    }
   ],
   "source": [
    "a = 0 \n",
    "b = 0.0\n",
    "a is b"
   ]
  },
  {
   "cell_type": "markdown",
   "metadata": {},
   "source": [
    "## Řetězce\n",
    "\n",
    "[podrobný popis](https://www.tutorialspoint.com/python/python_strings.htm) práce s řetězci.\n",
    "\n",
    "[přehled metod](https://docs.python.org/3/library/stdtypes.html#string-methods)\n",
    "\n",
    "[format minilanguage](https://docs.python.org/3/library/string.html#string-formatting) - dokumentace a příklady.\n"
   ]
  },
  {
   "cell_type": "markdown",
   "metadata": {},
   "source": [
    "### metody split a join\n"
   ]
  },
  {
   "cell_type": "code",
   "execution_count": 86,
   "metadata": {},
   "outputs": [
    {
     "name": "stdout",
     "output_type": "stream",
     "text": [
      "['A', '', 'B', 'C| D| ']\n"
     ]
    }
   ],
   "source": [
    "# split a string with fields separated by '| '\n",
    "s = \"A| | B| C| D| \"\n",
    "fields = s.split(\"| \", maxsplit=3) # ['A', '', 'B', 'C|D | ']\n",
    "print(fields)"
   ]
  },
  {
   "cell_type": "code",
   "execution_count": 87,
   "metadata": {},
   "outputs": [
    {
     "name": "stdout",
     "output_type": "stream",
     "text": [
      "[A; ; B; C| D| ]\n"
     ]
    }
   ],
   "source": [
    "# format a 'list' of strings, but separated by ;\n",
    "str_list = \"; \".join(fields)\n",
    "print(f\"[{str_list}]\")"
   ]
  },
  {
   "cell_type": "code",
   "execution_count": 68,
   "metadata": {},
   "outputs": [
    {
     "name": "stdout",
     "output_type": "stream",
     "text": [
      "item: '   1' Plocha: '  152415765.28' a:   1.23e+04 \n",
      "item: 0003 a:   1.23e+00 Plocha:       1.51\n"
     ]
    }
   ],
   "source": [
    "a=1.2345678e4\n",
    "# Using format method.\n",
    "print(\"item: '{:4d}' Plocha: '{square:14.2f}' a: {:10.2e} \".format(1,a,square=a**2))\n",
    "# Using f-string\n",
    "i=2\n",
    "a=1.23\n",
    "a_sqr=a**2\n",
    "print(f\"item: {i+1:04d} a: {a:10.2e} Plocha: {a_sqr:10.2f}\")"
   ]
  },
  {
   "cell_type": "markdown",
   "metadata": {},
   "source": [
    "### Cvičení\n",
    "\n",
    "- spočtěte 2 umocněno na 777\n",
    "- spočtětě odmocninu z -1 v reálných a komplexních číslech\n",
    "- spočtěte $e^i\\pi$\n",
    "- vytiskněte pomocí format: '| 0012 | -45.999    |   8.91-e12 |' pro čísla:\n",
    "  (641, -4 * math.pi, math.exp(-30)), šířky sloupečků: 6, 12, 12"
   ]
  },
  {
   "cell_type": "code",
   "execution_count": 9,
   "metadata": {},
   "outputs": [
    {
     "data": {
      "text/plain": [
       "(-1+1.2246467991473532e-16j)"
      ]
     },
     "execution_count": 9,
     "metadata": {},
     "output_type": "execute_result"
    }
   ],
   "source": [
    "import math\n",
    "math.e ** (1j *math.pi)\n"
   ]
  },
  {
   "cell_type": "markdown",
   "metadata": {},
   "source": [
    "# 1.2.2 Kompozitní typy\n",
    "\n",
    "## List\n",
    "\n",
    "- dynamické pole (lze přidávat a ubírat prvky), $O(1)$ amortizovaná složitost\n",
    "- přístup k prvkům přes souvislou množinu `int` indexů, $O(1)$\n",
    "\n",
    "[Podrobný popis](https://www.tutorialspoint.com/python/python_lists.htm)\n",
    "\n",
    "`len(list)` - délka pole \n",
    "\n",
    "`list.append(x)` - přidání objektu `x` na konec pole\n",
    "\n",
    "`pop(i)` -  odebrání prvku z pole (složitost až $O(n)$), `pop(0)` a `pop(-1)` mají konstantní složitost\n",
    "\n",
    "`list.extend(other_list)` - připojení listu `other_list`\n",
    "\n",
    "`list.sort(...)` - setřídní pole, [popis](https://www.tutorialspoint.com/python/list_sort.htm)\n",
    "\n",
    "`sum(list)`, `min(list)`, `max(list)` - pro pole prvků které lze: sčítat resp. porovnávat \n"
   ]
  },
  {
   "cell_type": "code",
   "execution_count": 75,
   "metadata": {},
   "outputs": [
    {
     "name": "stdout",
     "output_type": "stream",
     "text": [
      "[1, 2, 3, 4]  len:  4\n",
      "[1, 1.2, None, [1, 2]] <class 'list'> 4\n",
      "sum:  6.1\n",
      "min: b\n"
     ]
    }
   ],
   "source": [
    "# Pole lze vytvořit pomocí hranatých závorek.\n",
    "a = [1, 2, 3]\n",
    "# Přidáme prvek.\n",
    "a.append(4)\n",
    "print(a, \" len: \", len(a))\n",
    "\n",
    "# Prvky mohou mít libovolný typ\n",
    "x = [1, 1.2, None, [1, 2]]\n",
    "print(x, type(x), len(x))\n",
    "\n",
    "# sum, min\n",
    "print(\"sum: \", sum([1.1,2,3]))\n",
    "print(\"min:\",max(['b', 'a', 'aa']))"
   ]
  },
  {
   "cell_type": "markdown",
   "metadata": {},
   "source": [
    "### Indexování\n",
    "`list[i]` - prvek na pozici `i` (od 0)\n",
    "\n",
    "`list[-i]` - záporné indexy pro indexování od konce (`list[len(list) - i]`)\n",
    "\n",
    "`list[i:j]` - slice (řez), podseznam od pozice `i` (včetně) do pozice `j` (mimo)\n",
    "\n",
    "`list[i:j:k]` - od `i` po `j` s krokem `k`\n"
   ]
  },
  {
   "cell_type": "code",
   "execution_count": 82,
   "metadata": {},
   "outputs": [
    {
     "name": "stdout",
     "output_type": "stream",
     "text": [
      "[1, 2, 3, 4]\n",
      "a[-2] =  3\n",
      "a[1:3] =  [2, 3]\n",
      "a[1:] =  [2, 3, 4]\n",
      "a[:-2] =  [1, 2]\n",
      "[5, 4, 3, 2, 1]\n",
      "[2, 4, 6]\n",
      "[2, 3, 4, 5, 6]\n",
      "[1, 2, 3, 4, 5]\n"
     ]
    }
   ],
   "source": [
    "print(a)\n",
    "# Slicing\n",
    "print(\"a[-2] = \", a[-2])\n",
    "print(\"a[1:3] = \", a[1:3])\n",
    "print(\"a[1:] = \", a[1:]) # výběr včetně posldního prvku pole\n",
    "print(\"a[:-2] = \", a[:-2]) # výběr od začátku\n",
    "\n",
    "six = [1,2,3,4,5,6]\n",
    "print(six[4::-1])\n",
    "print(six[1::2])\n",
    "print(six[1:])\n",
    "print(six[:-1])\n"
   ]
  },
  {
   "cell_type": "markdown",
   "metadata": {},
   "source": [
    "## Tuple\n",
    "- 'immutable' varianta listu\n",
    "- funkce vracející více hodnot:\n",
    "\n",
    "        def div(a, b):\n",
    "           \treturn a//b, a%b\n",
    "- zabalení, rozbalení:\n",
    "     \t\n",
    "        fraction, reminder = div(3,2)\n",
    "        \n",
    "- násobná přiřazení:\n",
    "\n",
    "      \tf, g = g**2, f\n",
    "\n",
    "- [Popis.](https://www.tutorialspoint.com/python/python_tuples.htm)\n"
   ]
  },
  {
   "cell_type": "code",
   "execution_count": 83,
   "metadata": {},
   "outputs": [
    {
     "name": "stdout",
     "output_type": "stream",
     "text": [
      "(1, 'first')\n",
      "x: 1 y: first\n"
     ]
    }
   ],
   "source": [
    "# Tuple, vytvoříme pomocí kulatých závorek. Pevná délka i obsah.\n",
    "b = (1, \"first\")\n",
    "print(b)\n",
    "\n",
    "x, y = b\n",
    "print(\"x:\", x, \"y:\", y)\n"
   ]
  },
  {
   "cell_type": "code",
   "execution_count": 84,
   "metadata": {},
   "outputs": [
    {
     "name": "stdout",
     "output_type": "stream",
     "text": [
      "first\n"
     ]
    },
    {
     "ename": "TypeError",
     "evalue": "'tuple' object does not support item assignment",
     "output_type": "error",
     "traceback": [
      "\u001b[0;31m---------------------------------------------------------------------------\u001b[0m",
      "\u001b[0;31mTypeError\u001b[0m                                 Traceback (most recent call last)",
      "\u001b[0;32m/tmp/ipykernel_1466802/1269438355.py\u001b[0m in \u001b[0;36m<module>\u001b[0;34m\u001b[0m\n\u001b[1;32m      3\u001b[0m \u001b[0;34m\u001b[0m\u001b[0m\n\u001b[1;32m      4\u001b[0m \u001b[0;31m# Změna tuplu je chyba:\u001b[0m\u001b[0;34m\u001b[0m\u001b[0;34m\u001b[0m\u001b[0m\n\u001b[0;32m----> 5\u001b[0;31m \u001b[0mb\u001b[0m\u001b[0;34m[\u001b[0m\u001b[0;36m1\u001b[0m\u001b[0;34m]\u001b[0m \u001b[0;34m=\u001b[0m \u001b[0;36m3\u001b[0m\u001b[0;34m\u001b[0m\u001b[0;34m\u001b[0m\u001b[0m\n\u001b[0m",
      "\u001b[0;31mTypeError\u001b[0m: 'tuple' object does not support item assignment"
     ]
    }
   ],
   "source": [
    "# Lze číst prvek tuplu\n",
    "print(b[1])\n",
    "\n",
    "# Změna tuplu je chyba:\n",
    "b[1] = 3"
   ]
  },
  {
   "cell_type": "markdown",
   "metadata": {},
   "source": [
    "## Dict\n",
    "\n",
    "- obecné zobrazení klíč --> hodnota\n",
    "- implementace pomocí hashů, přístup k prvkům průměrně v čase $O(1)$\n",
    "- klíčem může být libovolný immutable objekt, nebo objekt s metodu `__hash__()`\n",
    "- zejména může být klíčem `tuple` a `str`\n",
    "- přiřazené hodnoty mohou být libovolnho typu\n",
    "- `dict.get(key, default)` vrátí hodnotu klíče `key` pokud existuje, jinak `default`\n",
    "- `dict.setdefault(key, default)` pokud klíč `key` neexistuje nastav na `default` \n",
    "- [Podrobný popis](https://www.tutorialspoint.com/python/python_dictionary.htm)."
   ]
  },
  {
   "cell_type": "code",
   "execution_count": 92,
   "metadata": {},
   "outputs": [
    {
     "name": "stdout",
     "output_type": "stream",
     "text": [
      "{'Name': 'Zara', 'Age': 7, 'Weight': 56.67, 'Friends': ['Dita', 'Ema'], 1000: 'two'}\n",
      "a['Name'] :  Zara\n",
      "a[1000] :  two\n"
     ]
    },
    {
     "ename": "KeyError",
     "evalue": "10",
     "output_type": "error",
     "traceback": [
      "\u001b[0;31m---------------------------------------------------------------------------\u001b[0m",
      "\u001b[0;31mKeyError\u001b[0m                                  Traceback (most recent call last)",
      "\u001b[0;32m/tmp/ipykernel_1466802/715650552.py\u001b[0m in \u001b[0;36m<module>\u001b[0;34m\u001b[0m\n\u001b[1;32m      6\u001b[0m \u001b[0mprint\u001b[0m\u001b[0;34m(\u001b[0m\u001b[0;34m\"a['Name'] : \"\u001b[0m\u001b[0;34m,\u001b[0m \u001b[0ma\u001b[0m\u001b[0;34m[\u001b[0m\u001b[0;34m'Name'\u001b[0m\u001b[0;34m]\u001b[0m\u001b[0;34m)\u001b[0m\u001b[0;34m\u001b[0m\u001b[0;34m\u001b[0m\u001b[0m\n\u001b[1;32m      7\u001b[0m \u001b[0mprint\u001b[0m\u001b[0;34m(\u001b[0m\u001b[0;34m\"a[1000] : \"\u001b[0m\u001b[0;34m,\u001b[0m \u001b[0ma\u001b[0m\u001b[0;34m[\u001b[0m\u001b[0;36m1000\u001b[0m\u001b[0;34m]\u001b[0m\u001b[0;34m)\u001b[0m\u001b[0;34m\u001b[0m\u001b[0;34m\u001b[0m\u001b[0m\n\u001b[0;32m----> 8\u001b[0;31m \u001b[0mprint\u001b[0m\u001b[0;34m(\u001b[0m\u001b[0;34m\"a[10] : \"\u001b[0m\u001b[0;34m,\u001b[0m \u001b[0ma\u001b[0m\u001b[0;34m[\u001b[0m\u001b[0;36m10\u001b[0m\u001b[0;34m]\u001b[0m\u001b[0;34m)\u001b[0m\u001b[0;34m\u001b[0m\u001b[0;34m\u001b[0m\u001b[0m\n\u001b[0m\u001b[1;32m      9\u001b[0m \u001b[0mprint\u001b[0m\u001b[0;34m(\u001b[0m\u001b[0;34m)\u001b[0m\u001b[0;34m\u001b[0m\u001b[0;34m\u001b[0m\u001b[0m\n\u001b[1;32m     10\u001b[0m \u001b[0;34m\u001b[0m\u001b[0m\n",
      "\u001b[0;31mKeyError\u001b[0m: 10"
     ]
    }
   ],
   "source": [
    "# Vytvoření pomocí složených závorek.\n",
    "a = {'Name': 'Zara', 'Age': 7, 'Weight': 56.67, 'Friends': ['Dita', 'Ema'], 1000:\"one\", 1000:\"two\"}\n",
    "print(a)\n",
    "\n",
    "# Přístup přes klíč.\n",
    "print(\"a['Name'] : \", a['Name'])\n",
    "print(\"a[1000] : \", a[1000])\n",
    "print(\"a[10] : \", a[10])\n",
    "print()\n",
    "\n",
    "\n",
    "# Vytvoření pomocí konstruktoru, méně psaní pro klíče typu string.\n",
    "a = dict(Name='Zara', Age=7, Weight=56.67, Friends=['Dita', 'Ema'])\n",
    "\n",
    "\n",
    "print(\"Před smazáním:\", a)\n",
    "# Smazání klíče a hodnoty.\n",
    "del a['Name']\n",
    "\n",
    "a['ID'] = 123\n",
    "a"
   ]
  },
  {
   "cell_type": "code",
   "execution_count": 101,
   "metadata": {},
   "outputs": [
    {
     "name": "stdout",
     "output_type": "stream",
     "text": [
      "get:  175 7\n",
      "{}\n",
      "{1: [1]}\n",
      "{1: [1], 2: [2]}\n",
      "{1: [1, 1], 2: [2]}\n",
      "{1: [1, 1], 2: [2], 3: [3]}\n",
      "{1: [1, 1, 1], 2: [2], 3: [3]}\n",
      "\n",
      "{1: [1, 1, 1], 2: [2, 2], 3: [3]}\n",
      "a =  {'Name': 'Zara', 'Age': 7, 'Weight': 56.67, 'Friends': ['Dita', 'Ema'], 1000: 'two', 'Height': 175}\n",
      "{'Name': 'Zara', 'Age': 7, 'Weight': 56.67, 'Friends': ['Dita', 'Ema'], 1000: 'two', 'Height': 175}\n"
     ]
    }
   ],
   "source": [
    "# get does not raise exception for missing key, returns default instead\n",
    "print(\"get: \", a.get('Height', 175), a.get('Age', 18))\n",
    "\n",
    "# Usage of setdefault\n",
    "# Count number of numbers in a list.\n",
    "l = [1,2,1,3,1,2]\n",
    "d = {}\n",
    "for i in l:\n",
    "    print(d)\n",
    "    x = d.setdefault(i, list())\n",
    "    x.append(i)\n",
    "    \n",
    "print()\n",
    "print(d)\n",
    "\n",
    "# No change after get\n",
    "print(\"a = \", a)\n",
    "a.setdefault('Age', 18)\n",
    "a.setdefault('Height', 175)\n",
    "\n",
    "# No change to Age, Height set\n",
    "print(a)"
   ]
  },
  {
   "cell_type": "markdown",
   "metadata": {},
   "source": [
    "## Set\n",
    "\n",
    "- jako pouze klíče z dict:\n",
    "   \n",
    "      { 3, 5, 7 }\n",
    "\n",
    "\n"
   ]
  },
  {
   "cell_type": "markdown",
   "metadata": {},
   "source": [
    "# 1.2.3 Proměnné\n",
    "\n",
    "- Proměnná je jménem pro objekt (odkaz).\n",
    "- Objekt může mít více jmen.\n",
    "- Pokud objekt nemá žádné jméno, je odstraněn z paměti (Garbage collector).\n",
    "- Některé objekty jsou neměnné (immutable) to jsou objekty typu: int, float, string. Ostaní jsou 'mutable'.\n",
    "\n",
    "Výpis objektů (odkazovaných proměnnými) provedeme pomocí funkce 'print'. IPython také vypíše poslední výraz pokud není přiřazen do proměnné."
   ]
  },
  {
   "cell_type": "code",
   "execution_count": 106,
   "metadata": {},
   "outputs": [
    {
     "name": "stdout",
     "output_type": "stream",
     "text": [
      "a ->  [1] 140686364191104\n",
      "b ->  [1] 140686364191104\n",
      "True\n",
      "a ->  [1, 2]\n",
      "b ->  [1, 2]\n"
     ]
    }
   ],
   "source": [
    "# a --> [1]\n",
    "a = [1]\n",
    "# a --> [1] <-- b\n",
    "b = a\n",
    "\n",
    "print(\"a -> \", a, id(a))\n",
    "print(\"b -> \", b, id(b))\n",
    "print(a == b)\n",
    "\n",
    "# Do pole přidáme prvek.\n",
    "b.append(2)\n",
    "\n",
    "# Přes obě proměnné je dostupné stejné pole, nyní s prvkem '1'.\n",
    "print(\"a -> \", a)\n",
    "print(\"b -> \", b)"
   ]
  },
  {
   "cell_type": "markdown",
   "metadata": {},
   "source": [
    "### Neměnné objekty (immutable)\n",
    "- tyto objekty nelze změnit, modifikace je provedena na kopii objektu\n",
    "- jsou to skalární typy: `None`, `bool`, `int`, `float`, `complex`, `str`\n",
    "- a typ `tuple` ..."
   ]
  },
  {
   "cell_type": "code",
   "execution_count": 108,
   "metadata": {
    "scrolled": true
   },
   "outputs": [
    {
     "name": "stdout",
     "output_type": "stream",
     "text": [
      "a ->  1 140686725562608\n",
      "b ->  1 140686725562608\n",
      "a ->  2     b ->  1\n"
     ]
    }
   ],
   "source": [
    "a = 1\n",
    "b = a\n",
    "# a --> 1 <-- b\n",
    "print(\"a -> \", a, id(a))\n",
    "print(\"b -> \", b, id(b))\n",
    "\n",
    "# Zvětšením o jedna neměníme objekt '1', ale přiřadíme proměnné 'a' objekt '2'. \n",
    "a += 1\n",
    "\n",
    "# a --> 2, b --> 1\n",
    "print(\"a -> \", a, \"    b -> \", b)"
   ]
  },
  {
   "cell_type": "markdown",
   "metadata": {},
   "source": [
    "Detailnější popis najdete [zde](https://mathieularose.com/python-variables/)."
   ]
  },
  {
   "cell_type": "markdown",
   "metadata": {},
   "source": [
    "# 1.2.4 Funkce\n",
    "Definice funkce:\n",
    "    \n",
    "    def func(a, b = None):\n",
    "        \"\"\"\n",
    "        Doc string.\n",
    "        \"\"\"\n",
    "        <body>\n",
    "        return <expression>\n",
    "        \n",
    "zde má funkce definovány 2 parametry, ale druhý je nepovinný a má výchozí hodnotu None. \n",
    "\n",
    "- Všechny argumenty jsou předávány odkazem (parametry fungují jako ostatní proměnné - jako \"nálepky\").\n",
    "- žádný nebo více příkazů `return`; vrátí výsledek výrazu `<expression>`. \n",
    "- Při volání funkce je možno zadávat argumenty pozičně (*poziční argumenty*) \n",
    "  nebo pomocí jména parametru (pojmenované argumenty - keyword arguments).\n",
    "  \n",
    "  Následující volání jsou ekvivalentní:\n",
    "  \n",
    "      func(2)\n",
    "      func(2, None)\n",
    "      func(b=None, a=2)\n",
    "    \n",
    "- Pozor na list jako defaultní hodnotu!!\n",
    "- Je možno definovat též funkce s proměnným počtem parametrů.\n",
    "- používejte **docstringy** (viz. příští seance),  Jelikož Python nekontroluje typy, \n",
    "  je naprosto nezbytné v    dokumentaci uvádět nejen co parametry znamenají, ale také jaký mají typ, \n",
    "  pokud to není z kontextu jasné.\n",
    "- [podrobný popis funkcí](https://www.tutorialspoint.com/python/python_functions.htm).\n",
    "- lambda funkce, funkce jako parametry funkcí, prvky funkcionálního programování\n"
   ]
  },
  {
   "cell_type": "markdown",
   "metadata": {},
   "source": [
    "List lze pomocí `*` rozbalit do seznamu argumentů."
   ]
  },
  {
   "cell_type": "code",
   "execution_count": 31,
   "metadata": {},
   "outputs": [
    {
     "name": "stdout",
     "output_type": "stream",
     "text": [
      "1 2 3\n"
     ]
    },
    {
     "data": {
      "text/plain": [
       "6"
      ]
     },
     "execution_count": 31,
     "metadata": {},
     "output_type": "execute_result"
    }
   ],
   "source": [
    "def expr(a, b, c):\n",
    "    print(a, b, c)\n",
    "    return a + b + c\n",
    "\n",
    "params = [1, 2,3]\n",
    "#expr(params[0], parms[1], params[2])\n",
    "expr(*params)"
   ]
  },
  {
   "cell_type": "markdown",
   "metadata": {},
   "source": [
    "Při použití `*` v definici parametru funkce naopak definuje parametr pro libovolný počet zbylích pozičních argumentů."
   ]
  },
  {
   "cell_type": "code",
   "execution_count": 29,
   "metadata": {},
   "outputs": [
    {
     "name": "stdout",
     "output_type": "stream",
     "text": [
      "Error  :  1, 2\n"
     ]
    }
   ],
   "source": [
    "def my_print(head, *values):\n",
    "    s_values = [str(v) for v in values]\n",
    "    print(head, \" : \", \", \".join(s_values))\n",
    "\n",
    "my_print(\"Error\", 1, 2)"
   ]
  },
  {
   "cell_type": "markdown",
   "metadata": {},
   "source": [
    "Podobně dvojitá hvězdička `**` rozbalí dictionary do posloupnosti pojmenovaných argumentů.\n"
   ]
  },
  {
   "cell_type": "code",
   "execution_count": 32,
   "metadata": {},
   "outputs": [
    {
     "name": "stdout",
     "output_type": "stream",
     "text": [
      "1 2 3\n"
     ]
    },
    {
     "data": {
      "text/plain": [
       "6"
      ]
     },
     "execution_count": 32,
     "metadata": {},
     "output_type": "execute_result"
    }
   ],
   "source": [
    "params = dict(a=1, b=2, c=3)\n",
    "expr(**params) # expr(a=1, b=2, c=3)"
   ]
  },
  {
   "cell_type": "markdown",
   "metadata": {},
   "source": [
    "Dvojitá hvězdička `**` v definici parametru funkce definuje parametr pro \n",
    "zbylé pojmenované argumenty.\n",
    "To se používá zejména pro pojmenované volitelné parametry funkcí.\n",
    "Pojmenované argumenty ve volání funkce lépe popisují co předávaná hodnota znamená"
   ]
  },
  {
   "cell_type": "code",
   "execution_count": 99,
   "metadata": {},
   "outputs": [
    {
     "name": "stdout",
     "output_type": "stream",
     "text": [
      "__hgfedcba\n"
     ]
    }
   ],
   "source": [
    "\n",
    "def boggy_print(s, **options):\n",
    "    \"\"\"\n",
    "    Pojmenované volitelné parametry funkce.\n",
    "    Nutno zdokumentovat:\n",
    "    s - řetězec k vytištění\n",
    "    indent=N - odsadí tisk řetězce o N\n",
    "    reversed=[True|False] - tisk převráceného řetězce\n",
    "    \"\"\"\n",
    "    indent = options.get(\"indent\", 0)\n",
    "    if options.get(\"reversed\", False):\n",
    "        s = s[::-1]\n",
    "    print(indent * \"_\" + s)\n",
    "    \n",
    "boggy_print(\"abcdefgh\", reversed=True, indent=2)  # Čitelné volitelné argumenty volání.\n",
    "\n"
   ]
  },
  {
   "cell_type": "code",
   "execution_count": 100,
   "metadata": {},
   "outputs": [
    {
     "name": "stdout",
     "output_type": "stream",
     "text": [
      "hgfedcba\n",
      "hgfedcba\n"
     ]
    }
   ],
   "source": [
    "def boggy_print_(s, indent=0, reversed=True):\n",
    "    \"\"\"\n",
    "    Klasické volitelné parametry.\n",
    "    \"\"\"\n",
    "    if reversed:\n",
    "        s = s[::-1]\n",
    "    print(indent * \"_\" + s)\n",
    "boggy_print_(\"abcdefgh\", reversed=True)  # Čitelné volitelné argumenty volání.\n",
    "\n",
    "# named arguments are not forced\n",
    "boggy_print_(\"abcdefgh\", 0, True)  # \"mystical\" arguments of unknown purpose  \n",
    " "
   ]
  },
  {
   "cell_type": "markdown",
   "metadata": {},
   "source": [
    "## Cvičení\n",
    "1. Napište funkci pro výpočet délky/plochy/objemu n-rozměrné krychle/koule\n",
    "    - parametry: rozměr (strana, poloměr), dimenze (1,2,3), tvar ('cube','sphere')\n",
    "    - dimenze bude mit defaultni hodnotu 3, tvar hodnotu 'cube'\n",
    "    - vypíše: 'measure <jméno tvaru>: <hodnota 'objemu'>'\n",
    "    - vrátí výsledek\n",
    "\n",
    "2. Která volání jsou správná a co vrátí, tipujte a pak vyzkoušejte:\n",
    "    \n",
    "        def fce(x, y=1):\n",
    "            return x * y\n",
    "   \n",
    "   1. fce(1, 2)          \n",
    "   1. fce(1)              \n",
    "   1. fce(y=2)             \n",
    "   1. fce(y=0, x=1)       \n",
    "   1. fce(x=1, 2)         "
   ]
  },
  {
   "cell_type": "markdown",
   "metadata": {},
   "source": [
    "# 1.2.5 Příkazy\n",
    "\n",
    "- **Bloky jsou dané odsazením!!**\n",
    "- nepoužívat tab znaky\n",
    "- používat 4 mezery\n",
    "\n",
    "## if\n",
    "\n",
    "    if <condition 1> :\n",
    "        <true block 1>\n",
    "    elif <condition 2> :\n",
    "        <true block 2>\n",
    "    else:\n",
    "        <false block>\n",
    "        \n",
    "[Podrobný popis podmínek.](https://www.tutorialspoint.com/python/python_decision_making.htm)        \n"
   ]
  },
  {
   "cell_type": "markdown",
   "metadata": {},
   "source": [
    "## while cyklus\n",
    "\n",
    "    while <condition> :\n",
    "        <block>\n",
    "   \n",
    "Příkazy řízení iterací:\n",
    "\n",
    "`continue` - skočí ihned na další iteraci cyklu\n",
    "\n",
    "`break` - ukončí cyklus a skočí z něj\n",
    "\n",
    "Regulerní ukončení cyklu a ukončení pomocí `break` můžeme rozlišit pomocí bloku `else`:\n",
    "\n",
    "    while <condition> :\n",
    "        <true block>\n",
    "    else:\n",
    "        <end block>"
   ]
  },
  {
   "cell_type": "code",
   "execution_count": 40,
   "metadata": {
    "scrolled": true
   },
   "outputs": [
    {
     "name": "stdout",
     "output_type": "stream",
     "text": [
      "return: Not found.\n",
      "return: 101\n"
     ]
    }
   ],
   "source": [
    "# Find first number divisble be N.\n",
    "N=97\n",
    "start=100\n",
    "end=101\n",
    "\n",
    "i=start\n",
    "while i<end:\n",
    "    if i%N == 0:\n",
    "        break\n",
    "    i+=1\n",
    "else:\n",
    "    print(\"return: Not found.\")\n",
    "    \n",
    "print(\"return: {}\".format(i))"
   ]
  },
  {
   "cell_type": "markdown",
   "metadata": {},
   "source": [
    "## for cyklus\n",
    "\n",
    "   \n",
    "- Základní syntaxe: `x` potupně nabývá hodnot ze sekvence `seq`.\n",
    "\n",
    "        for x in seq:\n",
    "            <block>\n",
    "        \n",
    "- příkazy `break`, `continue` stejně jako u `while`\n",
    "\n",
    "\n",
    "- `else` konstrukce jako u `while`\n",
    "\n",
    "        for x in set:\n",
    "            <block>\n",
    "        else:\n",
    "            <end block>\n",
    "\n"
   ]
  },
  {
   "cell_type": "code",
   "execution_count": 101,
   "metadata": {},
   "outputs": [
    {
     "name": "stdout",
     "output_type": "stream",
     "text": [
      "1\n",
      "2\n",
      "3\n"
     ]
    }
   ],
   "source": [
    "for i in [1,2,3]:\n",
    "    print(i)"
   ]
  },
  {
   "cell_type": "markdown",
   "metadata": {},
   "source": [
    "Přidávání do dynamického pole:"
   ]
  },
  {
   "cell_type": "code",
   "execution_count": 104,
   "metadata": {},
   "outputs": [
    {
     "data": {
      "text/plain": [
       "[1, 4, 9]"
      ]
     },
     "execution_count": 104,
     "metadata": {},
     "output_type": "execute_result"
    }
   ],
   "source": [
    "\n",
    "x = [1, 2, 3]\n",
    "y = []\n",
    "for xi in x:\n",
    "    yi = xi**2\n",
    "    y.append(yi)\n",
    "y"
   ]
  },
  {
   "cell_type": "markdown",
   "metadata": {},
   "source": [
    "Plnění předalokovaného listu."
   ]
  },
  {
   "cell_type": "code",
   "execution_count": null,
   "metadata": {},
   "outputs": [],
   "source": [
    "\n",
    "\n",
    "x = [1, 2, 3]\n",
    "y = len(x) * [0] # [0, 1, 0, 1, 0, 1]\n",
    "print(y)\n",
    "for i in range(len(x)):   # for(i=0; i< len(x) ; i++)\n",
    "    y[i] = x[i] ** 2\n",
    "y"
   ]
  },
  {
   "cell_type": "code",
   "execution_count": 47,
   "metadata": {},
   "outputs": [
    {
     "name": "stdout",
     "output_type": "stream",
     "text": [
      "<class 'list'>\n"
     ]
    }
   ],
   "source": [
    "print(list(range(1,10,2)))"
   ]
  },
  {
   "cell_type": "markdown",
   "metadata": {},
   "source": [
    "## Sekvence - generátory\n",
    "\n",
    "- `range(start, stop, step)` - iteruje přes posloupnost `int` hodnot; funguje jako slice\n",
    "- `enumerate(seq)` - iteruje: [(index, hodnota), ...]\n",
    "- `reversed(list)` - iteruje list pozátku\n",
    "- `dict.values` - iteruje přes hodnoty `dict`, neurčené pořadí\n",
    "- `dict.items` - iteruje: `[ (klic, hodnota), ...]\n",
    "- `zip(a, b)` - iteruje: `[ (a hodnota, b hodnota), ...]"
   ]
  },
  {
   "cell_type": "code",
   "execution_count": 9,
   "metadata": {},
   "outputs": [
    {
     "name": "stdout",
     "output_type": "stream",
     "text": [
      "2  4  6  8  "
     ]
    }
   ],
   "source": [
    "for i in range(2, 10, 2):\n",
    "    print(i, \" \", end='')"
   ]
  },
  {
   "cell_type": "code",
   "execution_count": 10,
   "metadata": {},
   "outputs": [
    {
     "name": "stdout",
     "output_type": "stream",
     "text": [
      "range(0, 3)\n",
      "[0, 1, 2]\n"
     ]
    }
   ],
   "source": [
    "# generátor není list:\n",
    "print(range(3))\n",
    "# ale může naplnit list\n",
    "print(list(range(3)))"
   ]
  },
  {
   "cell_type": "code",
   "execution_count": 13,
   "metadata": {},
   "outputs": [
    {
     "name": "stdout",
     "output_type": "stream",
     "text": [
      "0 :  Adam\n",
      "1 :  Barbora\n",
      "2 :  Cyril\n"
     ]
    }
   ],
   "source": [
    "for i, name in enumerate(['Adam', 'Barbora', 'Cyril']):\n",
    "    print(i, \": \", name)"
   ]
  },
  {
   "cell_type": "code",
   "execution_count": 46,
   "metadata": {},
   "outputs": [
    {
     "name": "stdout",
     "output_type": "stream",
     "text": [
      "3  2  1  "
     ]
    }
   ],
   "source": [
    "for i in reversed([1,2,3]):\n",
    "    print(i, \" \", end='')"
   ]
  },
  {
   "cell_type": "code",
   "execution_count": 14,
   "metadata": {},
   "outputs": [
    {
     "name": "stdout",
     "output_type": "stream",
     "text": [
      "1  2  3  "
     ]
    },
    {
     "data": {
      "text/plain": [
       "[2, 3, 1]"
      ]
     },
     "execution_count": 14,
     "metadata": {},
     "output_type": "execute_result"
    }
   ],
   "source": [
    "a = [2, 3, 1]\n",
    "for i in sorted(a):\n",
    "    print(i, \" \", end='')\n",
    "a\n",
    "\n"
   ]
  },
  {
   "cell_type": "code",
   "execution_count": 48,
   "metadata": {},
   "outputs": [
    {
     "name": "stdout",
     "output_type": "stream",
     "text": [
      "Keys: \n",
      "Name  Age  Weight  Friends  \n",
      "\n",
      "Values: \n",
      "Zara  7  56.67  ['Dita', 'Ema']  \n",
      "\n",
      "Items: \n",
      "('Name', 'Zara')('Age', 7)('Weight', 56.67)('Friends', ['Dita', 'Ema'])"
     ]
    }
   ],
   "source": [
    "d = dict(Name='Zara', Age=7, Weight=56.67, Friends=['Dita', 'Ema'])\n",
    "print(\"Keys: \")\n",
    "for key in d:\n",
    "    print(key, \" \", end='')\n",
    "    \n",
    "print(\"\\n\\nValues: \")    \n",
    "for value in d.values():\n",
    "    print(value, \" \",  end='')\n",
    "    \n",
    "print(\"\\n\\nItems: \")        \n",
    "for key, value in d.items():\n",
    "    print((key, value), end='')"
   ]
  },
  {
   "cell_type": "markdown",
   "metadata": {},
   "source": [
    "### Zip - Iterování přes více generátorů najednou"
   ]
  },
  {
   "cell_type": "code",
   "execution_count": 50,
   "metadata": {},
   "outputs": [
    {
     "name": "stdout",
     "output_type": "stream",
     "text": [
      "[(1, 4), ('x', 5), (3, 6)]\n"
     ]
    }
   ],
   "source": [
    "# sčítání listů\n",
    "# použití zip generátoru\n",
    "A = [1, \"x\", 3, 4]\n",
    "B = [4, 5, 6]\n",
    "C = []\n",
    "for a, b in zip(A, B):\n",
    "    C.append((a,  b))\n",
    "\n",
    "print(C)"
   ]
  },
  {
   "cell_type": "code",
   "execution_count": 60,
   "metadata": {},
   "outputs": [
    {
     "name": "stdout",
     "output_type": "stream",
     "text": [
      "(1, 'x', 3)\n",
      "(4, 5, 6)\n",
      "[]\n"
     ]
    }
   ],
   "source": [
    "# zip lze použít i inverzně\n",
    "#C = list(zip(A, B))\n",
    "#print(C)\n",
    "C = [(1, 4), ('x', 5), (3, 6)]\n",
    "X, Y, *Z = zip(*C)\n",
    "print(X)\n",
    "print(Y)\n",
    "print(Z)"
   ]
  },
  {
   "cell_type": "markdown",
   "metadata": {},
   "source": [
    "Sčítací příklad jednodušeji pomocí comprehansion viz. dále."
   ]
  },
  {
   "cell_type": "code",
   "execution_count": 8,
   "metadata": {},
   "outputs": [
    {
     "data": {
      "text/plain": [
       "[5, 7, 9]"
      ]
     },
     "execution_count": 8,
     "metadata": {},
     "output_type": "execute_result"
    }
   ],
   "source": [
    "[ a + b for a, b in zip(A,B) ]"
   ]
  },
  {
   "cell_type": "markdown",
   "metadata": {},
   "source": [
    "## Comprehensions\n",
    "Efektivní zápis filtrování a transformací listů, množin a adresářů.\n",
    "Pro tvorbu listů:\n",
    "\n",
    "    [ <expression> for x in seq if <condition> ]\n",
    "    \n",
    "Pro každý prvek `x` v sekvenci `seq` který splňuje `<condition>` se vyhodnotí `<expression>` a přidá se do nového pole. Podobně lze tvořit množiny a dictionary. \n",
    "[Podrobný popis a příklady.](http://python-3-patterns-idioms-test.readthedocs.io/en/latest/Comprehensions.html)"
   ]
  },
  {
   "cell_type": "code",
   "execution_count": 16,
   "metadata": {},
   "outputs": [
    {
     "data": {
      "text/plain": [
       "[1, 4, 16, 25, 49, 64, 100]"
      ]
     },
     "execution_count": 16,
     "metadata": {},
     "output_type": "execute_result"
    }
   ],
   "source": [
    "[ i ** 2 for i in range(1, 11) if i%3 > 0]\n"
   ]
  },
  {
   "cell_type": "code",
   "execution_count": 63,
   "metadata": {},
   "outputs": [
    {
     "name": "stdout",
     "output_type": "stream",
     "text": [
      "<generator object <genexpr> at 0x7f7f251bb8b0>\n",
      "-1\n",
      "4\n",
      "-9\n"
     ]
    }
   ],
   "source": [
    "l=( v**2 if v%2==0 else -v**2 for v in range(1,4) )\n",
    "print(l)\n",
    "for i in l:\n",
    "    print(i)"
   ]
  },
  {
   "cell_type": "code",
   "execution_count": null,
   "metadata": {},
   "outputs": [],
   "source": [
    "l = []\n",
    "for v in range(1,4):\n",
    "    l.append(v**2)"
   ]
  },
  {
   "cell_type": "code",
   "execution_count": 64,
   "metadata": {},
   "outputs": [
    {
     "name": "stdout",
     "output_type": "stream",
     "text": [
      "{1: 1, 3: 9, 5: 25}\n"
     ]
    }
   ],
   "source": [
    "# dictionary Druhé mocniny lichých čísel.\n",
    "print({ i:i**2 for i in range(7) if i%2 == 1 })"
   ]
  },
  {
   "cell_type": "code",
   "execution_count": 66,
   "metadata": {},
   "outputs": [
    {
     "name": "stdout",
     "output_type": "stream",
     "text": [
      "<class 'set'>\n",
      "{1, 9, 25}\n"
     ]
    }
   ],
   "source": [
    "s = { i**2 for i in range(7) if i%2 == 1 }\n",
    "print(type(s))\n",
    "print(s)"
   ]
  },
  {
   "cell_type": "code",
   "execution_count": 70,
   "metadata": {},
   "outputs": [
    {
     "name": "stdout",
     "output_type": "stream",
     "text": [
      "[[], [0], [0, 1], [0, 1, 2]]\n"
     ]
    }
   ],
   "source": [
    "l = [[i for i in range(n)] for n in range(4)]\n",
    "print(l)"
   ]
  },
  {
   "cell_type": "code",
   "execution_count": 73,
   "metadata": {},
   "outputs": [
    {
     "ename": "TypeError",
     "evalue": "'int' object is not iterable",
     "output_type": "error",
     "traceback": [
      "\u001b[0;31m---------------------------------------------------------------------------\u001b[0m",
      "\u001b[0;31mTypeError\u001b[0m                                 Traceback (most recent call last)",
      "\u001b[0;32m/tmp/ipykernel_491235/1764061226.py\u001b[0m in \u001b[0;36m<module>\u001b[0;34m\u001b[0m\n\u001b[1;32m      1\u001b[0m \u001b[0ml\u001b[0m \u001b[0;34m=\u001b[0m \u001b[0;34m[\u001b[0m\u001b[0;36m0\u001b[0m\u001b[0;34m,\u001b[0m \u001b[0;34m[\u001b[0m\u001b[0;34m]\u001b[0m\u001b[0;34m,\u001b[0m \u001b[0;34m[\u001b[0m\u001b[0;36m0\u001b[0m\u001b[0;34m]\u001b[0m\u001b[0;34m,\u001b[0m \u001b[0;34m[\u001b[0m\u001b[0;36m0\u001b[0m\u001b[0;34m,\u001b[0m \u001b[0;36m1\u001b[0m\u001b[0;34m]\u001b[0m\u001b[0;34m,\u001b[0m \u001b[0;34m[\u001b[0m\u001b[0;36m0\u001b[0m\u001b[0;34m,\u001b[0m \u001b[0;36m1\u001b[0m\u001b[0;34m,\u001b[0m \u001b[0;36m2\u001b[0m\u001b[0;34m]\u001b[0m\u001b[0;34m]\u001b[0m\u001b[0;34m\u001b[0m\u001b[0;34m\u001b[0m\u001b[0m\n\u001b[0;32m----> 2\u001b[0;31m [j for i in l \n\u001b[0m\u001b[1;32m      3\u001b[0m     for j in i]\n",
      "\u001b[0;32m/tmp/ipykernel_491235/1764061226.py\u001b[0m in \u001b[0;36m<listcomp>\u001b[0;34m(.0)\u001b[0m\n\u001b[1;32m      1\u001b[0m \u001b[0ml\u001b[0m \u001b[0;34m=\u001b[0m \u001b[0;34m[\u001b[0m\u001b[0;36m0\u001b[0m\u001b[0;34m,\u001b[0m \u001b[0;34m[\u001b[0m\u001b[0;34m]\u001b[0m\u001b[0;34m,\u001b[0m \u001b[0;34m[\u001b[0m\u001b[0;36m0\u001b[0m\u001b[0;34m]\u001b[0m\u001b[0;34m,\u001b[0m \u001b[0;34m[\u001b[0m\u001b[0;36m0\u001b[0m\u001b[0;34m,\u001b[0m \u001b[0;36m1\u001b[0m\u001b[0;34m]\u001b[0m\u001b[0;34m,\u001b[0m \u001b[0;34m[\u001b[0m\u001b[0;36m0\u001b[0m\u001b[0;34m,\u001b[0m \u001b[0;36m1\u001b[0m\u001b[0;34m,\u001b[0m \u001b[0;36m2\u001b[0m\u001b[0;34m]\u001b[0m\u001b[0;34m]\u001b[0m\u001b[0;34m\u001b[0m\u001b[0;34m\u001b[0m\u001b[0m\n\u001b[0;32m----> 2\u001b[0;31m [j for i in l \n\u001b[0m\u001b[1;32m      3\u001b[0m     for j in i]\n",
      "\u001b[0;31mTypeError\u001b[0m: 'int' object is not iterable"
     ]
    }
   ],
   "source": [
    "l = [0, [], [0], [0, 1], [0, 1, 2]]\n",
    "[j for i in l for j in i]"
   ]
  },
  {
   "cell_type": "code",
   "execution_count": null,
   "metadata": {},
   "outputs": [],
   "source": [
    "def make_sequence( a, b, step=1, power = 1):\n",
    "    \"\"\"\n",
    "    Make a sequence a**p, ..., b**p.\n",
    "    :param a: float, first value base\n",
    "    :param b: float, end value base (last base is less then b)\n",
    "    :param step: float, step of base values\n",
    "    :param power: float, common power of resulting values\n",
    "    :return ...\n",
    "    \"\"\"\n",
    "    x = a\n",
    "    sequence = []\n",
    "    while x < b:\n",
    "        sequence.append(x**power)\n",
    "        x += step\n",
    "    return sequence"
   ]
  },
  {
   "cell_type": "code",
   "execution_count": 45,
   "metadata": {},
   "outputs": [
    {
     "data": {
      "text/plain": [
       "[1.1, 2.1, 3.1]"
      ]
     },
     "execution_count": 45,
     "metadata": {},
     "output_type": "execute_result"
    }
   ],
   "source": [
    "make_sequence(1.1, 4)"
   ]
  },
  {
   "cell_type": "code",
   "execution_count": 47,
   "metadata": {},
   "outputs": [
    {
     "data": {
      "text/plain": [
       "[1.1, 3.1, 5.1, 7.1, 9.1]"
      ]
     },
     "execution_count": 47,
     "metadata": {},
     "output_type": "execute_result"
    }
   ],
   "source": [
    "make_sequence(1.1, 10, step = 2)"
   ]
  },
  {
   "cell_type": "code",
   "execution_count": 49,
   "metadata": {},
   "outputs": [
    {
     "data": {
      "text/plain": [
       "[1, 9, 25, 49, 81]"
      ]
     },
     "execution_count": 49,
     "metadata": {},
     "output_type": "execute_result"
    }
   ],
   "source": [
    "make_sequence(1, 10, step = 2, power=2)"
   ]
  },
  {
   "cell_type": "markdown",
   "metadata": {},
   "source": [
    "# Čtení a zápis souborů\n",
    "\n",
    "Čtení všech řádek ze souboru:\n",
    "\n",
    "    with open(\"file.txt\", \"r\") as f:\n",
    "        all_lines = f.readlines()\n",
    "\n",
    "`with` je tzv. kontext manager a v tomto případě zajisí uzavření souboru. Je to ekvivalentní:\n",
    "\n",
    "    f = open(\"file.txt\", \"r\") # otevření souboru pro čtení\n",
    "    all_lines = f.readlines()\n",
    "    f.close()\n",
    "\n",
    "Postupné zpracování všech řádek souboru:\n",
    "    \n",
    "    with open(\"file.txt\", \"r\") as f:    \n",
    "        for line in f:\n",
    "            process_line(line)\n",
    "            \n",
    "Zápis do souboru:\n",
    "\n",
    "        with open(\"file.txt\", \"w\") as f: # otevření souboru pro zápis\n",
    "            f.write(\"Jedna řádka\\n\")\n",
    "            \n",
    "[Podrobný popis](https://www.tutorialspoint.com/python/python_files_io.htm)\n",
    "zahrnuje: další příznaky při otevírání souboru, nastavování pozice v souboru, práci s adresáři\n",
    "\n",
    "Načítání a ukládání ve formátu JSON:\n",
    "\n",
    "       import json\n",
    "       with open(\"dat_in.json\", \"r\") as f:\n",
    "           data = json.load(f)\n",
    "       with open(\"dat_out.json\", \"w\") as f:\n",
    "           json.dump(f, data)\n",
    "\n",
    "Podobně pro formát YAML"
   ]
  },
  {
   "cell_type": "code",
   "execution_count": 77,
   "metadata": {},
   "outputs": [
    {
     "name": "stdout",
     "output_type": "stream",
     "text": [
      "/home/jb/Vyuka/PAV_course\n",
      "JSON content: {'1': 34, '2': ['list'], '3': None}\n"
     ]
    }
   ],
   "source": [
    "!pwd\n",
    "\n",
    "import json\n",
    "import os\n",
    "#print(os.getcwd())\n",
    "\n",
    "with open('file.json', 'r') as f:\n",
    "    data = json.load(f)\n",
    "print(\"JSON content:\", data)\n",
    "#data = { int(i): v for i, v in data.items()}\n",
    "#print(data)"
   ]
  },
  {
   "cell_type": "markdown",
   "metadata": {},
   "source": [
    "# Moduly\n",
    "Mimo vestavěných příkazů a funkcí poskytuje Python množství další funkcionality pomocí 'modulů'. Některé moduly jsou\n",
    "součástí výchozí instalace jiné je potřeba nainstalovat. Součástí balíku Anakonda je většina používaných modulů. \n",
    "\n",
    "Pro použití je třeba modul importovat:\n",
    "   \n",
    "    import json as js\n",
    "\n",
    "nyní máme modul importovaný pod jménem `js` a můžeme používat funkce a třídy v něm obsažené, viz.\n",
    "[dokumentace modulu json](https://docs.python.org/3/library/json.html)\n",
    "\n",
    "Další možnosti:\n",
    "\n",
    "    import yaml\n",
    "    import json as js\n",
    "    import numpy as np\n",
    "    \n",
    "    from typing import *\n",
    "    from numpy import linalg as la  # la = numpy.linalg\n",
    "    from ..mypackage import mymodule\n"
   ]
  },
  {
   "cell_type": "code",
   "execution_count": 1,
   "metadata": {},
   "outputs": [
    {
     "ename": "TypeError",
     "evalue": "unsupported operand type(s) for *: 'builtin_function_or_method' and 'builtin_function_or_method'",
     "output_type": "error",
     "traceback": [
      "\u001b[0;31m---------------------------------------------------------------------------\u001b[0m",
      "\u001b[0;31mTypeError\u001b[0m                                 Traceback (most recent call last)",
      "Cell \u001b[0;32mIn[1], line 4\u001b[0m\n\u001b[1;32m      1\u001b[0m \u001b[38;5;28;01mimport\u001b[39;00m \u001b[38;5;21;01mnumpy\u001b[39;00m \u001b[38;5;28;01mas\u001b[39;00m \u001b[38;5;21;01mnp\u001b[39;00m\n\u001b[1;32m      3\u001b[0m v \u001b[38;5;241m=\u001b[39m np\u001b[38;5;241m.\u001b[39marray\n\u001b[0;32m----> 4\u001b[0m \u001b[43mnp\u001b[49m\u001b[38;5;241;43m.\u001b[39;49m\u001b[43mlinalg\u001b[49m\u001b[38;5;241;43m.\u001b[39;49m\u001b[43mnorm\u001b[49m\u001b[43m(\u001b[49m\u001b[43mv\u001b[49m\u001b[43m)\u001b[49m\n\u001b[1;32m      6\u001b[0m \u001b[38;5;66;03m#from numpy import as la\u001b[39;00m\n\u001b[1;32m      8\u001b[0m \u001b[38;5;28mprint\u001b[39m(help(np\u001b[38;5;241m.\u001b[39mlinalg\u001b[38;5;241m.\u001b[39mnorm))\n",
      "File \u001b[0;32m/usr/local/lib/python3.11/site-packages/numpy/linalg/_linalg.py:2796\u001b[0m, in \u001b[0;36mnorm\u001b[0;34m(x, ord, axis, keepdims)\u001b[0m\n\u001b[1;32m   2794\u001b[0m     sqnorm \u001b[38;5;241m=\u001b[39m x_real\u001b[38;5;241m.\u001b[39mdot(x_real) \u001b[38;5;241m+\u001b[39m x_imag\u001b[38;5;241m.\u001b[39mdot(x_imag)\n\u001b[1;32m   2795\u001b[0m \u001b[38;5;28;01melse\u001b[39;00m:\n\u001b[0;32m-> 2796\u001b[0m     sqnorm \u001b[38;5;241m=\u001b[39m \u001b[43mx\u001b[49m\u001b[38;5;241;43m.\u001b[39;49m\u001b[43mdot\u001b[49m\u001b[43m(\u001b[49m\u001b[43mx\u001b[49m\u001b[43m)\u001b[49m\n\u001b[1;32m   2797\u001b[0m ret \u001b[38;5;241m=\u001b[39m sqrt(sqnorm)\n\u001b[1;32m   2798\u001b[0m \u001b[38;5;28;01mif\u001b[39;00m keepdims:\n",
      "\u001b[0;31mTypeError\u001b[0m: unsupported operand type(s) for *: 'builtin_function_or_method' and 'builtin_function_or_method'"
     ]
    }
   ],
   "source": [
    "import numpy as np\n",
    "\n",
    "v = np.array\n",
    "np.linalg.norm(v)\n",
    "\n",
    "#from numpy import as la\n",
    "\n",
    "print(help(np.linalg.norm))"
   ]
  },
  {
   "cell_type": "code",
   "execution_count": 35,
   "metadata": {},
   "outputs": [
    {
     "data": {
      "text/plain": [
       "typing.Any"
      ]
     },
     "execution_count": 35,
     "metadata": {},
     "output_type": "execute_result"
    }
   ],
   "source": [
    "#import typing as tp\n",
    "from typing import *\n",
    "\n",
    "Any"
   ]
  },
  {
   "cell_type": "code",
   "execution_count": 34,
   "metadata": {},
   "outputs": [
    {
     "data": {
      "text/plain": [
       "{'email': 'jesson0@google.com.br',\n",
       " 'first_name': 'Joice',\n",
       " 'gender': 'Female',\n",
       " 'id': 1,\n",
       " 'ip_address': '96.52.28.71',\n",
       " 'last_name': 'Esson'}"
      ]
     },
     "execution_count": 34,
     "metadata": {},
     "output_type": "execute_result"
    }
   ],
   "source": [
    "import scipy.linalg as la\n",
    "#import load as js_load\n",
    "\n",
    "# importovali jsme modul json pro parsování JSON souborů\n",
    "with open(\"MOCK_DATA.json\", \"r\") as f:\n",
    "    data = js.load(f)\n",
    "\n",
    "# Data obsahuje kompletní hierarchická data z formátu JSON.\n",
    "data[0]    "
   ]
  },
  {
   "cell_type": "markdown",
   "metadata": {},
   "source": [
    "# Cvičení\n",
    "\n",
    "## Struktury\n",
    "- zkuste najít (na Googlu) jak lze provést spojení dvou listů do nového, a jak připojit jeden list k druhému\n",
    "- zkuste co nemůže být klíčem v dictionary, najděte alespoň 3 příklady objektů různého typu\n",
    "- opravte následující kód"
   ]
  },
  {
   "cell_type": "code",
   "execution_count": 15,
   "metadata": {},
   "outputs": [],
   "source": [
    "d = {}\n",
    "empty = []\n",
    "for i in range(10):\n",
    "    key = i % 3\n",
    "    d.setdefault(key, empty)\n",
    "    d[key].append(i)"
   ]
  },
  {
   "cell_type": "markdown",
   "metadata": {},
   "source": [
    "- napište funkci, která sečte dva stejně dlouhé listy čísel\n",
    "- \n"
   ]
  },
  {
   "cell_type": "markdown",
   "metadata": {},
   "source": [
    "\n",
    "\n",
    "## Faktoriály\n",
    "- napište funkci, která spočte faktoriál čísla $n$\n",
    "- vypište faktoriály pro $n<30$, které začínají cifrou 5\n",
    "- vypište faktoriály, které začínají cifrou 5\n",
    "\n",
    "## Zpracování dat\n",
    "- načtěte data ze souboru [MOCK_DATA.json](./MOCK_DATA.json)\n",
    "- data mají strukturu: list of dicts; vypište si prvních 5 položek seznamu\n",
    "- napište funkci, která pro řeťezec IP adresy převede na tuple 4 intů, najděte si `str.split`\n",
    "- vypište záznamy jejichž IP začíná 147 nebo 22\n",
    "\n",
    "## Other\n",
    "1. Napište funkci, která vrátí list obsahující prvky Fibonačiho posloupnosti menší než $n$. \n",
    "Napište funkci, která vrátí list obsahující prvky Fibonačiho posloupnosti menší než $n$. \n",
    "Napište funkci pro zápis přirozeného čísla v římské notaci.\n",
    "2. \n",
    "3. Napište funkci, která pro dva seznamy vrátí True pokud obsahují alespoň jeden společný prvek.\n",
    "3. Napište funkci která načte data ze souboru . Zjistěte jaká je struktura dat.\n",
    "4. Napište funkci `row_format`, která pro dict jednoho záznamu a tuple `width` tří intů zformátuje řetězec obsahující: \n",
    "   email, id zapsáno   římsky, ip_address. Příslušné podřetězce `s1`, `s2`, `s3` jsou doplněné zleva mezerami, tak aby\n",
    "   řetězec $s_i$ měl šířku `width[i]`. Viz. metody `ljust`, `rjust`.\n",
    "5. Z načtených dat vyberte ty záznamy, jejichž IP adresa (složená ze 4 čísel) obsahuje nějaké Fibonachiho číslo.\n",
    "6. Pro vybrané záznamy vystupte email, id a ip_address do souboru \"output.txt\" ve formě tabulky, tak aby každý ze tří\n",
    "   sloupců byl zarovnaný vpravo. K tomu použijete funkci `row_format`. Nejprve projděte všechny řádky, pro každý \n",
    "   určete šířky tří vystupovaných položek bez doplňování mezerami, pro každý sloupec určíte maximální šířku. Tyto\n",
    "   maximální šířky použijete jako parametr `width` funkce `row_format` při druhém průchodu."
   ]
  },
  {
   "cell_type": "code",
   "execution_count": 12,
   "metadata": {},
   "outputs": [
    {
     "data": {
      "text/plain": [
       "{0: [0, 1, 2, 3, 4, 5, 6, 7, 8, 9],\n",
       " 1: [0, 1, 2, 3, 4, 5, 6, 7, 8, 9],\n",
       " 2: [0, 1, 2, 3, 4, 5, 6, 7, 8, 9]}"
      ]
     },
     "execution_count": 12,
     "metadata": {},
     "output_type": "execute_result"
    }
   ],
   "source": [
    "d = {}\n",
    "l = []\n",
    "for i in range(10):\n",
    "    key = i % 3\n",
    "    d.setdefault(key, l)\n",
    "    d[key].append(i)\n",
    "d"
   ]
  }
 ],
 "metadata": {
  "kernelspec": {
   "display_name": "Python 3 (ipykernel)",
   "language": "python",
   "name": "python3"
  },
  "language_info": {
   "codemirror_mode": {
    "name": "ipython",
    "version": 3
   },
   "file_extension": ".py",
   "mimetype": "text/x-python",
   "name": "python",
   "nbconvert_exporter": "python",
   "pygments_lexer": "ipython3",
   "version": "3.11.9"
  }
 },
 "nbformat": 4,
 "nbformat_minor": 4
}
