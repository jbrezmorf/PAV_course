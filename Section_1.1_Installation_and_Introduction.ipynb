{
 "cells": [
  {
   "cell_type": "markdown",
   "metadata": {},
   "source": [
    "# 1.1.1 Jupyter/IPython instalace"
   ]
  },
  {
   "cell_type": "markdown",
   "metadata": {},
   "source": [
    "### Jupyter server\n",
    "\n",
    "1. Připojte se pomocí webového prohlížeče na [ciflow.nti.tul.cz:8080](ciflow.nti.tul.cz:8080). Použijte své jméno do LIANE a \n",
    "heslo dle mailu. Po přihlášení se vám spustí na serveru vlastní instance webové aplikace Jupyter Lab.\n",
    "\n",
    "2. Spusťte \"Terminál\", první ikona ve spodní řadě. \n",
    "\n",
    "3. Další odstavce přeskočte a pokračujte podle \"Alternativní stažení materiálů\" s vynecháním bodů 1. a 3. "
   ]
  },
  {
   "cell_type": "markdown",
   "metadata": {},
   "source": [
    "### Instalace na vlastní počítač (systém Windows)\n",
    "\n",
    "1. Stáhněte si instalaci balíku \n",
    "   [Anaconda](https://www.anaconda.com/download). Verze Python 3.7 (varianta Windows 64bit by měla být zvolena automaticky). \n",
    "   Spusťte instalaci ve standardním režimu. Instalace zabere cca 3.5GB místa a trvá pár minut. \n",
    "\n",
    "2. V nabídce \"Start\" spusťte \"Jupyter notebook\". Spustí se Jupyter server \n",
    "   a otevře se vám okno prohlížeče s frontendem Jupyteru.  "
   ]
  },
  {
   "cell_type": "markdown",
   "metadata": {},
   "source": [
    "### Instalace  na vlastní počítač (systém Linux)\n",
    "\n",
    "1. Stáhněte si instalaci balíku \n",
    "   [Anaconda](https://www.anaconda.com/download). Verze Python 3.x. \n",
    "   Instalace zabere cca 3.5GB místa. Z terminálu spusťte stažený skript pod uživatelem.\n",
    "\n",
    "2. Z terminálu spusťte:\n",
    "        \n",
    "        ~/anaconda3/bin/jupyter notebook\n",
    "   \n",
    "   Spustí se Jupyter server a otevře se vám okno prohlížeče s frontendem Jupyteru. \n",
    "   Dle libosti si vytvořte pro tento příkaz zástupce na ploše nabo v menu."
   ]
  },
  {
   "cell_type": "markdown",
   "metadata": {},
   "source": [
    "### Stažení materiálů\n",
    "1. Na stránce [kurzu Python for AVI](https://github.com/jbrezmorf/PAV_course), zelené tlačítko vpravo, Download ZIP.\n",
    "\n",
    "2. Rozbalit do vhodného adresáře (Windows např. `c:/Users/_jmeno_/Documents/ipython`.\n",
    "\n",
    "3. V prohlížeči v záložce s Jupyterem přejít do stejného adresáře a spusťit sešit: \"Section_1.1...\"\n",
    "\n",
    "### Alternativní stažení materiálů\n",
    "\n",
    "1. V prohlížeči v Jupyteru vidíte váš uživatelský adresář. Otevřete si v prohlížeči záloku s \n",
    "  \"terminálem\" pomocí: \"New\" -> \"Terminal\" vpravo nahoře.\n",
    "    \n",
    "2. Vytvořte si adresář pro notebooky. V terminálu spusťte:\n",
    "       \n",
    "            mkdir ipython\n",
    "            cd ipython\n",
    "\n",
    "5. Instalujte si verzovací nástroj git. V terminálu spusťte:\n",
    "            \n",
    "            conda install git\n",
    "            \n",
    "6. Stáhněte si projekt kurzu. V terminálu spusťte:\n",
    "    \n",
    "            git clone https://github.com/jbrezmorf/pythonforall.git\n",
    "    \n",
    "5. V hlavní záložce přejděte do adresáře \"ipython/pythonforall\" a spusťte sešit:\n",
    "    \"Section_1.1...\"\n",
    "    \n",
    "Při dalším spouštění stačí provést kroky 2. a 5. "
   ]
  },
  {
   "cell_type": "markdown",
   "metadata": {},
   "source": [
    "# 1.1.2 Proč Python?\n",
    "\n",
    "## Jednoduchost a čitelnost\n",
    "- Programovací jazyk slouží k zápisu programu pro lidi. \n",
    "- Klíčová vlastnost je čitelnost/srozumitelnost kódu.\n",
    "- Syntaxe Pythonu podporuje čitelnost a minimalizuje informační šum.\n",
    "- \"Make your code as simple as possible, but no simpler.\" \n",
    "- \"There should be one-- and preferably only one --obvious way to do it.\" \n",
    "  [Zen of Python](https://www.python.org/dev/peps/pep-0020/)\n",
    "\n",
    "##  Propojitelnost\n",
    "- Snadné napojení na existující kód v jiných jazycích.\n",
    "- Existující Pythoní knihovny (rozhraní) pro všechno:\n",
    "linear algebra, numerics, statistics, signal processing, web, databases, \n",
    "machine learning, ...\n",
    "- Přenositelnost na různé operační systémy. \n",
    "\n",
    "## Proč ne Matlab?\n",
    "- Python je vhodný pro výuku, vznikl na základě jazyka ABC pro výuku.\n",
    "- Python je skutečný programovací jazyk.\n",
    "- Python je silný v matematice, ale také jinde (systémové skriptování, weby).\n",
    "- Python poskytuje všechno so Matlab.\n",
    "- Python je \"Free software\", žádné problémy s licencováním.\n",
    "\n",
    "Lorena A. Barba [Why I push for Python (to teach programming).](https://lorenabarba.com/blog/why-i-push-for-python/)\n",
    "\n",
    "Antony Shaw: [Why I swapped C# for Python?](https://medium.com/@anthonypjshaw/why-i-swapped-c-net-for-python-as-my-default-language-and-platform-and-wont-be-going-back-e0063a25e491)\n",
    "\n",
    "## Nevýhody Pythonu\n",
    "\n",
    "- Dynamické typování a tzv. [\"duck typing\"](https://en.wikipedia.org/wiki/Duck_typing)   zjednodušuje implementaci, ale bez dokumentování a programátorské disciplíny vede k chybám a těžké orientaci v rozsáhlých projektech.\n",
    "- Interpretovaný a vysokoúrovňový jazyk nemůže být příliš rychlý. Kód vykonávaný přímo Pythonem je zhruba 10x pomalejší než stejný kód napsaný v C++. Možná řešení: \n",
    "  - používání knihoven implementovaných v kompilovaných jazycích\n",
    "  - [\"just-in-time\"](https://en.wikipedia.org/wiki/Just-in-time_compilation) kompilátor,\n",
    "    např. [PyPy](https://pypy.org/), [Numba](https://numba.pydata.org/) \n",
    "  - kompilovatelná varianta Pythonu: [Cython](http://cython.org/)\n",
    "  \n",
    "- Standardní interpreter [CPython](https://stackoverflow.com/questions/17130975/python-vs-cpython) neumožňuje\n",
    "  paralelní běh vláken kvůli použití globálního zámku [GIL](https://en.wikipedia.org/wiki/Global_interpreter_lock).\n",
    "  Možná řešení:\n",
    "  - paralelizmus pomocí procesů\n",
    "  - použití knihoven, které vnitřně vlákna využijí\n",
    "  - alternativní implementace bez GIL: Jython, IronPython, Cython (GIL lze dočasně vypnout)\n",
    "  - počkat na Python 4.0\n",
    "- Méně rozvinutá podpora mobilních platforem (např. oproti Javě).  \n",
    "\n",
    "\n"
   ]
  },
  {
   "cell_type": "markdown",
   "metadata": {},
   "source": [
    "# 1.1.3  Jupyter / IPython - přehled\n",
    " \n",
    "Jupyter umožňuje tvořit interaktivní sešity (notebook) obsahující kusy kódu a doprovodný text. Nás bude zajímat variante IPython, kde je kód v jazyce Python. Doprovodný text je formátován pomocí jednoduchého značkovacího formátu Markdown s možností psaní vzorců v Latexu. Poznámky k přednáškám jsou psané v IPythonu a v něm také budeme provádět cvičení v rámci Seance 1.\n",
    "\n",
    "## Zdroje:\n",
    "\n",
    "[IPython cheetsheet](https://www.cheatography.com//jorgejuan007/cheat-sheets/jupyter-notebook-editor/pdf/)\n",
    "\n",
    "[Galery of interesting notebooks](https://github.com/jupyter/jupyter/wiki/A-gallery-of-interesting-Jupyter-Notebooks)"
   ]
  },
  {
   "cell_type": "markdown",
   "metadata": {},
   "source": [
    "## Jupyter - Klávesové zkratky\n",
    "\n",
    "- **Alt-M** Přepnutí buňky na textovou (Markdown).\n",
    "- **Alt-1**, **Alt-2**, ... Přepnutí buňky na nadpis úrovně 1, 2, ...\n",
    "- **Ctrl-Enter** Spuštění buňky.\n",
    "- **Alt-Enter** Spuštění buňky a přidání nové.\n",
    "- **d, d** - smazání buňky\n",
    "\n",
    "Další zkratky viz. ikonka klávesnice v menu. Pozor, na Linuxu se levý a pravý Alt chová jinak."
   ]
  },
  {
   "cell_type": "markdown",
   "metadata": {},
   "source": [
    "## Textová buňka - Markdown formát\n",
    "\n",
    "Textové buňky umožňují formátování textu pomocí značkovacího jazyka Markdown a formátování matematických vzorců pomocí Latexu. Viz. tento sešit.\n",
    "\n",
    "### Základní syntaxe\n",
    "Přehled formátovací syntaxe Markdown: [Markdown cheatsheet](https://scottboms.com/downloads/documentation/markdown_cheatsheet.pdf)\n",
    "\n",
    "### Matematické vzorce\n",
    "\n",
    "\n",
    "Jednoduchý dolar \\\\$ pro matematické formátování v textu:\n",
    "$A$, $A_i$, $A^2$ ... a text pokračuje.\n",
    "\n",
    "Dvojitý dolar pro samostatný matematický vzorec. \n",
    "Např.\n",
    "\n",
    "    $$\\sum_{i=1}^\\infty \\frac{1}{i^2} = \\frac{\\pi^2}{6}$$\n",
    "\n",
    "vysází:\n",
    "$$\\sum_{i=1}^\\infty \\frac{1}{i^2} = \\frac{\\pi^2}{6}$$\n",
    "\n",
    "Automaticky se rozpoznají i jiná LaTeX prostředí:\n",
    "\n",
    "\\begin{align}\n",
    "\\label{eq:Maxwel1}\n",
    "\\nabla \\times \\vec{\\mathbf{B}} -\\, \\frac1c\\, \\frac{\\partial\\vec{\\mathbf{E}}}{\\partial t} & = \\frac{4\\pi}{c}\\vec{\\mathbf{j}} \\\\\n",
    "\\nabla \\cdot \\vec{\\mathbf{E}} & = 4 \\pi \\rho \\\\\n",
    "\\nabla \\times \\vec{\\mathbf{E}}\\, +\\, \\frac1c\\, \\frac{\\partial\\vec{\\mathbf{B}}}{\\partial t} & = \\vec{\\mathbf{0}} \\\\\n",
    "\\nabla \\cdot \\vec{\\mathbf{B}} & = 0\n",
    "\\end{align}\n",
    "\n",
    "## Tabulky\n",
    "Malé tabulky je možno zapsat pomocí Markdown (některé prohlížeče nezobrazují dobře):\n",
    "\n",
    "| Jméno | Příjmení | Věk |\n",
    "| :--- | :---: | ---: |\n",
    "| left align | center | right align |\n",
    "| Antonín | Bumba | 21 |\n",
    "| Květa | Poláková | 22 |\n",
    "\n",
    "Tabulky a grafy generované z dat je však lépe generovat pomocí Python kódu (viz. později lekce o Pandas).\n",
    "\n",
    "    "
   ]
  },
  {
   "cell_type": "markdown",
   "metadata": {},
   "source": [
    "### Další zdroje o IPython formátování:\n",
    "\n",
    "[Úvod do Markdown formátování](http://jupyter-notebook.readthedocs.io/en/stable/examples/Notebook/Working%20With%20Markdown%20Cells.html) a jeho rozšířeních v IPython sešitech.  \n",
    "\n",
    "[Další příklady rovnic](http://jupyter-notebook.readthedocs.io/en/stable/examples/Notebook/Typesetting%20Equations.html)\n",
    "\n",
    "[Online editor Latex výrazů](https://www.codecogs.com/latex/eqneditor.php)\n",
    "\n",
    "[Publikování pomocí IPython sešitů](http://blog.juliusschulz.de/blog/ultimate-ipython-notebook)\n",
    "\n"
   ]
  },
  {
   "cell_type": "markdown",
   "metadata": {},
   "source": [
    "### Ostatní buňky obsahují spustitelný kód"
   ]
  },
  {
   "cell_type": "code",
   "execution_count": 7,
   "metadata": {},
   "outputs": [
    {
     "name": "stdout",
     "output_type": "stream",
     "text": [
      "4\n"
     ]
    }
   ],
   "source": [
    "# Tento sešit používá python 3. Můžete vytvořit sešity i pro jiné jazyky.\n",
    "print(1 + 3)"
   ]
  },
  {
   "cell_type": "markdown",
   "metadata": {},
   "source": [
    "## Číslování rovnic\n",
    "Rovnice se automaticky nečíslují, číslování lze zapnout pomocí spuštění následujícího kódu:"
   ]
  },
  {
   "cell_type": "code",
   "execution_count": 6,
   "metadata": {},
   "outputs": [
    {
     "data": {
      "application/javascript": [
       "  MathJax.Hub.Config({\n",
       "    TeX: { equationNumbers: { autoNumber: \"AMS\" } }\n",
       "  });\n"
      ],
      "text/plain": [
       "<IPython.core.display.Javascript object>"
      ]
     },
     "metadata": {},
     "output_type": "display_data"
    }
   ],
   "source": [
    "  %%javascript\n",
    "    MathJax.Hub.Config({\n",
    "      TeX: { equationNumbers: { autoNumber: \"AMS\" } }\n",
    "    });"
   ]
  },
  {
   "cell_type": "markdown",
   "metadata": {},
   "source": [
    "\\begin{equation}\n",
    "\\label{eq:Einstein}\n",
    "E = mc^2\n",
    "\\end{equation}\n",
    "\n",
    "Lze napsat odkaz na předchozí rovnici \n",
    "$\\eqref{eq:Einstein}$. \n"
   ]
  },
  {
   "cell_type": "markdown",
   "metadata": {},
   "source": [
    "## Cvičení IPython"
   ]
  },
  {
   "cell_type": "markdown",
   "metadata": {},
   "source": [
    "Vytvořte sešit obsahující následující prvky:\n",
    "\n",
    "- Nadpisy první a druhé úrovně.\n",
    "- Dva odstavce obyčejného textu.\n",
    "- Příklad kódu (neformátováno) v textu.\n",
    "- Odrážkový a číslovaný seznam.\n",
    "- Jednu buňku se spustitelným kódem"
   ]
  },
  {
   "cell_type": "markdown",
   "metadata": {},
   "source": [
    "Vytvořte matematické vzorce obsahující:\n",
    "- řecká písmena\n",
    "- složené zlomky\n",
    "- různě velké závorky\n",
    "- sumu, integrál, limitu\n",
    "- matici 2x2 s prvky 1, 2, 3, 4"
   ]
  }
 ],
 "metadata": {
  "kernelspec": {
   "display_name": "Python 3 (ipykernel)",
   "language": "python",
   "name": "python3"
  },
  "language_info": {
   "codemirror_mode": {
    "name": "ipython",
    "version": 3
   },
   "file_extension": ".py",
   "mimetype": "text/x-python",
   "name": "python",
   "nbconvert_exporter": "python",
   "pygments_lexer": "ipython3",
   "version": "3.8.10"
  }
 },
 "nbformat": 4,
 "nbformat_minor": 4
}
