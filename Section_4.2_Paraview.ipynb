{
 "cells": [
  {
   "cell_type": "markdown",
   "metadata": {},
   "source": [
    "Instalace:\n",
    "    [Paraview download](https://www.paraview.org/download/)\n"
   ]
  },
  {
   "cell_type": "markdown",
   "metadata": {},
   "source": [
    "Paraview má dvě části:\n",
    "    \n",
    "    Client (GUI, Python) - nemá vlastní data a filtry, ale jen jejich Proxy\n",
    "    Server - má data, může být distribuovaný na více strojích přes MPI\n",
    "    \n",
    "Skriptování na Clientu:\n",
    "    - lze zadávat vizualizační operace a filtry, ale ne přímo manipulovat s daty\n",
    "    - lze také zasahovat do GUI, přidávat funkce a pod.\n",
    "\n",
    "Skriptování na Serveru:\n",
    "    - PythonCalculator\n",
    "    - ProgrammableFilter\n",
    "    \n",
    "Paraview je postaveno na knihovne VTK, ktera take ma Python rozhrani.    "
   ]
  },
  {
   "cell_type": "markdown",
   "metadata": {},
   "source": [
    "Zdroje:\n",
    "\n",
    "- [Python Client Scripting](https://www.paraview.org/Wiki/ParaView/Python_Scripting)\n",
    "- [Python doc. module simple](https://www.paraview.org/ParaView/Doc/Nightly/www/py-doc/index.html)\n",
    "- [VTK Python examples](https://www.vtk.org/Wiki/VTK/Examples/Python)    "
   ]
  },
  {
   "cell_type": "markdown",
   "metadata": {},
   "source": [
    "# 4.2.0 Paraview GUI\n",
    "\n",
    "Spuštění `bin/paraview`.\n",
    "\n",
    "Open: `data/cube_p0/flow_fields.pvd`\n",
    "\n",
    "Scéna: 2D/3D, selection, splitting, attribute, show style \n",
    "\n",
    "vlevo: Pipeline, Properties; další panely\n",
    "\n",
    "View, Sources, Filtry"
   ]
  },
  {
   "cell_type": "markdown",
   "metadata": {},
   "source": [
    "# 4.2.1 Client side scripting\n",
    "Pro spuštění paraview skriptů použijte `bin/pvpython`."
   ]
  },
  {
   "cell_type": "markdown",
   "metadata": {},
   "source": [
    "## Simple interactive script\n",
    "\n",
    "Script 'pv_sphere.py'\n",
    "```\n",
    "from paraview.simple import *\n",
    "import vtk\n",
    "\n",
    "# Create a view\n",
    "view = CreateRenderView()\n",
    "\n",
    "# Initialize a new interactive Window\n",
    "iren = vtk.vtkRenderWindowInteractor()\n",
    "iren.SetInteractorStyle(vtk.vtkInteractorStyleTrackball())\n",
    "iren.SetRenderWindow(view.GetRenderWindow())\n",
    "iren.Initialize()\n",
    "\n",
    "#################\n",
    "# Build pipeline\n",
    "\n",
    "# Create a new sphere proxy on the active connection and register it\n",
    "# in the sources group.\n",
    "sphere = Sphere(ThetaResolution=8, PhiResolution=32)\n",
    "\n",
    "# Apply a shrink filter\n",
    "shrink = Shrink(sphere)\n",
    "shrink.ShrinkFactor=0.9\n",
    "\n",
    "# Turn the visiblity of the shrink object on.\n",
    "Show(shrink)\n",
    "\n",
    "# Render the scene\n",
    "Render()\n",
    "\n",
    "# Start interaction\n",
    "iren.Start()\n",
    "```"
   ]
  },
  {
   "cell_type": "markdown",
   "metadata": {},
   "source": [
    "#### Paraview in Jupyter notebooks\n",
    "[gitlab repozitář](https://gitlab.kitware.com/paraview/paraviewjupyterkernel)\n",
    "[tutorial](https://www.kitware.com/paraview-jupyter-notebook/)\n",
    "\n",
    "Nepříliš jednoduchý setup... "
   ]
  },
  {
   "cell_type": "code",
   "execution_count": 1,
   "metadata": {},
   "outputs": [
    {
     "ename": "ModuleNotFoundError",
     "evalue": "No module named 'PVInterface'",
     "output_type": "error",
     "traceback": [
      "\u001b[0;31m---------------------------------------------------------------------------\u001b[0m",
      "\u001b[0;31mModuleNotFoundError\u001b[0m                       Traceback (most recent call last)",
      "Input \u001b[0;32mIn [1]\u001b[0m, in \u001b[0;36m<module>\u001b[0;34m\u001b[0m\n\u001b[0;32m----> 1\u001b[0m \u001b[38;5;28;01mimport\u001b[39;00m \u001b[38;5;21;01mPVInterface\u001b[39;00m \u001b[38;5;28;01mas\u001b[39;00m \u001b[38;5;21;01mpv\u001b[39;00m\n\u001b[1;32m      2\u001b[0m \u001b[38;5;28;01mimport\u001b[39;00m \u001b[38;5;21;01mnumpy\u001b[39;00m \u001b[38;5;28;01mas\u001b[39;00m \u001b[38;5;21;01mnp\u001b[39;00m\n\u001b[1;32m      4\u001b[0m data\u001b[38;5;241m=\u001b[39mnp\u001b[38;5;241m.\u001b[39mzeros(\u001b[38;5;241m2\u001b[39m,\u001b[38;5;241m5\u001b[39m,\u001b[38;5;241m5\u001b[39m)\n",
      "\u001b[0;31mModuleNotFoundError\u001b[0m: No module named 'PVInterface'"
     ]
    }
   ],
   "source": [
    "import PVInterface as pv\n",
    "import numpy as np\n",
    "\n",
    "data=np.zeros(2,5,5)\n",
    "for i in range(5):\n",
    "    data[:,i, :] = i\n",
    "\n",
    "grid = CreateRegularGridFromData(data)\n",
    "\n",
    "Display()"
   ]
  },
  {
   "cell_type": "markdown",
   "metadata": {},
   "source": [
    "# 4.2.2 Server side scripting"
   ]
  },
  {
   "cell_type": "markdown",
   "metadata": {},
   "source": [
    "## Python Calculator filter\n",
    "\n",
    "Unlike  the `Calculator` the `Python Calculator` can operate on more inputs. \n",
    "This is usefull to compute difference between two fields.\n",
    "\n",
    "[Python Calculator overview](https://www.paraview.org/Wiki/Python_calculator_and_programmable_filter)\n",
    "\n",
    "[Python Calculator new overview](https://www.paraview.org/Wiki/index.php?title=Python_Calculator&redirect=no\n",
    "                                )"
   ]
  },
  {
   "cell_type": "markdown",
   "metadata": {},
   "source": [
    "## ProgrammableFilter\n",
    "\n",
    "[ProgrammableFilter examples](https://www.paraview.org/Wiki/Python_Programmable_Filter) - Provides very basic examples, for real work one have to know better the VTK library and figure out how to handle various objects from Python.\n",
    "\n",
    "[Making a custom filter](https://blog.kitware.com/easy-customization-of-the-paraview-python-programmable-filter-property-panel/) - Tutorial about making a XML file wrapping the Programmablefilter script to make your own user interface of your custom filter.\n",
    "\n",
    "**Center Data using Numpy**\n",
    "\n",
    "```\n",
    "from paraview.vtk import dataset_adapter as DA\n",
    "\n",
    "# Get access to the input data.\n",
    "pdi = self.GetInputDataObject(0,0)\n",
    "# Get the output data object.\n",
    "pdo = self.GetOutputDataObject(0)\n",
    "# Copy all fields from input to the output\n",
    "pdo.CopyAttributes(pdi)\n",
    "\n",
    "# Get the mesh points from the input.\n",
    "old_pts = inputs[0].Points\n",
    "# Compute the shifted points, subtrack the barycenter.\n",
    "new_pts = old_pts - mean(old_pts,axis=0)\n",
    "# Create new paraview field.\n",
    "arr = DA.numpyTovtkDataArray(new_pts, 'newpts')\n",
    "# Set new coordinates to the output data.\n",
    "pdo.GetPoints().SetData(arr)\n",
    "```"
   ]
  }
 ],
 "metadata": {
  "kernelspec": {
   "display_name": "Python 3 (ipykernel)",
   "language": "python",
   "name": "python3"
  },
  "language_info": {
   "codemirror_mode": {
    "name": "ipython",
    "version": 3
   },
   "file_extension": ".py",
   "mimetype": "text/x-python",
   "name": "python",
   "nbconvert_exporter": "python",
   "pygments_lexer": "ipython3",
   "version": "3.8.10"
  }
 },
 "nbformat": 4,
 "nbformat_minor": 2
}
