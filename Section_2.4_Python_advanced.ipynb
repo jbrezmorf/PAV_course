{
 "cells": [
  {
   "cell_type": "code",
   "execution_count": 2,
   "metadata": {
    "scrolled": true
   },
   "outputs": [
    {
     "ename": "SyntaxError",
     "evalue": "invalid syntax (151666918.py, line 1)",
     "output_type": "error",
     "traceback": [
      "\u001b[0;36m  Input \u001b[0;32mIn [2]\u001b[0;36m\u001b[0m\n\u001b[0;31m    Témata k programovací seanci:\u001b[0m\n\u001b[0m           ^\u001b[0m\n\u001b[0;31mSyntaxError\u001b[0m\u001b[0;31m:\u001b[0m invalid syntax\n"
     ]
    }
   ],
   "source": [
    "Témata k programovací seanci:\n",
    "    - assert\n",
    "    - komentování\n",
    "    - name conventions\n",
    "    - typování\n",
    "    \n",
    "? IPython undo\n",
    "? IPython copy cells between notebooks\n"
   ]
  },
  {
   "cell_type": "code",
   "execution_count": 15,
   "metadata": {},
   "outputs": [
    {
     "name": "stdout",
     "output_type": "stream",
     "text": [
      "2.5 4.0 True\n"
     ]
    }
   ],
   "source": [
    "class Point:\n",
    "    \n",
    "    @classmethod\n",
    "    def on_line(cls, t:float, a:'Point', b:'Point') -> 'Point':\n",
    "        x = a.x + t*b.x\n",
    "        y = a.y + t*b.y\n",
    "        return cls(x, y)\n",
    "    \n",
    "    def __init__(self, x, y, z=None):\n",
    "        self.x = x\n",
    "        self.y = y\n",
    "        self.z = z\n",
    "\n",
    "aa = Point(1,2)\n",
    "bb = Point.on_line(0.5, Point(1,2), Point(3,4))\n",
    "aa.c = 4\n",
    "print(bb.x, bb.y, hasattr(aa, 'c'))\n"
   ]
  },
  {
   "cell_type": "markdown",
   "metadata": {},
   "source": [
    "# 2.3.2 Třídy\n",
    "\n",
    "- `class` definice\n",
    "- `self` parametr\n",
    "- dědičnost\n",
    "- atributy třídy vs. atributy objektu\n",
    "- `__dict__` - dict obsahující atributy\n",
    "- `hasattr(obj, attr_name)` \n",
    "- knihovna `attrs`\n",
    "\n",
    "\n",
    "... soubor `src/isotopes.py`"
   ]
  },
  {
   "cell_type": "markdown",
   "metadata": {},
   "source": [
    "# 2.3.3 Dekorátory\n",
    "\n"
   ]
  },
  {
   "cell_type": "code",
   "execution_count": 1,
   "metadata": {},
   "outputs": [
    {
     "ename": "FileNotFoundError",
     "evalue": "[Errno 2] No such file or directory: 'decorator_test.yaml'",
     "output_type": "error",
     "traceback": [
      "\u001b[0;31m---------------------------------------------------------------------------\u001b[0m",
      "\u001b[0;31mFileNotFoundError\u001b[0m                         Traceback (most recent call last)",
      "Input \u001b[0;32mIn [1]\u001b[0m, in \u001b[0;36m<module>\u001b[0;34m\u001b[0m\n\u001b[1;32m     13\u001b[0m         \u001b[38;5;28mself\u001b[39m\u001b[38;5;241m.\u001b[39ma \u001b[38;5;241m=\u001b[39m a\n\u001b[1;32m     14\u001b[0m         \u001b[38;5;28mself\u001b[39m\u001b[38;5;241m.\u001b[39mb \u001b[38;5;241m=\u001b[39m b\n\u001b[0;32m---> 16\u001b[0m a \u001b[38;5;241m=\u001b[39m \u001b[43mA\u001b[49m\u001b[38;5;241;43m.\u001b[39;49m\u001b[43mcreate_from_json\u001b[49m\u001b[43m(\u001b[49m\u001b[38;5;124;43m\"\u001b[39;49m\u001b[38;5;124;43mdecorator_test.yaml\u001b[39;49m\u001b[38;5;124;43m\"\u001b[39;49m\u001b[43m)\u001b[49m\n\u001b[1;32m     17\u001b[0m \u001b[38;5;28mprint\u001b[39m(a\u001b[38;5;241m.\u001b[39ma, a\u001b[38;5;241m.\u001b[39mb)\n",
      "Input \u001b[0;32mIn [1]\u001b[0m, in \u001b[0;36mA.create_from_json\u001b[0;34m(cls, fname)\u001b[0m\n\u001b[1;32m      6\u001b[0m \u001b[38;5;129m@classmethod\u001b[39m\n\u001b[1;32m      7\u001b[0m \u001b[38;5;28;01mdef\u001b[39;00m \u001b[38;5;21mcreate_from_json\u001b[39m(\u001b[38;5;28mcls\u001b[39m, fname):\n\u001b[0;32m----> 8\u001b[0m     \u001b[38;5;28;01mwith\u001b[39;00m \u001b[38;5;28;43mopen\u001b[39;49m\u001b[43m(\u001b[49m\u001b[43mfname\u001b[49m\u001b[43m,\u001b[49m\u001b[43m \u001b[49m\u001b[38;5;124;43m\"\u001b[39;49m\u001b[38;5;124;43mr\u001b[39;49m\u001b[38;5;124;43m\"\u001b[39;49m\u001b[43m)\u001b[49m \u001b[38;5;28;01mas\u001b[39;00m f:\n\u001b[1;32m      9\u001b[0m         options \u001b[38;5;241m=\u001b[39m yaml\u001b[38;5;241m.\u001b[39mload(f)\n\u001b[1;32m     10\u001b[0m     \u001b[38;5;28;01mreturn\u001b[39;00m \u001b[38;5;28mcls\u001b[39m(\u001b[38;5;241m*\u001b[39m\u001b[38;5;241m*\u001b[39moptions)\n",
      "\u001b[0;31mFileNotFoundError\u001b[0m: [Errno 2] No such file or directory: 'decorator_test.yaml'"
     ]
    }
   ],
   "source": [
    "import yaml\n",
    "\n",
    "\n",
    "def classmethod(fn):\n",
    "    def g(...):\n",
    "        ... fn\n",
    "    return g\n",
    "\n",
    "class A:\n",
    "    \n",
    "    # Decorator change behavior of the function.\n",
    "    @classmethod\n",
    "    def create_from_json(cls, fname):\n",
    "        with open(fname, \"r\") as f:\n",
    "            options = yaml.load(f)\n",
    "        \n",
    "        return cls(a=**options)\n",
    "    \n",
    "    def __init__(self, a, b):\n",
    "        self.a = a\n",
    "        self.b = b\n",
    "\n",
    "a = A.create_from_json(\"decorator_test.yaml\")\n",
    "print(a.a, a.b)"
   ]
  },
  {
   "cell_type": "code",
   "execution_count": 14,
   "metadata": {},
   "outputs": [
    {
     "name": "stdout",
     "output_type": "stream",
     "text": [
      "Timed (iter): 7.152557373046875e-06 s\n",
      "0.7319774252581913\n",
      "Timed (iter): 2.4318695068359375e-05 s\n",
      "0.7390851332151607\n",
      "Timed (iter): 0.0002703666687011719 s\n",
      "0.7390851332151607\n"
     ]
    }
   ],
   "source": [
    "import time\n",
    "import math\n",
    "# Dekorátor je funkce která vyrábí z funkce jinou funkci.\n",
    "\n",
    "# Změření funkce\n",
    "def timeit(func):\n",
    "    def measured(*args, **kwargs):\n",
    "        t0 = time.time()\n",
    "        result = func(*args, **kwargs)\n",
    "        t1 = time.time()\n",
    "        print(\"Timed ({}): {} s\".format(func.__name__, t1 - t0))\n",
    "        return result\n",
    "    return measured\n",
    "\n",
    "@timeit\n",
    "def iter(x, n):\n",
    "    for i in range(n):\n",
    "        x = math.cos(x)\n",
    "    return x\n",
    "\n",
    "print(iter(0.2, 10))\n",
    "print(iter(0.2, 100))\n",
    "print(iter(0.2, 1000))"
   ]
  },
  {
   "cell_type": "markdown",
   "metadata": {},
   "source": [
    "# 2.3.4 Výjimky\n"
   ]
  },
  {
   "cell_type": "code",
   "execution_count": 16,
   "metadata": {},
   "outputs": [
    {
     "ename": "FileNotFoundError",
     "evalue": "[Errno 2] No such file or directory: 'nofile'",
     "output_type": "error",
     "traceback": [
      "\u001b[0;31m---------------------------------------------------------------------------\u001b[0m",
      "\u001b[0;31mFileNotFoundError\u001b[0m                         Traceback (most recent call last)",
      "\u001b[0;32m<ipython-input-16-fc480652b3e6>\u001b[0m in \u001b[0;36m<module>\u001b[0;34m\u001b[0m\n\u001b[1;32m      1\u001b[0m \u001b[0;31m# Raise FileNotFoundError exception.\u001b[0m\u001b[0;34m\u001b[0m\u001b[0;34m\u001b[0m\u001b[0;34m\u001b[0m\u001b[0m\n\u001b[0;32m----> 2\u001b[0;31m \u001b[0;32mwith\u001b[0m \u001b[0mopen\u001b[0m\u001b[0;34m(\u001b[0m\u001b[0;34m\"nofile\"\u001b[0m\u001b[0;34m,\u001b[0m \u001b[0;34m\"r\"\u001b[0m\u001b[0;34m)\u001b[0m \u001b[0;32mas\u001b[0m \u001b[0mf\u001b[0m\u001b[0;34m:\u001b[0m\u001b[0;34m\u001b[0m\u001b[0;34m\u001b[0m\u001b[0m\n\u001b[0m\u001b[1;32m      3\u001b[0m     \u001b[0mcontent\u001b[0m \u001b[0;34m=\u001b[0m \u001b[0mf\u001b[0m\u001b[0;34m.\u001b[0m\u001b[0mread\u001b[0m\u001b[0;34m(\u001b[0m\u001b[0;34m)\u001b[0m\u001b[0;34m\u001b[0m\u001b[0;34m\u001b[0m\u001b[0m\n",
      "\u001b[0;31mFileNotFoundError\u001b[0m: [Errno 2] No such file or directory: 'nofile'"
     ]
    }
   ],
   "source": [
    "# Raise FileNotFoundError exception.\n",
    "with open(\"nofile\", \"r\") as f:\n",
    "    content = f.read()"
   ]
  },
  {
   "cell_type": "code",
   "execution_count": 22,
   "metadata": {},
   "outputs": [
    {
     "name": "stdout",
     "output_type": "stream",
     "text": [
      "Using default config. File not found: \n",
      "[Errno 2] No such file or directory: 'nofile'\n",
      "a:None b:True\n"
     ]
    }
   ],
   "source": [
    "# Catch FileNotFoundError exception.\n",
    "try:\n",
    "    with open(\"nofile\", \"r\") as f:\n",
    "        content = f.read()\n",
    "except FileNotFoundError as e:\n",
    "    print(\"Using default config. File not found: \")\n",
    "    print(e)\n",
    "    content = \"a:None\\nb:True\"\n",
    "\n",
    "print(yaml.load(content))"
   ]
  },
  {
   "cell_type": "markdown",
   "metadata": {},
   "source": [
    "Výjimky jsou v Pythonu používané i místo předchozího testu pomocí podmínky, \n",
    "jednak jsou výjimky implementovány efektivně a pro vácevláknové programování nevedou k \"race conditions\".\n",
    "\n",
    "Heslo je:\n",
    "\"It's easier to ask forgiveness than it is to get permission.\" (G. M. Hopper)"
   ]
  },
  {
   "cell_type": "code",
   "execution_count": 1,
   "metadata": {},
   "outputs": [
    {
     "ename": "AttributeError",
     "evalue": "module 'posixpath' has no attribute 'file'",
     "output_type": "error",
     "traceback": [
      "\u001b[0;31m---------------------------------------------------------------------------\u001b[0m",
      "\u001b[0;31mAttributeError\u001b[0m                            Traceback (most recent call last)",
      "\u001b[0;32m<ipython-input-1-f976f5d82a6d>\u001b[0m in \u001b[0;36m<module>\u001b[0;34m\u001b[0m\n\u001b[1;32m      3\u001b[0m \u001b[0;34m\u001b[0m\u001b[0m\n\u001b[1;32m      4\u001b[0m \u001b[0mfname\u001b[0m \u001b[0;34m=\u001b[0m \u001b[0;34m\"nofile\"\u001b[0m\u001b[0;34m\u001b[0m\u001b[0;34m\u001b[0m\u001b[0m\n\u001b[0;32m----> 5\u001b[0;31m \u001b[0;32mif\u001b[0m \u001b[0mos\u001b[0m\u001b[0;34m.\u001b[0m\u001b[0mpath\u001b[0m\u001b[0;34m.\u001b[0m\u001b[0mfile\u001b[0m\u001b[0;34m(\u001b[0m\u001b[0mfname\u001b[0m\u001b[0;34m)\u001b[0m\u001b[0;34m:\u001b[0m\u001b[0;34m\u001b[0m\u001b[0;34m\u001b[0m\u001b[0m\n\u001b[0m\u001b[1;32m      6\u001b[0m     \u001b[0;31m# If file is removed right now by other thread we get an error.\u001b[0m\u001b[0;34m\u001b[0m\u001b[0;34m\u001b[0m\u001b[0;34m\u001b[0m\u001b[0m\n\u001b[1;32m      7\u001b[0m     \u001b[0;32mwith\u001b[0m \u001b[0mopen\u001b[0m\u001b[0;34m(\u001b[0m\u001b[0;34m\"nofile\"\u001b[0m\u001b[0;34m,\u001b[0m \u001b[0;34m\"r\"\u001b[0m\u001b[0;34m)\u001b[0m \u001b[0;32mas\u001b[0m \u001b[0mf\u001b[0m\u001b[0;34m:\u001b[0m\u001b[0;34m\u001b[0m\u001b[0;34m\u001b[0m\u001b[0m\n",
      "\u001b[0;31mAttributeError\u001b[0m: module 'posixpath' has no attribute 'file'"
     ]
    }
   ],
   "source": [
    "import os\n",
    "# Condition based code.\n",
    "\n",
    "fname = \"nofile\"\n",
    "if os.path.file(fname):\n",
    "    # If file is removed right now by other thread we get an error.\n",
    "    with open(\"nofile\", \"r\") as f:\n",
    "        content = f.read()\n",
    "else:\n",
    "    print(\"Using default config. File not found: \", fname)\n",
    "    content = \"a:None\\nb:True\"\n",
    "\n",
    "print(yaml.load(content))        \n",
    "\n"
   ]
  },
  {
   "cell_type": "code",
   "execution_count": null,
   "metadata": {},
   "outputs": [],
   "source": [
    "# Další vhodná témata k samostudiu\n",
    "\n",
    "[Třídy](https://www.tutorialspoint.com/python/python_classes_objects.htm) - \n",
    "prakticky nutné pro složitější datové struktury\n",
    "\n",
    "[Regulární výrazy](https://www.tutorialspoint.com/python/python_reg_expressions.htm) - \n",
    "velmi užitečné pro vytahování informací z textových souborů\n"
   ]
  },
  {
   "cell_type": "markdown",
   "metadata": {},
   "source": [
    "# 2.3.4 Unit testy\n",
    "\n",
    "## pytest \n",
    "Vyhledává soubory a v nich funkce a třídy pojmenované:`test_*` nebo `*_test`.\n",
    "Umožňuje jejich spuštění na sadách dat definovaných pomocí dekorátorů.\n",
    "...\n",
    "\n",
    "## tox\n",
    "Provede nainstalování celého balíku pomocí `setup.py` do virtuálního prostředí a teprve tam spouští testy.\n",
    "Testuje tedy i instalaci a chování po ní."
   ]
  },
  {
   "cell_type": "code",
   "execution_count": null,
   "metadata": {},
   "outputs": [],
   "source": [
    "# Profiling\n",
    "\n",
    "# Statistic profiler\n",
    "import statprof\n",
    "statprof.start()\n",
    "\n",
    "# ... some code\n",
    "\n",
    "statprof.stop()\n",
    "statprof.display()\n",
    "\n",
    "\n",
    "# instrumented profiler\n",
    "import cProfile, pstats, io\n",
    "pr = cProfile.Profile()\n",
    "pr.enable()\n",
    "\n",
    "# ... some code\n",
    "\n",
    "pr.disable()\n",
    "s = io.StringIO()\n",
    "sortby = 'cumulative'\n",
    "ps = pstats.Stats(pr, stream=s).sort_stats(sortby)\n",
    "ps.print_stats()\n",
    "print(s.getvalue())"
   ]
  },
  {
   "cell_type": "markdown",
   "metadata": {},
   "source": [
    "# 2.3.5 Typování v Pythonu\n",
    "\n",
    "- `from typing import *`\n",
    "- int, float, bool, ...\n",
    "- `List[<type>]`\n",
    "- `Dict[<key_type>, <val_type>]`\n",
    "- `Any`\n",
    "- zamýšleno pro statickou kontrolu kódu: ... PyCharm \n"
   ]
  },
  {
   "cell_type": "markdown",
   "metadata": {},
   "source": [
    "# 2.3.6 Python a SQL\n",
    "\n",
    "Creating and opearting MySql database: [Tutorial on w3schools](https://www.w3schools.com/python/python_mysql_getstarted.asp) \n",
    "\n",
    "Blog about reading SQL using Pandas: \n",
    "[SQL for data scientist](https://towardsdatascience.com/sql-in-python-for-beginners-b9a4f9293ecf)\n"
   ]
  }
 ],
 "metadata": {
  "kernelspec": {
   "display_name": "Python 3 (ipykernel)",
   "language": "python",
   "name": "python3"
  },
  "language_info": {
   "codemirror_mode": {
    "name": "ipython",
    "version": 3
   },
   "file_extension": ".py",
   "mimetype": "text/x-python",
   "name": "python",
   "nbconvert_exporter": "python",
   "pygments_lexer": "ipython3",
   "version": "3.8.10"
  }
 },
 "nbformat": 4,
 "nbformat_minor": 2
}
